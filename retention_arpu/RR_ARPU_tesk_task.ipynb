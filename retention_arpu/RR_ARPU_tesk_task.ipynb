{
 "cells": [
  {
   "cell_type": "markdown",
   "metadata": {},
   "source": [
    "### Выгрузка из Clickhouse, анализ ARPU и RR по месячным\\недельным\\дневным когортам"
   ]
  },
  {
   "cell_type": "markdown",
   "metadata": {},
   "source": [
    "#  Оглавление  \n",
    "  \n",
    "1. [Выгрузка данных](#выгрузка)  \n",
    "2. [Предобработка](#предобработка)  \n",
    "3. [Анализ ARPU, RR](#анализ)  \n",
    "    3.1. [По месяцам](#месяц)  \n",
    "    3.2. [По неделям](#неделя)  \n",
    "    3.3. [По дням](#день)  \n",
    "4. [Вывод](#вывод)  "
   ]
  },
  {
   "cell_type": "code",
   "execution_count": 3,
   "metadata": {},
   "outputs": [],
   "source": [
    "import clickhouse2pandas as ch2pd\n",
    "import pandas as pd\n",
    "import numpy as np\n",
    "import seaborn as sns\n",
    "import matplotlib.pyplot as plt"
   ]
  },
  {
   "cell_type": "markdown",
   "metadata": {},
   "source": [
    "# Выгрузка <a name='выгрузка'></a>"
   ]
  },
  {
   "cell_type": "code",
   "execution_count": 4,
   "metadata": {},
   "outputs": [],
   "source": [
    "db_config = {'user': 'thanos', \n",
    " 'pwd': 'show_me_your_data', \n",
    " 'host': 'dev-01.aksimemor.me',\n",
    " 'port': 8123, \n",
    " 'db': 'default'} "
   ]
  },
  {
   "cell_type": "code",
   "execution_count": 5,
   "metadata": {},
   "outputs": [],
   "source": [
    "connection_string = 'http://{}:{}@{}:{}/{}'.format(\n",
    " db_config['user'],\n",
    " db_config['pwd'],\n",
    " db_config['host'],\n",
    " db_config['port'],\n",
    " db_config['db'])"
   ]
  },
  {
   "cell_type": "code",
   "execution_count": 6,
   "metadata": {},
   "outputs": [],
   "source": [
    "def select(sql):\n",
    "    return ch2pd.select(connection_string, sql)"
   ]
  },
  {
   "cell_type": "code",
   "execution_count": null,
   "metadata": {},
   "outputs": [],
   "source": [
    "sql = ''' select * from default.marvel'''\n",
    "df = ch2pd.select(connection_string, sql)\n",
    "ch2pd.select(connection_string, sql).to_csv('D:\\\\Python_learning\\\\ПРОЕКТЫ\\\\test_task\\\\full_db.csv')"
   ]
  },
  {
   "cell_type": "markdown",
   "metadata": {},
   "source": [
    "# Предобработка <a name='предобработка'></a>"
   ]
  },
  {
   "cell_type": "code",
   "execution_count": 27,
   "metadata": {},
   "outputs": [],
   "source": [
    "df = pd.read_csv('D:\\\\Python_learning\\\\ПРОЕКТЫ\\\\test_task\\\\full_db.csv')"
   ]
  },
  {
   "cell_type": "code",
   "execution_count": 28,
   "metadata": {},
   "outputs": [
    {
     "data": {
      "text/plain": [
       "(16811210, 15)"
      ]
     },
     "execution_count": 28,
     "metadata": {},
     "output_type": "execute_result"
    }
   ],
   "source": [
    "df.shape"
   ]
  },
  {
   "cell_type": "code",
   "execution_count": 29,
   "metadata": {},
   "outputs": [
    {
     "name": "stdout",
     "output_type": "stream",
     "text": [
      "<class 'pandas.core.frame.DataFrame'>\n",
      "RangeIndex: 16811210 entries, 0 to 16811209\n",
      "Data columns (total 15 columns):\n",
      " #   Column                  Non-Null Count     Dtype  \n",
      "---  ------                  --------------     -----  \n",
      " 0   Unnamed: 0              16811210 non-null  int64  \n",
      " 1   Unnamed: 0.1            16811210 non-null  int64  \n",
      " 2   Unnamed: 0.1.1          16811210 non-null  int64  \n",
      " 3   Unnamed: 0.1.1.1        16811210 non-null  int64  \n",
      " 4   user_id                 16811210 non-null  object \n",
      " 5   installed_at            16811210 non-null  object \n",
      " 6   created_at              16811210 non-null  object \n",
      " 7   day                     16811210 non-null  int64  \n",
      " 8   country                 16811099 non-null  object \n",
      " 9   app_version_short       16811210 non-null  object \n",
      " 10  last_time_spent         16811210 non-null  int64  \n",
      " 11  lifetime_session_count  16811210 non-null  int64  \n",
      " 12  activity_kind           16811210 non-null  object \n",
      " 13  event_name              89247 non-null     object \n",
      " 14  reporting_revenue       16811210 non-null  float64\n",
      "dtypes: float64(1), int64(7), object(7)\n",
      "memory usage: 1.9+ GB\n"
     ]
    }
   ],
   "source": [
    "df.info(show_counts = True)"
   ]
  },
  {
   "cell_type": "markdown",
   "metadata": {},
   "source": [
    "В исходной таблице 16 811 210 строк, пропуски только в стоблце с названием ивента и страны. Даты в столбцах с временем начала сессии\\установки переведем в формат даты. Также, для последующего когортного анализа выделим отдельно столбцы с днем\\неделей\\месяцем установки и сессии. Для поставленной задачи многие столбцы не являются необходимыми, поэтому их удалим, чтобы сократить таблицу. "
   ]
  },
  {
   "cell_type": "code",
   "execution_count": 30,
   "metadata": {},
   "outputs": [],
   "source": [
    "df['installed_at'] = pd.to_datetime(df['installed_at'], format = '%Y-%m-%d %H:%M:%S')"
   ]
  },
  {
   "cell_type": "code",
   "execution_count": 31,
   "metadata": {},
   "outputs": [],
   "source": [
    "df['created_at'] = pd.to_datetime(df['created_at'], format = '%Y-%m-%d %H:%M:%S')"
   ]
  },
  {
   "cell_type": "code",
   "execution_count": 32,
   "metadata": {},
   "outputs": [],
   "source": [
    "df['created_month'] = df['created_at'].astype('datetime64[M]')"
   ]
  },
  {
   "cell_type": "code",
   "execution_count": 33,
   "metadata": {},
   "outputs": [],
   "source": [
    "df['created_week'] = df['created_at'].astype('datetime64[W]')"
   ]
  },
  {
   "cell_type": "code",
   "execution_count": 34,
   "metadata": {},
   "outputs": [],
   "source": [
    "df['created_day'] = df['created_at'].astype('datetime64[D]')"
   ]
  },
  {
   "cell_type": "code",
   "execution_count": 35,
   "metadata": {},
   "outputs": [
    {
     "data": {
      "text/plain": [
       "Index(['Unnamed: 0', 'Unnamed: 0.1', 'Unnamed: 0.1.1', 'Unnamed: 0.1.1.1',\n",
       "       'user_id', 'installed_at', 'created_at', 'day', 'country',\n",
       "       'app_version_short', 'last_time_spent', 'lifetime_session_count',\n",
       "       'activity_kind', 'event_name', 'reporting_revenue', 'created_month',\n",
       "       'created_week', 'created_day'],\n",
       "      dtype='object')"
      ]
     },
     "execution_count": 35,
     "metadata": {},
     "output_type": "execute_result"
    }
   ],
   "source": [
    "df.columns"
   ]
  },
  {
   "cell_type": "code",
   "execution_count": 36,
   "metadata": {},
   "outputs": [],
   "source": [
    "df.drop(['Unnamed: 0', 'Unnamed: 0.1', 'Unnamed: 0.1.1', 'Unnamed: 0.1.1.1'], axis = 1, inplace = True)"
   ]
  },
  {
   "cell_type": "markdown",
   "metadata": {},
   "source": [
    "Проверим на наличие дубликатов"
   ]
  },
  {
   "cell_type": "code",
   "execution_count": 37,
   "metadata": {},
   "outputs": [
    {
     "data": {
      "text/html": [
       "<div>\n",
       "<style scoped>\n",
       "    .dataframe tbody tr th:only-of-type {\n",
       "        vertical-align: middle;\n",
       "    }\n",
       "\n",
       "    .dataframe tbody tr th {\n",
       "        vertical-align: top;\n",
       "    }\n",
       "\n",
       "    .dataframe thead th {\n",
       "        text-align: right;\n",
       "    }\n",
       "</style>\n",
       "<table border=\"1\" class=\"dataframe\">\n",
       "  <thead>\n",
       "    <tr style=\"text-align: right;\">\n",
       "      <th></th>\n",
       "      <th>user_id</th>\n",
       "      <th>installed_at</th>\n",
       "      <th>created_at</th>\n",
       "      <th>day</th>\n",
       "      <th>country</th>\n",
       "      <th>app_version_short</th>\n",
       "      <th>last_time_spent</th>\n",
       "      <th>lifetime_session_count</th>\n",
       "      <th>activity_kind</th>\n",
       "      <th>event_name</th>\n",
       "      <th>reporting_revenue</th>\n",
       "      <th>created_month</th>\n",
       "      <th>created_week</th>\n",
       "      <th>created_day</th>\n",
       "    </tr>\n",
       "  </thead>\n",
       "  <tbody>\n",
       "    <tr>\n",
       "      <th>13713435</th>\n",
       "      <td>0000700f-5b2f-4e21-7ffb-7289e8f4e56a</td>\n",
       "      <td>2020-05-02 11:22:25</td>\n",
       "      <td>2020-05-02 16:25:31</td>\n",
       "      <td>0</td>\n",
       "      <td>ru</td>\n",
       "      <td>2.1.0</td>\n",
       "      <td>1932</td>\n",
       "      <td>2</td>\n",
       "      <td>session</td>\n",
       "      <td>NaN</td>\n",
       "      <td>0.0</td>\n",
       "      <td>2020-05-01</td>\n",
       "      <td>2020-04-30</td>\n",
       "      <td>2020-05-02</td>\n",
       "    </tr>\n",
       "    <tr>\n",
       "      <th>15498683</th>\n",
       "      <td>0000700f-5b2f-4e21-7ffb-7289e8f4e56a</td>\n",
       "      <td>2020-05-02 11:22:25</td>\n",
       "      <td>2020-05-02 16:25:31</td>\n",
       "      <td>0</td>\n",
       "      <td>ru</td>\n",
       "      <td>2.1.0</td>\n",
       "      <td>1932</td>\n",
       "      <td>2</td>\n",
       "      <td>session</td>\n",
       "      <td>NaN</td>\n",
       "      <td>0.0</td>\n",
       "      <td>2020-05-01</td>\n",
       "      <td>2020-04-30</td>\n",
       "      <td>2020-05-02</td>\n",
       "    </tr>\n",
       "    <tr>\n",
       "      <th>13713436</th>\n",
       "      <td>0000700f-5b2f-4e21-7ffb-7289e8f4e56a</td>\n",
       "      <td>2020-05-02 11:22:25</td>\n",
       "      <td>2020-05-02 17:32:02</td>\n",
       "      <td>0</td>\n",
       "      <td>ru</td>\n",
       "      <td>2.1.0</td>\n",
       "      <td>348</td>\n",
       "      <td>3</td>\n",
       "      <td>session</td>\n",
       "      <td>NaN</td>\n",
       "      <td>0.0</td>\n",
       "      <td>2020-05-01</td>\n",
       "      <td>2020-04-30</td>\n",
       "      <td>2020-05-02</td>\n",
       "    </tr>\n",
       "    <tr>\n",
       "      <th>15498684</th>\n",
       "      <td>0000700f-5b2f-4e21-7ffb-7289e8f4e56a</td>\n",
       "      <td>2020-05-02 11:22:25</td>\n",
       "      <td>2020-05-02 17:32:02</td>\n",
       "      <td>0</td>\n",
       "      <td>ru</td>\n",
       "      <td>2.1.0</td>\n",
       "      <td>348</td>\n",
       "      <td>3</td>\n",
       "      <td>session</td>\n",
       "      <td>NaN</td>\n",
       "      <td>0.0</td>\n",
       "      <td>2020-05-01</td>\n",
       "      <td>2020-04-30</td>\n",
       "      <td>2020-05-02</td>\n",
       "    </tr>\n",
       "    <tr>\n",
       "      <th>13713437</th>\n",
       "      <td>0000700f-5b2f-4e21-7ffb-7289e8f4e56a</td>\n",
       "      <td>2020-05-02 11:22:25</td>\n",
       "      <td>2020-05-03 05:49:15</td>\n",
       "      <td>0</td>\n",
       "      <td>ru</td>\n",
       "      <td>2.1.0</td>\n",
       "      <td>328</td>\n",
       "      <td>4</td>\n",
       "      <td>session</td>\n",
       "      <td>NaN</td>\n",
       "      <td>0.0</td>\n",
       "      <td>2020-05-01</td>\n",
       "      <td>2020-04-30</td>\n",
       "      <td>2020-05-03</td>\n",
       "    </tr>\n",
       "    <tr>\n",
       "      <th>15498685</th>\n",
       "      <td>0000700f-5b2f-4e21-7ffb-7289e8f4e56a</td>\n",
       "      <td>2020-05-02 11:22:25</td>\n",
       "      <td>2020-05-03 05:49:15</td>\n",
       "      <td>0</td>\n",
       "      <td>ru</td>\n",
       "      <td>2.1.0</td>\n",
       "      <td>328</td>\n",
       "      <td>4</td>\n",
       "      <td>session</td>\n",
       "      <td>NaN</td>\n",
       "      <td>0.0</td>\n",
       "      <td>2020-05-01</td>\n",
       "      <td>2020-04-30</td>\n",
       "      <td>2020-05-03</td>\n",
       "    </tr>\n",
       "    <tr>\n",
       "      <th>12055440</th>\n",
       "      <td>00007ec1-b4a7-26ab-34ba-8f58c7cd8fd9</td>\n",
       "      <td>2020-04-08 15:33:10</td>\n",
       "      <td>2020-04-11 20:13:54</td>\n",
       "      <td>3</td>\n",
       "      <td>se</td>\n",
       "      <td>1.7.6</td>\n",
       "      <td>1351</td>\n",
       "      <td>2</td>\n",
       "      <td>session</td>\n",
       "      <td>NaN</td>\n",
       "      <td>0.0</td>\n",
       "      <td>2020-04-01</td>\n",
       "      <td>2020-04-09</td>\n",
       "      <td>2020-04-11</td>\n",
       "    </tr>\n",
       "    <tr>\n",
       "      <th>12965263</th>\n",
       "      <td>00007ec1-b4a7-26ab-34ba-8f58c7cd8fd9</td>\n",
       "      <td>2020-04-08 15:33:10</td>\n",
       "      <td>2020-04-11 20:13:54</td>\n",
       "      <td>3</td>\n",
       "      <td>se</td>\n",
       "      <td>1.7.6</td>\n",
       "      <td>1351</td>\n",
       "      <td>2</td>\n",
       "      <td>session</td>\n",
       "      <td>NaN</td>\n",
       "      <td>0.0</td>\n",
       "      <td>2020-04-01</td>\n",
       "      <td>2020-04-09</td>\n",
       "      <td>2020-04-11</td>\n",
       "    </tr>\n",
       "    <tr>\n",
       "      <th>12055441</th>\n",
       "      <td>00007ec1-b4a7-26ab-34ba-8f58c7cd8fd9</td>\n",
       "      <td>2020-04-08 15:33:10</td>\n",
       "      <td>2020-04-13 22:03:29</td>\n",
       "      <td>5</td>\n",
       "      <td>se</td>\n",
       "      <td>1.7.8</td>\n",
       "      <td>765</td>\n",
       "      <td>3</td>\n",
       "      <td>session</td>\n",
       "      <td>NaN</td>\n",
       "      <td>0.0</td>\n",
       "      <td>2020-04-01</td>\n",
       "      <td>2020-04-09</td>\n",
       "      <td>2020-04-13</td>\n",
       "    </tr>\n",
       "    <tr>\n",
       "      <th>12965264</th>\n",
       "      <td>00007ec1-b4a7-26ab-34ba-8f58c7cd8fd9</td>\n",
       "      <td>2020-04-08 15:33:10</td>\n",
       "      <td>2020-04-13 22:03:29</td>\n",
       "      <td>5</td>\n",
       "      <td>se</td>\n",
       "      <td>1.7.8</td>\n",
       "      <td>765</td>\n",
       "      <td>3</td>\n",
       "      <td>session</td>\n",
       "      <td>NaN</td>\n",
       "      <td>0.0</td>\n",
       "      <td>2020-04-01</td>\n",
       "      <td>2020-04-09</td>\n",
       "      <td>2020-04-13</td>\n",
       "    </tr>\n",
       "    <tr>\n",
       "      <th>13583038</th>\n",
       "      <td>0000e02d-0a7f-7ba0-7f46-924f186337bd</td>\n",
       "      <td>2020-05-15 21:12:16</td>\n",
       "      <td>2020-05-16 14:30:30</td>\n",
       "      <td>0</td>\n",
       "      <td>pl</td>\n",
       "      <td>2.1.0</td>\n",
       "      <td>3731</td>\n",
       "      <td>2</td>\n",
       "      <td>session</td>\n",
       "      <td>NaN</td>\n",
       "      <td>0.0</td>\n",
       "      <td>2020-05-01</td>\n",
       "      <td>2020-05-14</td>\n",
       "      <td>2020-05-16</td>\n",
       "    </tr>\n",
       "    <tr>\n",
       "      <th>15368894</th>\n",
       "      <td>0000e02d-0a7f-7ba0-7f46-924f186337bd</td>\n",
       "      <td>2020-05-15 21:12:16</td>\n",
       "      <td>2020-05-16 14:30:30</td>\n",
       "      <td>0</td>\n",
       "      <td>pl</td>\n",
       "      <td>2.1.0</td>\n",
       "      <td>3731</td>\n",
       "      <td>2</td>\n",
       "      <td>session</td>\n",
       "      <td>NaN</td>\n",
       "      <td>0.0</td>\n",
       "      <td>2020-05-01</td>\n",
       "      <td>2020-05-14</td>\n",
       "      <td>2020-05-16</td>\n",
       "    </tr>\n",
       "    <tr>\n",
       "      <th>13583039</th>\n",
       "      <td>0000e02d-0a7f-7ba0-7f46-924f186337bd</td>\n",
       "      <td>2020-05-15 21:12:16</td>\n",
       "      <td>2020-05-16 22:18:53</td>\n",
       "      <td>1</td>\n",
       "      <td>pl</td>\n",
       "      <td>2.1.0</td>\n",
       "      <td>1301</td>\n",
       "      <td>3</td>\n",
       "      <td>session</td>\n",
       "      <td>NaN</td>\n",
       "      <td>0.0</td>\n",
       "      <td>2020-05-01</td>\n",
       "      <td>2020-05-14</td>\n",
       "      <td>2020-05-16</td>\n",
       "    </tr>\n",
       "    <tr>\n",
       "      <th>15368895</th>\n",
       "      <td>0000e02d-0a7f-7ba0-7f46-924f186337bd</td>\n",
       "      <td>2020-05-15 21:12:16</td>\n",
       "      <td>2020-05-16 22:18:53</td>\n",
       "      <td>1</td>\n",
       "      <td>pl</td>\n",
       "      <td>2.1.0</td>\n",
       "      <td>1301</td>\n",
       "      <td>3</td>\n",
       "      <td>session</td>\n",
       "      <td>NaN</td>\n",
       "      <td>0.0</td>\n",
       "      <td>2020-05-01</td>\n",
       "      <td>2020-05-14</td>\n",
       "      <td>2020-05-16</td>\n",
       "    </tr>\n",
       "    <tr>\n",
       "      <th>13583040</th>\n",
       "      <td>0000e02d-0a7f-7ba0-7f46-924f186337bd</td>\n",
       "      <td>2020-05-15 21:12:16</td>\n",
       "      <td>2020-05-17 09:21:43</td>\n",
       "      <td>1</td>\n",
       "      <td>pl</td>\n",
       "      <td>2.1.0</td>\n",
       "      <td>591</td>\n",
       "      <td>4</td>\n",
       "      <td>session</td>\n",
       "      <td>NaN</td>\n",
       "      <td>0.0</td>\n",
       "      <td>2020-05-01</td>\n",
       "      <td>2020-05-14</td>\n",
       "      <td>2020-05-17</td>\n",
       "    </tr>\n",
       "  </tbody>\n",
       "</table>\n",
       "</div>"
      ],
      "text/plain": [
       "                                       user_id        installed_at  \\\n",
       "13713435  0000700f-5b2f-4e21-7ffb-7289e8f4e56a 2020-05-02 11:22:25   \n",
       "15498683  0000700f-5b2f-4e21-7ffb-7289e8f4e56a 2020-05-02 11:22:25   \n",
       "13713436  0000700f-5b2f-4e21-7ffb-7289e8f4e56a 2020-05-02 11:22:25   \n",
       "15498684  0000700f-5b2f-4e21-7ffb-7289e8f4e56a 2020-05-02 11:22:25   \n",
       "13713437  0000700f-5b2f-4e21-7ffb-7289e8f4e56a 2020-05-02 11:22:25   \n",
       "15498685  0000700f-5b2f-4e21-7ffb-7289e8f4e56a 2020-05-02 11:22:25   \n",
       "12055440  00007ec1-b4a7-26ab-34ba-8f58c7cd8fd9 2020-04-08 15:33:10   \n",
       "12965263  00007ec1-b4a7-26ab-34ba-8f58c7cd8fd9 2020-04-08 15:33:10   \n",
       "12055441  00007ec1-b4a7-26ab-34ba-8f58c7cd8fd9 2020-04-08 15:33:10   \n",
       "12965264  00007ec1-b4a7-26ab-34ba-8f58c7cd8fd9 2020-04-08 15:33:10   \n",
       "13583038  0000e02d-0a7f-7ba0-7f46-924f186337bd 2020-05-15 21:12:16   \n",
       "15368894  0000e02d-0a7f-7ba0-7f46-924f186337bd 2020-05-15 21:12:16   \n",
       "13583039  0000e02d-0a7f-7ba0-7f46-924f186337bd 2020-05-15 21:12:16   \n",
       "15368895  0000e02d-0a7f-7ba0-7f46-924f186337bd 2020-05-15 21:12:16   \n",
       "13583040  0000e02d-0a7f-7ba0-7f46-924f186337bd 2020-05-15 21:12:16   \n",
       "\n",
       "                  created_at  day country app_version_short  last_time_spent  \\\n",
       "13713435 2020-05-02 16:25:31    0      ru             2.1.0             1932   \n",
       "15498683 2020-05-02 16:25:31    0      ru             2.1.0             1932   \n",
       "13713436 2020-05-02 17:32:02    0      ru             2.1.0              348   \n",
       "15498684 2020-05-02 17:32:02    0      ru             2.1.0              348   \n",
       "13713437 2020-05-03 05:49:15    0      ru             2.1.0              328   \n",
       "15498685 2020-05-03 05:49:15    0      ru             2.1.0              328   \n",
       "12055440 2020-04-11 20:13:54    3      se             1.7.6             1351   \n",
       "12965263 2020-04-11 20:13:54    3      se             1.7.6             1351   \n",
       "12055441 2020-04-13 22:03:29    5      se             1.7.8              765   \n",
       "12965264 2020-04-13 22:03:29    5      se             1.7.8              765   \n",
       "13583038 2020-05-16 14:30:30    0      pl             2.1.0             3731   \n",
       "15368894 2020-05-16 14:30:30    0      pl             2.1.0             3731   \n",
       "13583039 2020-05-16 22:18:53    1      pl             2.1.0             1301   \n",
       "15368895 2020-05-16 22:18:53    1      pl             2.1.0             1301   \n",
       "13583040 2020-05-17 09:21:43    1      pl             2.1.0              591   \n",
       "\n",
       "          lifetime_session_count activity_kind event_name  reporting_revenue  \\\n",
       "13713435                       2       session        NaN                0.0   \n",
       "15498683                       2       session        NaN                0.0   \n",
       "13713436                       3       session        NaN                0.0   \n",
       "15498684                       3       session        NaN                0.0   \n",
       "13713437                       4       session        NaN                0.0   \n",
       "15498685                       4       session        NaN                0.0   \n",
       "12055440                       2       session        NaN                0.0   \n",
       "12965263                       2       session        NaN                0.0   \n",
       "12055441                       3       session        NaN                0.0   \n",
       "12965264                       3       session        NaN                0.0   \n",
       "13583038                       2       session        NaN                0.0   \n",
       "15368894                       2       session        NaN                0.0   \n",
       "13583039                       3       session        NaN                0.0   \n",
       "15368895                       3       session        NaN                0.0   \n",
       "13583040                       4       session        NaN                0.0   \n",
       "\n",
       "         created_month created_week created_day  \n",
       "13713435    2020-05-01   2020-04-30  2020-05-02  \n",
       "15498683    2020-05-01   2020-04-30  2020-05-02  \n",
       "13713436    2020-05-01   2020-04-30  2020-05-02  \n",
       "15498684    2020-05-01   2020-04-30  2020-05-02  \n",
       "13713437    2020-05-01   2020-04-30  2020-05-03  \n",
       "15498685    2020-05-01   2020-04-30  2020-05-03  \n",
       "12055440    2020-04-01   2020-04-09  2020-04-11  \n",
       "12965263    2020-04-01   2020-04-09  2020-04-11  \n",
       "12055441    2020-04-01   2020-04-09  2020-04-13  \n",
       "12965264    2020-04-01   2020-04-09  2020-04-13  \n",
       "13583038    2020-05-01   2020-05-14  2020-05-16  \n",
       "15368894    2020-05-01   2020-05-14  2020-05-16  \n",
       "13583039    2020-05-01   2020-05-14  2020-05-16  \n",
       "15368895    2020-05-01   2020-05-14  2020-05-16  \n",
       "13583040    2020-05-01   2020-05-14  2020-05-17  "
      ]
     },
     "execution_count": 37,
     "metadata": {},
     "output_type": "execute_result"
    }
   ],
   "source": [
    "df[df.duplicated(keep = False)].sort_values(['user_id', 'created_at']).head(15)"
   ]
  },
  {
   "cell_type": "code",
   "execution_count": 38,
   "metadata": {},
   "outputs": [
    {
     "data": {
      "text/plain": [
       "(5615182, 14)"
      ]
     },
     "execution_count": 38,
     "metadata": {},
     "output_type": "execute_result"
    }
   ],
   "source": [
    "df[df.duplicated(keep = 'first')].shape"
   ]
  },
  {
   "cell_type": "markdown",
   "metadata": {},
   "source": [
    "В датафрейме оказалось больше 5 миллионов дубликатов, удалим их из таблицы"
   ]
  },
  {
   "cell_type": "code",
   "execution_count": 39,
   "metadata": {},
   "outputs": [],
   "source": [
    "df.drop_duplicates(keep = 'first', inplace = True)"
   ]
  },
  {
   "cell_type": "code",
   "execution_count": 40,
   "metadata": {},
   "outputs": [
    {
     "data": {
      "text/plain": [
       "session    11133288\n",
       "event         62740\n",
       "Name: activity_kind, dtype: int64"
      ]
     },
     "execution_count": 40,
     "metadata": {},
     "output_type": "execute_result"
    }
   ],
   "source": [
    "df.activity_kind.value_counts()"
   ]
  },
  {
   "cell_type": "code",
   "execution_count": 41,
   "metadata": {},
   "outputs": [
    {
     "data": {
      "text/plain": [
       "revenue_all    62740\n",
       "Name: event_name, dtype: int64"
      ]
     },
     "execution_count": 41,
     "metadata": {},
     "output_type": "execute_result"
    }
   ],
   "source": [
    "df.event_name.value_counts()"
   ]
  },
  {
   "cell_type": "code",
   "execution_count": 42,
   "metadata": {},
   "outputs": [
    {
     "data": {
      "text/plain": [
       "(62740, 14)"
      ]
     },
     "execution_count": 42,
     "metadata": {},
     "output_type": "execute_result"
    }
   ],
   "source": [
    "df[df.reporting_revenue != 0.0].shape"
   ]
  },
  {
   "cell_type": "markdown",
   "metadata": {},
   "source": [
    "Всего у нас 2 ивента - обычная сессия и \"ивент\", во время которого, судя по всему, происходит оплата. Соответственно, название ивента указано только непосредственно в строках с ивентами, что объясняет пропуски в остальных строках. "
   ]
  },
  {
   "cell_type": "markdown",
   "metadata": {},
   "source": [
    "Посмотрим также, везде ли совпадает кол-во дней в игре с разницей между фактическим временем сессии и датой установки. "
   ]
  },
  {
   "cell_type": "code",
   "execution_count": 43,
   "metadata": {},
   "outputs": [
    {
     "data": {
      "text/html": [
       "<div>\n",
       "<style scoped>\n",
       "    .dataframe tbody tr th:only-of-type {\n",
       "        vertical-align: middle;\n",
       "    }\n",
       "\n",
       "    .dataframe tbody tr th {\n",
       "        vertical-align: top;\n",
       "    }\n",
       "\n",
       "    .dataframe thead th {\n",
       "        text-align: right;\n",
       "    }\n",
       "</style>\n",
       "<table border=\"1\" class=\"dataframe\">\n",
       "  <thead>\n",
       "    <tr style=\"text-align: right;\">\n",
       "      <th></th>\n",
       "      <th>user_id</th>\n",
       "      <th>installed_at</th>\n",
       "      <th>created_at</th>\n",
       "      <th>day</th>\n",
       "      <th>country</th>\n",
       "      <th>app_version_short</th>\n",
       "      <th>last_time_spent</th>\n",
       "      <th>lifetime_session_count</th>\n",
       "      <th>activity_kind</th>\n",
       "      <th>event_name</th>\n",
       "      <th>reporting_revenue</th>\n",
       "      <th>created_month</th>\n",
       "      <th>created_week</th>\n",
       "      <th>created_day</th>\n",
       "    </tr>\n",
       "  </thead>\n",
       "  <tbody>\n",
       "    <tr>\n",
       "      <th>14295492</th>\n",
       "      <td>a101a69a-7813-88c0-de0f-36cbc34f3801</td>\n",
       "      <td>2020-04-02 01:21:12</td>\n",
       "      <td>2020-04-02 01:21:09</td>\n",
       "      <td>0</td>\n",
       "      <td>us</td>\n",
       "      <td>1.7.6</td>\n",
       "      <td>0</td>\n",
       "      <td>1</td>\n",
       "      <td>event</td>\n",
       "      <td>revenue_all</td>\n",
       "      <td>2.99</td>\n",
       "      <td>2020-04-01</td>\n",
       "      <td>2020-04-02</td>\n",
       "      <td>2020-04-02</td>\n",
       "    </tr>\n",
       "  </tbody>\n",
       "</table>\n",
       "</div>"
      ],
      "text/plain": [
       "                                       user_id        installed_at  \\\n",
       "14295492  a101a69a-7813-88c0-de0f-36cbc34f3801 2020-04-02 01:21:12   \n",
       "\n",
       "                  created_at  day country app_version_short  last_time_spent  \\\n",
       "14295492 2020-04-02 01:21:09    0      us             1.7.6                0   \n",
       "\n",
       "          lifetime_session_count activity_kind   event_name  \\\n",
       "14295492                       1         event  revenue_all   \n",
       "\n",
       "          reporting_revenue created_month created_week created_day  \n",
       "14295492               2.99    2020-04-01   2020-04-02  2020-04-02  "
      ]
     },
     "execution_count": 43,
     "metadata": {},
     "output_type": "execute_result"
    }
   ],
   "source": [
    "df[df['day'] != (df.created_at - df.installed_at).dt.days]"
   ]
  },
  {
   "cell_type": "code",
   "execution_count": 44,
   "metadata": {},
   "outputs": [
    {
     "data": {
      "text/html": [
       "<div>\n",
       "<style scoped>\n",
       "    .dataframe tbody tr th:only-of-type {\n",
       "        vertical-align: middle;\n",
       "    }\n",
       "\n",
       "    .dataframe tbody tr th {\n",
       "        vertical-align: top;\n",
       "    }\n",
       "\n",
       "    .dataframe thead th {\n",
       "        text-align: right;\n",
       "    }\n",
       "</style>\n",
       "<table border=\"1\" class=\"dataframe\">\n",
       "  <thead>\n",
       "    <tr style=\"text-align: right;\">\n",
       "      <th></th>\n",
       "      <th>user_id</th>\n",
       "      <th>installed_at</th>\n",
       "      <th>created_at</th>\n",
       "      <th>day</th>\n",
       "      <th>country</th>\n",
       "      <th>app_version_short</th>\n",
       "      <th>last_time_spent</th>\n",
       "      <th>lifetime_session_count</th>\n",
       "      <th>activity_kind</th>\n",
       "      <th>event_name</th>\n",
       "      <th>reporting_revenue</th>\n",
       "      <th>created_month</th>\n",
       "      <th>created_week</th>\n",
       "      <th>created_day</th>\n",
       "    </tr>\n",
       "  </thead>\n",
       "  <tbody>\n",
       "    <tr>\n",
       "      <th>14295492</th>\n",
       "      <td>a101a69a-7813-88c0-de0f-36cbc34f3801</td>\n",
       "      <td>2020-04-02 01:21:12</td>\n",
       "      <td>2020-04-02 01:21:09</td>\n",
       "      <td>0</td>\n",
       "      <td>us</td>\n",
       "      <td>1.7.6</td>\n",
       "      <td>0</td>\n",
       "      <td>1</td>\n",
       "      <td>event</td>\n",
       "      <td>revenue_all</td>\n",
       "      <td>2.99</td>\n",
       "      <td>2020-04-01</td>\n",
       "      <td>2020-04-02</td>\n",
       "      <td>2020-04-02</td>\n",
       "    </tr>\n",
       "  </tbody>\n",
       "</table>\n",
       "</div>"
      ],
      "text/plain": [
       "                                       user_id        installed_at  \\\n",
       "14295492  a101a69a-7813-88c0-de0f-36cbc34f3801 2020-04-02 01:21:12   \n",
       "\n",
       "                  created_at  day country app_version_short  last_time_spent  \\\n",
       "14295492 2020-04-02 01:21:09    0      us             1.7.6                0   \n",
       "\n",
       "          lifetime_session_count activity_kind   event_name  \\\n",
       "14295492                       1         event  revenue_all   \n",
       "\n",
       "          reporting_revenue created_month created_week created_day  \n",
       "14295492               2.99    2020-04-01   2020-04-02  2020-04-02  "
      ]
     },
     "execution_count": 44,
     "metadata": {},
     "output_type": "execute_result"
    }
   ],
   "source": [
    "df[df.created_at < df.installed_at]"
   ]
  },
  {
   "cell_type": "markdown",
   "metadata": {},
   "source": [
    "У одного юзера время сессии по какой-то причине зафиксировано раньше времени установки."
   ]
  },
  {
   "cell_type": "code",
   "execution_count": 45,
   "metadata": {},
   "outputs": [],
   "source": [
    "df.drop(['day', 'country',\n",
    "       'app_version_short', 'last_time_spent', 'lifetime_session_count', 'event_name'], axis = 1, inplace = True)"
   ]
  },
  {
   "cell_type": "code",
   "execution_count": 46,
   "metadata": {},
   "outputs": [
    {
     "data": {
      "text/html": [
       "<div>\n",
       "<style scoped>\n",
       "    .dataframe tbody tr th:only-of-type {\n",
       "        vertical-align: middle;\n",
       "    }\n",
       "\n",
       "    .dataframe tbody tr th {\n",
       "        vertical-align: top;\n",
       "    }\n",
       "\n",
       "    .dataframe thead th {\n",
       "        text-align: right;\n",
       "    }\n",
       "</style>\n",
       "<table border=\"1\" class=\"dataframe\">\n",
       "  <thead>\n",
       "    <tr style=\"text-align: right;\">\n",
       "      <th></th>\n",
       "      <th>user_id</th>\n",
       "      <th>installed_at</th>\n",
       "      <th>created_at</th>\n",
       "      <th>activity_kind</th>\n",
       "      <th>reporting_revenue</th>\n",
       "      <th>created_month</th>\n",
       "      <th>created_week</th>\n",
       "      <th>created_day</th>\n",
       "    </tr>\n",
       "  </thead>\n",
       "  <tbody>\n",
       "    <tr>\n",
       "      <th>0</th>\n",
       "      <td>dfd3e960-ee31-8b26-90c1-621247d8302c</td>\n",
       "      <td>2020-04-13 12:45:42</td>\n",
       "      <td>2020-06-21 18:25:39</td>\n",
       "      <td>session</td>\n",
       "      <td>0.0</td>\n",
       "      <td>2020-06-01</td>\n",
       "      <td>2020-06-18</td>\n",
       "      <td>2020-06-21</td>\n",
       "    </tr>\n",
       "    <tr>\n",
       "      <th>1</th>\n",
       "      <td>dfd3e960-ee31-8b26-90c1-621247d8302c</td>\n",
       "      <td>2020-04-13 12:45:42</td>\n",
       "      <td>2020-06-21 20:57:19</td>\n",
       "      <td>session</td>\n",
       "      <td>0.0</td>\n",
       "      <td>2020-06-01</td>\n",
       "      <td>2020-06-18</td>\n",
       "      <td>2020-06-21</td>\n",
       "    </tr>\n",
       "    <tr>\n",
       "      <th>2</th>\n",
       "      <td>dfd3e960-ee31-8b26-90c1-621247d8302c</td>\n",
       "      <td>2020-04-13 12:45:42</td>\n",
       "      <td>2020-06-22 13:18:58</td>\n",
       "      <td>session</td>\n",
       "      <td>0.0</td>\n",
       "      <td>2020-06-01</td>\n",
       "      <td>2020-06-18</td>\n",
       "      <td>2020-06-22</td>\n",
       "    </tr>\n",
       "    <tr>\n",
       "      <th>3</th>\n",
       "      <td>dfd3e960-ee31-8b26-90c1-621247d8302c</td>\n",
       "      <td>2020-04-13 12:45:42</td>\n",
       "      <td>2020-06-22 22:05:52</td>\n",
       "      <td>session</td>\n",
       "      <td>0.0</td>\n",
       "      <td>2020-06-01</td>\n",
       "      <td>2020-06-18</td>\n",
       "      <td>2020-06-22</td>\n",
       "    </tr>\n",
       "    <tr>\n",
       "      <th>4</th>\n",
       "      <td>dfd3e960-ee31-8b26-90c1-621247d8302c</td>\n",
       "      <td>2020-04-13 12:45:42</td>\n",
       "      <td>2020-06-23 07:41:50</td>\n",
       "      <td>session</td>\n",
       "      <td>0.0</td>\n",
       "      <td>2020-06-01</td>\n",
       "      <td>2020-06-18</td>\n",
       "      <td>2020-06-23</td>\n",
       "    </tr>\n",
       "  </tbody>\n",
       "</table>\n",
       "</div>"
      ],
      "text/plain": [
       "                                user_id        installed_at  \\\n",
       "0  dfd3e960-ee31-8b26-90c1-621247d8302c 2020-04-13 12:45:42   \n",
       "1  dfd3e960-ee31-8b26-90c1-621247d8302c 2020-04-13 12:45:42   \n",
       "2  dfd3e960-ee31-8b26-90c1-621247d8302c 2020-04-13 12:45:42   \n",
       "3  dfd3e960-ee31-8b26-90c1-621247d8302c 2020-04-13 12:45:42   \n",
       "4  dfd3e960-ee31-8b26-90c1-621247d8302c 2020-04-13 12:45:42   \n",
       "\n",
       "           created_at activity_kind  reporting_revenue created_month  \\\n",
       "0 2020-06-21 18:25:39       session                0.0    2020-06-01   \n",
       "1 2020-06-21 20:57:19       session                0.0    2020-06-01   \n",
       "2 2020-06-22 13:18:58       session                0.0    2020-06-01   \n",
       "3 2020-06-22 22:05:52       session                0.0    2020-06-01   \n",
       "4 2020-06-23 07:41:50       session                0.0    2020-06-01   \n",
       "\n",
       "  created_week created_day  \n",
       "0   2020-06-18  2020-06-21  \n",
       "1   2020-06-18  2020-06-21  \n",
       "2   2020-06-18  2020-06-22  \n",
       "3   2020-06-18  2020-06-22  \n",
       "4   2020-06-18  2020-06-23  "
      ]
     },
     "execution_count": 46,
     "metadata": {},
     "output_type": "execute_result"
    }
   ],
   "source": [
    "df.head()"
   ]
  },
  {
   "cell_type": "code",
   "execution_count": 47,
   "metadata": {},
   "outputs": [
    {
     "data": {
      "text/plain": [
       "Timestamp('2019-12-16 08:33:30')"
      ]
     },
     "execution_count": 47,
     "metadata": {},
     "output_type": "execute_result"
    }
   ],
   "source": [
    "df.installed_at.min()"
   ]
  },
  {
   "cell_type": "code",
   "execution_count": 48,
   "metadata": {},
   "outputs": [
    {
     "data": {
      "text/plain": [
       "Timestamp('2020-07-01 23:16:03')"
      ]
     },
     "execution_count": 48,
     "metadata": {},
     "output_type": "execute_result"
    }
   ],
   "source": [
    "df.installed_at.max()"
   ]
  },
  {
   "cell_type": "markdown",
   "metadata": {},
   "source": [
    "Временной промежуток таблицы - с 16 декабря 2019 года по 01 июля 2020 года."
   ]
  },
  {
   "cell_type": "markdown",
   "metadata": {},
   "source": [
    "Проверим дату установки"
   ]
  },
  {
   "cell_type": "code",
   "execution_count": 49,
   "metadata": {},
   "outputs": [
    {
     "data": {
      "text/plain": [
       "False    1454249\n",
       "True          84\n",
       "Name: installed_at, dtype: int64"
      ]
     },
     "execution_count": 49,
     "metadata": {},
     "output_type": "execute_result"
    }
   ],
   "source": [
    "(df.groupby('user_id')['installed_at'].nunique() > 1).value_counts()"
   ]
  },
  {
   "cell_type": "markdown",
   "metadata": {},
   "source": [
    "У 84 пользователей есть более 1 зафиксированной даты установки. Возможно, они удаляли и заново скачивали игру. "
   ]
  },
  {
   "cell_type": "code",
   "execution_count": 50,
   "metadata": {},
   "outputs": [
    {
     "data": {
      "text/plain": [
       "count    62740.000000\n",
       "mean         9.036146\n",
       "std          7.932318\n",
       "min          1.512512\n",
       "25%          4.990000\n",
       "50%          7.758103\n",
       "75%         10.990000\n",
       "max         66.210210\n",
       "Name: reporting_revenue, dtype: float64"
      ]
     },
     "execution_count": 50,
     "metadata": {},
     "output_type": "execute_result"
    }
   ],
   "source": [
    "df[df.reporting_revenue != 0]['reporting_revenue'].describe()"
   ]
  },
  {
   "cell_type": "code",
   "execution_count": 51,
   "metadata": {},
   "outputs": [
    {
     "data": {
      "image/png": "[encoded data removed]",
      "text/plain": [
       "<Figure size 1080x720 with 1 Axes>"
      ]
     },
     "metadata": {
      "needs_background": "light"
     },
     "output_type": "display_data"
    }
   ],
   "source": [
    "fig, ax = plt.subplots(figsize=(15,10))\n",
    "\n",
    "sns.boxplot(x='reporting_revenue',  data=df[df.reporting_revenue != 0])\n",
    "\n",
    "ax.set_xlabel('д.е.', fontsize=14)\n",
    "ax.set_ylabel('выручка', fontsize=14)\n",
    "plt.xticks(rotation=45)\n",
    "ax.set_title('диаграмма распределения выручки', fontsize=18)\n",
    "plt.show()"
   ]
  },
  {
   "cell_type": "code",
   "execution_count": 52,
   "metadata": {},
   "outputs": [
    {
     "data": {
      "text/plain": [
       "array([21.1392726, 52.100292 ])"
      ]
     },
     "execution_count": 52,
     "metadata": {},
     "output_type": "execute_result"
    }
   ],
   "source": [
    "np.percentile(df[df.reporting_revenue != 0]['reporting_revenue'], [95, 99])"
   ]
  },
  {
   "cell_type": "code",
   "execution_count": 53,
   "metadata": {},
   "outputs": [
    {
     "data": {
      "text/plain": [
       "(3181, 8)"
      ]
     },
     "execution_count": 53,
     "metadata": {},
     "output_type": "execute_result"
    }
   ],
   "source": [
    "df[df.reporting_revenue >21].shape"
   ]
  },
  {
   "cell_type": "markdown",
   "metadata": {},
   "source": [
    "95% оплат находятся в диапазоне до 21 д.е., но есть и события, когда было потрачено до 60 д.е. "
   ]
  },
  {
   "cell_type": "markdown",
   "metadata": {},
   "source": [
    "# Когортный анализ ARPU и Retention Rate <a name='анализ'></a>"
   ]
  },
  {
   "cell_type": "markdown",
   "metadata": {},
   "source": [
    "### По месяцам <a name='месяц'></a>"
   ]
  },
  {
   "cell_type": "markdown",
   "metadata": {},
   "source": [
    "Выделим месяц первой сессии для каждого пользователя. Стоит отметить, что есть пользователи, у которых есть большой промежуток между датой установки и датой первой сессии. Но За первоначальную дату будем брать именно первую сессию, т.к. это первое знакомство пользователя с продуктом."
   ]
  },
  {
   "cell_type": "code",
   "execution_count": 54,
   "metadata": {},
   "outputs": [],
   "source": [
    "first_month = df.groupby(['user_id'])['created_month'].min()"
   ]
  },
  {
   "cell_type": "code",
   "execution_count": 55,
   "metadata": {},
   "outputs": [
    {
     "data": {
      "text/plain": [
       "user_id\n",
       "00000d13-a60b-d8a5-372c-6ac3338d9532   2020-05-01\n",
       "000021ca-20bf-8f73-7298-88d4091c0b43   2020-04-01\n",
       "00003734-81ef-7a1d-e4c9-f984bf2bc8bc   2020-05-01\n",
       "00004cea-3621-30ef-db24-1e52d001449b   2020-04-01\n",
       "00005b7d-52a7-2280-be8e-a932155dd075   2020-06-01\n",
       "Name: created_month, dtype: datetime64[ns]"
      ]
     },
     "execution_count": 55,
     "metadata": {},
     "output_type": "execute_result"
    }
   ],
   "source": [
    "first_month.head()"
   ]
  },
  {
   "cell_type": "code",
   "execution_count": 56,
   "metadata": {},
   "outputs": [],
   "source": [
    "first_month.name = 'first_month'"
   ]
  },
  {
   "cell_type": "code",
   "execution_count": 57,
   "metadata": {},
   "outputs": [],
   "source": [
    "#добавляем его столбцом к основной таблице\n",
    "df = df.join(first_month,on='user_id') "
   ]
  },
  {
   "cell_type": "code",
   "execution_count": 58,
   "metadata": {},
   "outputs": [],
   "source": [
    "#считаем, сколько месяцев прошло на момент каждой сессии\n",
    "df['lifetime'] = (df['created_month'] - df['first_month']) / np.timedelta64(1,'M')\n",
    "df['lifetime'] = df['lifetime'].apply(np.round).astype('int64')"
   ]
  },
  {
   "cell_type": "code",
   "execution_count": 59,
   "metadata": {},
   "outputs": [
    {
     "data": {
      "text/html": [
       "<div>\n",
       "<style scoped>\n",
       "    .dataframe tbody tr th:only-of-type {\n",
       "        vertical-align: middle;\n",
       "    }\n",
       "\n",
       "    .dataframe tbody tr th {\n",
       "        vertical-align: top;\n",
       "    }\n",
       "\n",
       "    .dataframe thead th {\n",
       "        text-align: right;\n",
       "    }\n",
       "</style>\n",
       "<table border=\"1\" class=\"dataframe\">\n",
       "  <thead>\n",
       "    <tr style=\"text-align: right;\">\n",
       "      <th></th>\n",
       "      <th>user_id</th>\n",
       "      <th>installed_at</th>\n",
       "      <th>created_at</th>\n",
       "      <th>activity_kind</th>\n",
       "      <th>reporting_revenue</th>\n",
       "      <th>created_month</th>\n",
       "      <th>created_week</th>\n",
       "      <th>created_day</th>\n",
       "      <th>first_month</th>\n",
       "      <th>lifetime</th>\n",
       "    </tr>\n",
       "  </thead>\n",
       "  <tbody>\n",
       "    <tr>\n",
       "      <th>0</th>\n",
       "      <td>dfd3e960-ee31-8b26-90c1-621247d8302c</td>\n",
       "      <td>2020-04-13 12:45:42</td>\n",
       "      <td>2020-06-21 18:25:39</td>\n",
       "      <td>session</td>\n",
       "      <td>0.0</td>\n",
       "      <td>2020-06-01</td>\n",
       "      <td>2020-06-18</td>\n",
       "      <td>2020-06-21</td>\n",
       "      <td>2020-04-01</td>\n",
       "      <td>2</td>\n",
       "    </tr>\n",
       "    <tr>\n",
       "      <th>1</th>\n",
       "      <td>dfd3e960-ee31-8b26-90c1-621247d8302c</td>\n",
       "      <td>2020-04-13 12:45:42</td>\n",
       "      <td>2020-06-21 20:57:19</td>\n",
       "      <td>session</td>\n",
       "      <td>0.0</td>\n",
       "      <td>2020-06-01</td>\n",
       "      <td>2020-06-18</td>\n",
       "      <td>2020-06-21</td>\n",
       "      <td>2020-04-01</td>\n",
       "      <td>2</td>\n",
       "    </tr>\n",
       "    <tr>\n",
       "      <th>2</th>\n",
       "      <td>dfd3e960-ee31-8b26-90c1-621247d8302c</td>\n",
       "      <td>2020-04-13 12:45:42</td>\n",
       "      <td>2020-06-22 13:18:58</td>\n",
       "      <td>session</td>\n",
       "      <td>0.0</td>\n",
       "      <td>2020-06-01</td>\n",
       "      <td>2020-06-18</td>\n",
       "      <td>2020-06-22</td>\n",
       "      <td>2020-04-01</td>\n",
       "      <td>2</td>\n",
       "    </tr>\n",
       "    <tr>\n",
       "      <th>3</th>\n",
       "      <td>dfd3e960-ee31-8b26-90c1-621247d8302c</td>\n",
       "      <td>2020-04-13 12:45:42</td>\n",
       "      <td>2020-06-22 22:05:52</td>\n",
       "      <td>session</td>\n",
       "      <td>0.0</td>\n",
       "      <td>2020-06-01</td>\n",
       "      <td>2020-06-18</td>\n",
       "      <td>2020-06-22</td>\n",
       "      <td>2020-04-01</td>\n",
       "      <td>2</td>\n",
       "    </tr>\n",
       "    <tr>\n",
       "      <th>4</th>\n",
       "      <td>dfd3e960-ee31-8b26-90c1-621247d8302c</td>\n",
       "      <td>2020-04-13 12:45:42</td>\n",
       "      <td>2020-06-23 07:41:50</td>\n",
       "      <td>session</td>\n",
       "      <td>0.0</td>\n",
       "      <td>2020-06-01</td>\n",
       "      <td>2020-06-18</td>\n",
       "      <td>2020-06-23</td>\n",
       "      <td>2020-04-01</td>\n",
       "      <td>2</td>\n",
       "    </tr>\n",
       "  </tbody>\n",
       "</table>\n",
       "</div>"
      ],
      "text/plain": [
       "                                user_id        installed_at  \\\n",
       "0  dfd3e960-ee31-8b26-90c1-621247d8302c 2020-04-13 12:45:42   \n",
       "1  dfd3e960-ee31-8b26-90c1-621247d8302c 2020-04-13 12:45:42   \n",
       "2  dfd3e960-ee31-8b26-90c1-621247d8302c 2020-04-13 12:45:42   \n",
       "3  dfd3e960-ee31-8b26-90c1-621247d8302c 2020-04-13 12:45:42   \n",
       "4  dfd3e960-ee31-8b26-90c1-621247d8302c 2020-04-13 12:45:42   \n",
       "\n",
       "           created_at activity_kind  reporting_revenue created_month  \\\n",
       "0 2020-06-21 18:25:39       session                0.0    2020-06-01   \n",
       "1 2020-06-21 20:57:19       session                0.0    2020-06-01   \n",
       "2 2020-06-22 13:18:58       session                0.0    2020-06-01   \n",
       "3 2020-06-22 22:05:52       session                0.0    2020-06-01   \n",
       "4 2020-06-23 07:41:50       session                0.0    2020-06-01   \n",
       "\n",
       "  created_week created_day first_month  lifetime  \n",
       "0   2020-06-18  2020-06-21  2020-04-01         2  \n",
       "1   2020-06-18  2020-06-21  2020-04-01         2  \n",
       "2   2020-06-18  2020-06-22  2020-04-01         2  \n",
       "3   2020-06-18  2020-06-22  2020-04-01         2  \n",
       "4   2020-06-18  2020-06-23  2020-04-01         2  "
      ]
     },
     "execution_count": 59,
     "metadata": {},
     "output_type": "execute_result"
    }
   ],
   "source": [
    "df.head()"
   ]
  },
  {
   "cell_type": "markdown",
   "metadata": {},
   "source": [
    "Теперь сгруппируем когорты по месяцам и посчитаем, сколько было уникальных пользователей и прибыли на каждый последующий месяц "
   ]
  },
  {
   "cell_type": "code",
   "execution_count": 60,
   "metadata": {},
   "outputs": [],
   "source": [
    "cohorts = df.groupby(['first_month','lifetime']).agg({'user_id':'nunique', 'reporting_revenue' : 'sum'}).reset_index() "
   ]
  },
  {
   "cell_type": "code",
   "execution_count": 61,
   "metadata": {},
   "outputs": [
    {
     "data": {
      "text/html": [
       "<div>\n",
       "<style scoped>\n",
       "    .dataframe tbody tr th:only-of-type {\n",
       "        vertical-align: middle;\n",
       "    }\n",
       "\n",
       "    .dataframe tbody tr th {\n",
       "        vertical-align: top;\n",
       "    }\n",
       "\n",
       "    .dataframe thead th {\n",
       "        text-align: right;\n",
       "    }\n",
       "</style>\n",
       "<table border=\"1\" class=\"dataframe\">\n",
       "  <thead>\n",
       "    <tr style=\"text-align: right;\">\n",
       "      <th></th>\n",
       "      <th>first_month</th>\n",
       "      <th>lifetime</th>\n",
       "      <th>user_id</th>\n",
       "      <th>reporting_revenue</th>\n",
       "    </tr>\n",
       "  </thead>\n",
       "  <tbody>\n",
       "    <tr>\n",
       "      <th>0</th>\n",
       "      <td>2020-01-01</td>\n",
       "      <td>0</td>\n",
       "      <td>329</td>\n",
       "      <td>22477.865528</td>\n",
       "    </tr>\n",
       "    <tr>\n",
       "      <th>1</th>\n",
       "      <td>2020-01-01</td>\n",
       "      <td>1</td>\n",
       "      <td>24</td>\n",
       "      <td>554.364743</td>\n",
       "    </tr>\n",
       "    <tr>\n",
       "      <th>2</th>\n",
       "      <td>2020-01-01</td>\n",
       "      <td>2</td>\n",
       "      <td>7</td>\n",
       "      <td>1616.484395</td>\n",
       "    </tr>\n",
       "    <tr>\n",
       "      <th>3</th>\n",
       "      <td>2020-01-01</td>\n",
       "      <td>3</td>\n",
       "      <td>6</td>\n",
       "      <td>780.803756</td>\n",
       "    </tr>\n",
       "    <tr>\n",
       "      <th>4</th>\n",
       "      <td>2020-01-01</td>\n",
       "      <td>4</td>\n",
       "      <td>14</td>\n",
       "      <td>613.151957</td>\n",
       "    </tr>\n",
       "  </tbody>\n",
       "</table>\n",
       "</div>"
      ],
      "text/plain": [
       "  first_month  lifetime  user_id  reporting_revenue\n",
       "0  2020-01-01         0      329       22477.865528\n",
       "1  2020-01-01         1       24         554.364743\n",
       "2  2020-01-01         2        7        1616.484395\n",
       "3  2020-01-01         3        6         780.803756\n",
       "4  2020-01-01         4       14         613.151957"
      ]
     },
     "execution_count": 61,
     "metadata": {},
     "output_type": "execute_result"
    }
   ],
   "source": [
    "cohorts.head()"
   ]
  },
  {
   "cell_type": "markdown",
   "metadata": {},
   "source": [
    "Проверяем, сходятся ли данные по прибыли после произведенных операций"
   ]
  },
  {
   "cell_type": "code",
   "execution_count": 62,
   "metadata": {},
   "outputs": [],
   "source": [
    "def revenue_check(data, cohort_data):\n",
    "    diff = data['reporting_revenue'].sum().round() - cohort_data['reporting_revenue'].sum().round()\n",
    "    if diff == 0:\n",
    "        print('все сходится')\n",
    "    else:\n",
    "        print('разница составляет: {}'.format(diff))"
   ]
  },
  {
   "cell_type": "code",
   "execution_count": 63,
   "metadata": {},
   "outputs": [
    {
     "name": "stdout",
     "output_type": "stream",
     "text": [
      "все сходится\n"
     ]
    }
   ],
   "source": [
    "revenue_check(df, cohorts)"
   ]
  },
  {
   "cell_type": "code",
   "execution_count": 64,
   "metadata": {},
   "outputs": [],
   "source": [
    "#округляем\n",
    "cohorts['reporting_revenue'] = cohorts['reporting_revenue'].apply(lambda x:round(x,2))"
   ]
  },
  {
   "cell_type": "code",
   "execution_count": 65,
   "metadata": {},
   "outputs": [
    {
     "data": {
      "text/html": [
       "<div>\n",
       "<style scoped>\n",
       "    .dataframe tbody tr th:only-of-type {\n",
       "        vertical-align: middle;\n",
       "    }\n",
       "\n",
       "    .dataframe tbody tr th {\n",
       "        vertical-align: top;\n",
       "    }\n",
       "\n",
       "    .dataframe thead th {\n",
       "        text-align: right;\n",
       "    }\n",
       "</style>\n",
       "<table border=\"1\" class=\"dataframe\">\n",
       "  <thead>\n",
       "    <tr style=\"text-align: right;\">\n",
       "      <th></th>\n",
       "      <th>first_month</th>\n",
       "      <th>lifetime</th>\n",
       "      <th>user_id</th>\n",
       "      <th>reporting_revenue</th>\n",
       "    </tr>\n",
       "  </thead>\n",
       "  <tbody>\n",
       "    <tr>\n",
       "      <th>0</th>\n",
       "      <td>2020-01-01</td>\n",
       "      <td>0</td>\n",
       "      <td>329</td>\n",
       "      <td>22477.87</td>\n",
       "    </tr>\n",
       "    <tr>\n",
       "      <th>1</th>\n",
       "      <td>2020-01-01</td>\n",
       "      <td>1</td>\n",
       "      <td>24</td>\n",
       "      <td>554.36</td>\n",
       "    </tr>\n",
       "    <tr>\n",
       "      <th>2</th>\n",
       "      <td>2020-01-01</td>\n",
       "      <td>2</td>\n",
       "      <td>7</td>\n",
       "      <td>1616.48</td>\n",
       "    </tr>\n",
       "    <tr>\n",
       "      <th>3</th>\n",
       "      <td>2020-01-01</td>\n",
       "      <td>3</td>\n",
       "      <td>6</td>\n",
       "      <td>780.80</td>\n",
       "    </tr>\n",
       "    <tr>\n",
       "      <th>4</th>\n",
       "      <td>2020-01-01</td>\n",
       "      <td>4</td>\n",
       "      <td>14</td>\n",
       "      <td>613.15</td>\n",
       "    </tr>\n",
       "  </tbody>\n",
       "</table>\n",
       "</div>"
      ],
      "text/plain": [
       "  first_month  lifetime  user_id  reporting_revenue\n",
       "0  2020-01-01         0      329           22477.87\n",
       "1  2020-01-01         1       24             554.36\n",
       "2  2020-01-01         2        7            1616.48\n",
       "3  2020-01-01         3        6             780.80\n",
       "4  2020-01-01         4       14             613.15"
      ]
     },
     "execution_count": 65,
     "metadata": {},
     "output_type": "execute_result"
    }
   ],
   "source": [
    "cohorts.head()"
   ]
  },
  {
   "cell_type": "markdown",
   "metadata": {},
   "source": [
    "Отдельно считаем, сколько вообще пользователей в каждой когорте. Т.е. общее кол-во человек, который зашли в игру в определенный месяц. И добавляем это столбцом к предыдущей таблице"
   ]
  },
  {
   "cell_type": "code",
   "execution_count": 66,
   "metadata": {},
   "outputs": [],
   "source": [
    "cohort_users = df.groupby(['first_month']).agg({'user_id':'nunique'}).reset_index()"
   ]
  },
  {
   "cell_type": "code",
   "execution_count": 67,
   "metadata": {},
   "outputs": [
    {
     "data": {
      "text/html": [
       "<div>\n",
       "<style scoped>\n",
       "    .dataframe tbody tr th:only-of-type {\n",
       "        vertical-align: middle;\n",
       "    }\n",
       "\n",
       "    .dataframe tbody tr th {\n",
       "        vertical-align: top;\n",
       "    }\n",
       "\n",
       "    .dataframe thead th {\n",
       "        text-align: right;\n",
       "    }\n",
       "</style>\n",
       "<table border=\"1\" class=\"dataframe\">\n",
       "  <thead>\n",
       "    <tr style=\"text-align: right;\">\n",
       "      <th></th>\n",
       "      <th>first_month</th>\n",
       "      <th>user_id</th>\n",
       "    </tr>\n",
       "  </thead>\n",
       "  <tbody>\n",
       "    <tr>\n",
       "      <th>0</th>\n",
       "      <td>2020-01-01</td>\n",
       "      <td>329</td>\n",
       "    </tr>\n",
       "    <tr>\n",
       "      <th>1</th>\n",
       "      <td>2020-02-01</td>\n",
       "      <td>5232</td>\n",
       "    </tr>\n",
       "    <tr>\n",
       "      <th>2</th>\n",
       "      <td>2020-03-01</td>\n",
       "      <td>77526</td>\n",
       "    </tr>\n",
       "    <tr>\n",
       "      <th>3</th>\n",
       "      <td>2020-04-01</td>\n",
       "      <td>542851</td>\n",
       "    </tr>\n",
       "    <tr>\n",
       "      <th>4</th>\n",
       "      <td>2020-05-01</td>\n",
       "      <td>485144</td>\n",
       "    </tr>\n",
       "  </tbody>\n",
       "</table>\n",
       "</div>"
      ],
      "text/plain": [
       "  first_month  user_id\n",
       "0  2020-01-01      329\n",
       "1  2020-02-01     5232\n",
       "2  2020-03-01    77526\n",
       "3  2020-04-01   542851\n",
       "4  2020-05-01   485144"
      ]
     },
     "execution_count": 67,
     "metadata": {},
     "output_type": "execute_result"
    }
   ],
   "source": [
    "cohort_users.head()"
   ]
  },
  {
   "cell_type": "code",
   "execution_count": 68,
   "metadata": {},
   "outputs": [
    {
     "data": {
      "text/plain": [
       "0"
      ]
     },
     "execution_count": 68,
     "metadata": {},
     "output_type": "execute_result"
    }
   ],
   "source": [
    "cohort_users['user_id'].sum() - df['user_id'].nunique()"
   ]
  },
  {
   "cell_type": "code",
   "execution_count": 69,
   "metadata": {},
   "outputs": [],
   "source": [
    "cohort_users = cohort_users.rename(columns={'user_id':'cohort_users'}) "
   ]
  },
  {
   "cell_type": "code",
   "execution_count": 70,
   "metadata": {},
   "outputs": [],
   "source": [
    "cohorts = cohorts.merge(cohort_users,on='first_month')"
   ]
  },
  {
   "cell_type": "markdown",
   "metadata": {},
   "source": [
    "Теперь можно посчитать целевые метрики.  \n",
    "ARPU , отношение полученной прибыли к кол-ву пользователей  \n",
    "Retention Rate , отношение кол-ва уникальных пользователей в определенный месяц лайфтайм к общему числу пользователей в когорте."
   ]
  },
  {
   "cell_type": "code",
   "execution_count": 71,
   "metadata": {},
   "outputs": [],
   "source": [
    "cohorts['retention'] = cohorts['user_id']/cohorts['cohort_users'] "
   ]
  },
  {
   "cell_type": "code",
   "execution_count": 72,
   "metadata": {},
   "outputs": [],
   "source": [
    "cohorts['arpu'] = cohorts.reporting_revenue / cohorts.cohort_users"
   ]
  },
  {
   "cell_type": "code",
   "execution_count": 73,
   "metadata": {},
   "outputs": [
    {
     "data": {
      "text/html": [
       "<div>\n",
       "<style scoped>\n",
       "    .dataframe tbody tr th:only-of-type {\n",
       "        vertical-align: middle;\n",
       "    }\n",
       "\n",
       "    .dataframe tbody tr th {\n",
       "        vertical-align: top;\n",
       "    }\n",
       "\n",
       "    .dataframe thead th {\n",
       "        text-align: right;\n",
       "    }\n",
       "</style>\n",
       "<table border=\"1\" class=\"dataframe\">\n",
       "  <thead>\n",
       "    <tr style=\"text-align: right;\">\n",
       "      <th></th>\n",
       "      <th>first_month</th>\n",
       "      <th>lifetime</th>\n",
       "      <th>user_id</th>\n",
       "      <th>reporting_revenue</th>\n",
       "      <th>cohort_users</th>\n",
       "      <th>retention</th>\n",
       "      <th>arpu</th>\n",
       "    </tr>\n",
       "  </thead>\n",
       "  <tbody>\n",
       "    <tr>\n",
       "      <th>0</th>\n",
       "      <td>2020-01-01</td>\n",
       "      <td>0</td>\n",
       "      <td>329</td>\n",
       "      <td>22477.87</td>\n",
       "      <td>329</td>\n",
       "      <td>1.000000</td>\n",
       "      <td>68.321793</td>\n",
       "    </tr>\n",
       "    <tr>\n",
       "      <th>1</th>\n",
       "      <td>2020-01-01</td>\n",
       "      <td>1</td>\n",
       "      <td>24</td>\n",
       "      <td>554.36</td>\n",
       "      <td>329</td>\n",
       "      <td>0.072948</td>\n",
       "      <td>1.684985</td>\n",
       "    </tr>\n",
       "    <tr>\n",
       "      <th>2</th>\n",
       "      <td>2020-01-01</td>\n",
       "      <td>2</td>\n",
       "      <td>7</td>\n",
       "      <td>1616.48</td>\n",
       "      <td>329</td>\n",
       "      <td>0.021277</td>\n",
       "      <td>4.913313</td>\n",
       "    </tr>\n",
       "    <tr>\n",
       "      <th>3</th>\n",
       "      <td>2020-01-01</td>\n",
       "      <td>3</td>\n",
       "      <td>6</td>\n",
       "      <td>780.80</td>\n",
       "      <td>329</td>\n",
       "      <td>0.018237</td>\n",
       "      <td>2.373252</td>\n",
       "    </tr>\n",
       "    <tr>\n",
       "      <th>4</th>\n",
       "      <td>2020-01-01</td>\n",
       "      <td>4</td>\n",
       "      <td>14</td>\n",
       "      <td>613.15</td>\n",
       "      <td>329</td>\n",
       "      <td>0.042553</td>\n",
       "      <td>1.863678</td>\n",
       "    </tr>\n",
       "  </tbody>\n",
       "</table>\n",
       "</div>"
      ],
      "text/plain": [
       "  first_month  lifetime  user_id  reporting_revenue  cohort_users  retention  \\\n",
       "0  2020-01-01         0      329           22477.87           329   1.000000   \n",
       "1  2020-01-01         1       24             554.36           329   0.072948   \n",
       "2  2020-01-01         2        7            1616.48           329   0.021277   \n",
       "3  2020-01-01         3        6             780.80           329   0.018237   \n",
       "4  2020-01-01         4       14             613.15           329   0.042553   \n",
       "\n",
       "        arpu  \n",
       "0  68.321793  \n",
       "1   1.684985  \n",
       "2   4.913313  \n",
       "3   2.373252  \n",
       "4   1.863678  "
      ]
     },
     "execution_count": 73,
     "metadata": {},
     "output_type": "execute_result"
    }
   ],
   "source": [
    "cohorts.head()"
   ]
  },
  {
   "cell_type": "code",
   "execution_count": 74,
   "metadata": {},
   "outputs": [],
   "source": [
    "cohorts['retention'] = cohorts['retention'].apply(lambda x:round(x,2))"
   ]
  },
  {
   "cell_type": "code",
   "execution_count": 75,
   "metadata": {},
   "outputs": [],
   "source": [
    "cohorts['arpu'] = cohorts['arpu'].apply(lambda x:round(x,2))"
   ]
  },
  {
   "cell_type": "code",
   "execution_count": 76,
   "metadata": {},
   "outputs": [],
   "source": [
    "#строим сводную таблицу по каждой когорте\n",
    "retention_pivot = cohorts.pivot_table(index='first_month',columns='lifetime',values='retention',aggfunc='sum')"
   ]
  },
  {
   "cell_type": "code",
   "execution_count": 77,
   "metadata": {},
   "outputs": [
    {
     "data": {
      "text/html": [
       "<div>\n",
       "<style scoped>\n",
       "    .dataframe tbody tr th:only-of-type {\n",
       "        vertical-align: middle;\n",
       "    }\n",
       "\n",
       "    .dataframe tbody tr th {\n",
       "        vertical-align: top;\n",
       "    }\n",
       "\n",
       "    .dataframe thead th {\n",
       "        text-align: right;\n",
       "    }\n",
       "</style>\n",
       "<table border=\"1\" class=\"dataframe\">\n",
       "  <thead>\n",
       "    <tr style=\"text-align: right;\">\n",
       "      <th>lifetime</th>\n",
       "      <th>0</th>\n",
       "      <th>1</th>\n",
       "      <th>2</th>\n",
       "      <th>3</th>\n",
       "      <th>4</th>\n",
       "      <th>5</th>\n",
       "    </tr>\n",
       "    <tr>\n",
       "      <th>first_month</th>\n",
       "      <th></th>\n",
       "      <th></th>\n",
       "      <th></th>\n",
       "      <th></th>\n",
       "      <th></th>\n",
       "      <th></th>\n",
       "    </tr>\n",
       "  </thead>\n",
       "  <tbody>\n",
       "    <tr>\n",
       "      <th>2020-01-01</th>\n",
       "      <td>1.0</td>\n",
       "      <td>0.07</td>\n",
       "      <td>0.02</td>\n",
       "      <td>0.02</td>\n",
       "      <td>0.04</td>\n",
       "      <td>0.04</td>\n",
       "    </tr>\n",
       "    <tr>\n",
       "      <th>2020-02-01</th>\n",
       "      <td>1.0</td>\n",
       "      <td>0.08</td>\n",
       "      <td>0.02</td>\n",
       "      <td>0.03</td>\n",
       "      <td>0.03</td>\n",
       "      <td>0.00</td>\n",
       "    </tr>\n",
       "    <tr>\n",
       "      <th>2020-03-01</th>\n",
       "      <td>1.0</td>\n",
       "      <td>0.45</td>\n",
       "      <td>0.09</td>\n",
       "      <td>0.04</td>\n",
       "      <td>0.00</td>\n",
       "      <td>NaN</td>\n",
       "    </tr>\n",
       "    <tr>\n",
       "      <th>2020-04-01</th>\n",
       "      <td>1.0</td>\n",
       "      <td>0.22</td>\n",
       "      <td>0.06</td>\n",
       "      <td>0.00</td>\n",
       "      <td>NaN</td>\n",
       "      <td>NaN</td>\n",
       "    </tr>\n",
       "    <tr>\n",
       "      <th>2020-05-01</th>\n",
       "      <td>1.0</td>\n",
       "      <td>0.19</td>\n",
       "      <td>0.01</td>\n",
       "      <td>NaN</td>\n",
       "      <td>NaN</td>\n",
       "      <td>NaN</td>\n",
       "    </tr>\n",
       "    <tr>\n",
       "      <th>2020-06-01</th>\n",
       "      <td>1.0</td>\n",
       "      <td>0.08</td>\n",
       "      <td>NaN</td>\n",
       "      <td>NaN</td>\n",
       "      <td>NaN</td>\n",
       "      <td>NaN</td>\n",
       "    </tr>\n",
       "    <tr>\n",
       "      <th>2020-07-01</th>\n",
       "      <td>1.0</td>\n",
       "      <td>NaN</td>\n",
       "      <td>NaN</td>\n",
       "      <td>NaN</td>\n",
       "      <td>NaN</td>\n",
       "      <td>NaN</td>\n",
       "    </tr>\n",
       "  </tbody>\n",
       "</table>\n",
       "</div>"
      ],
      "text/plain": [
       "lifetime       0     1     2     3     4     5\n",
       "first_month                                   \n",
       "2020-01-01   1.0  0.07  0.02  0.02  0.04  0.04\n",
       "2020-02-01   1.0  0.08  0.02  0.03  0.03  0.00\n",
       "2020-03-01   1.0  0.45  0.09  0.04  0.00   NaN\n",
       "2020-04-01   1.0  0.22  0.06  0.00   NaN   NaN\n",
       "2020-05-01   1.0  0.19  0.01   NaN   NaN   NaN\n",
       "2020-06-01   1.0  0.08   NaN   NaN   NaN   NaN\n",
       "2020-07-01   1.0   NaN   NaN   NaN   NaN   NaN"
      ]
     },
     "execution_count": 77,
     "metadata": {},
     "output_type": "execute_result"
    }
   ],
   "source": [
    "retention_pivot"
   ]
  },
  {
   "cell_type": "code",
   "execution_count": 79,
   "metadata": {
    "scrolled": false
   },
   "outputs": [
    {
     "data": {
      "text/plain": [
       "<AxesSubplot:title={'center':'Monthly Retention Rate'}, xlabel='lifetime', ylabel='first_month'>"
      ]
     },
     "execution_count": 79,
     "metadata": {},
     "output_type": "execute_result"
    },
    {
     "data": {
      "image/png": "[encoded data removed]",
      "text/plain": [
       "<Figure size 936x648 with 2 Axes>"
      ]
     },
     "metadata": {},
     "output_type": "display_data"
    }
   ],
   "source": [
    "sns.set(style='white')\n",
    "plt.figure(figsize=(13, 9))\n",
    "plt.title('Monthly Retention Rate')\n",
    "sns.heatmap(retention_pivot, annot=True, fmt='.1%', linewidths=1, linecolor='gray', vmin = 0.0, vmax = 1)"
   ]
  },
  {
   "cell_type": "markdown",
   "metadata": {},
   "source": [
    "Январская и февральская когорты показывали маленькую возвращаемость, но в марте, возможно, что-то было доработано и начиная с мартовской когорты пользователи стали охотнее возвращаться в следующем месяце. Хотя, со временем эта цифра тоже падает и возвращается на уровень января-февраля."
   ]
  },
  {
   "cell_type": "code",
   "execution_count": 80,
   "metadata": {},
   "outputs": [],
   "source": [
    "arpu_pivot = cohorts.pivot_table(index='first_month',columns='lifetime',values='arpu',aggfunc='sum')"
   ]
  },
  {
   "cell_type": "code",
   "execution_count": 81,
   "metadata": {},
   "outputs": [
    {
     "data": {
      "text/html": [
       "<div>\n",
       "<style scoped>\n",
       "    .dataframe tbody tr th:only-of-type {\n",
       "        vertical-align: middle;\n",
       "    }\n",
       "\n",
       "    .dataframe tbody tr th {\n",
       "        vertical-align: top;\n",
       "    }\n",
       "\n",
       "    .dataframe thead th {\n",
       "        text-align: right;\n",
       "    }\n",
       "</style>\n",
       "<table border=\"1\" class=\"dataframe\">\n",
       "  <thead>\n",
       "    <tr style=\"text-align: right;\">\n",
       "      <th>lifetime</th>\n",
       "      <th>0</th>\n",
       "      <th>1</th>\n",
       "      <th>2</th>\n",
       "      <th>3</th>\n",
       "      <th>4</th>\n",
       "      <th>5</th>\n",
       "    </tr>\n",
       "    <tr>\n",
       "      <th>first_month</th>\n",
       "      <th></th>\n",
       "      <th></th>\n",
       "      <th></th>\n",
       "      <th></th>\n",
       "      <th></th>\n",
       "      <th></th>\n",
       "    </tr>\n",
       "  </thead>\n",
       "  <tbody>\n",
       "    <tr>\n",
       "      <th>2020-01-01</th>\n",
       "      <td>68.32</td>\n",
       "      <td>1.68</td>\n",
       "      <td>4.91</td>\n",
       "      <td>2.37</td>\n",
       "      <td>1.86</td>\n",
       "      <td>1.12</td>\n",
       "    </tr>\n",
       "    <tr>\n",
       "      <th>2020-02-01</th>\n",
       "      <td>12.08</td>\n",
       "      <td>1.62</td>\n",
       "      <td>0.36</td>\n",
       "      <td>0.58</td>\n",
       "      <td>0.70</td>\n",
       "      <td>0.01</td>\n",
       "    </tr>\n",
       "    <tr>\n",
       "      <th>2020-03-01</th>\n",
       "      <td>1.03</td>\n",
       "      <td>0.11</td>\n",
       "      <td>0.06</td>\n",
       "      <td>0.05</td>\n",
       "      <td>0.00</td>\n",
       "      <td>NaN</td>\n",
       "    </tr>\n",
       "    <tr>\n",
       "      <th>2020-04-01</th>\n",
       "      <td>0.15</td>\n",
       "      <td>0.03</td>\n",
       "      <td>0.01</td>\n",
       "      <td>0.00</td>\n",
       "      <td>NaN</td>\n",
       "      <td>NaN</td>\n",
       "    </tr>\n",
       "    <tr>\n",
       "      <th>2020-05-01</th>\n",
       "      <td>0.18</td>\n",
       "      <td>0.05</td>\n",
       "      <td>0.00</td>\n",
       "      <td>NaN</td>\n",
       "      <td>NaN</td>\n",
       "      <td>NaN</td>\n",
       "    </tr>\n",
       "    <tr>\n",
       "      <th>2020-06-01</th>\n",
       "      <td>0.45</td>\n",
       "      <td>0.01</td>\n",
       "      <td>NaN</td>\n",
       "      <td>NaN</td>\n",
       "      <td>NaN</td>\n",
       "      <td>NaN</td>\n",
       "    </tr>\n",
       "    <tr>\n",
       "      <th>2020-07-01</th>\n",
       "      <td>0.14</td>\n",
       "      <td>NaN</td>\n",
       "      <td>NaN</td>\n",
       "      <td>NaN</td>\n",
       "      <td>NaN</td>\n",
       "      <td>NaN</td>\n",
       "    </tr>\n",
       "  </tbody>\n",
       "</table>\n",
       "</div>"
      ],
      "text/plain": [
       "lifetime         0     1     2     3     4     5\n",
       "first_month                                     \n",
       "2020-01-01   68.32  1.68  4.91  2.37  1.86  1.12\n",
       "2020-02-01   12.08  1.62  0.36  0.58  0.70  0.01\n",
       "2020-03-01    1.03  0.11  0.06  0.05  0.00   NaN\n",
       "2020-04-01    0.15  0.03  0.01  0.00   NaN   NaN\n",
       "2020-05-01    0.18  0.05  0.00   NaN   NaN   NaN\n",
       "2020-06-01    0.45  0.01   NaN   NaN   NaN   NaN\n",
       "2020-07-01    0.14   NaN   NaN   NaN   NaN   NaN"
      ]
     },
     "execution_count": 81,
     "metadata": {},
     "output_type": "execute_result"
    }
   ],
   "source": [
    "arpu_pivot"
   ]
  },
  {
   "cell_type": "code",
   "execution_count": 82,
   "metadata": {},
   "outputs": [
    {
     "data": {
      "text/plain": [
       "<AxesSubplot:title={'center':'Monthly ARPU'}, xlabel='lifetime', ylabel='first_month'>"
      ]
     },
     "execution_count": 82,
     "metadata": {},
     "output_type": "execute_result"
    },
    {
     "data": {
      "image/png": "[encoded data removed]",
      "text/plain": [
       "<Figure size 936x648 with 2 Axes>"
      ]
     },
     "metadata": {},
     "output_type": "display_data"
    }
   ],
   "source": [
    "sns.set(style='white')\n",
    "plt.figure(figsize=(13, 9))\n",
    "plt.title('Monthly ARPU')\n",
    "sns.heatmap(arpu_pivot, annot=True, fmt='.2f', linewidths=1, linecolor='gray', vmin = 0.0, vmax = 35)"
   ]
  },
  {
   "cell_type": "markdown",
   "metadata": {},
   "source": [
    "По ARPU первая когорта показала хорошее значение 68.32 д.е. на пользователя в первый месяц. Февральская когорта уже значительно сбавила, а остальные когорты показывают уже показатель, стремящийся к 0 вне зависимости от месяца лайфтайма. Это может быть связано с увеличением числа пользователей \\ уменьшением суммы покупок, уменьшением кол-ва платящих пользователей "
   ]
  },
  {
   "cell_type": "markdown",
   "metadata": {},
   "source": [
    "Также можно посчитать накопительный ARPU"
   ]
  },
  {
   "cell_type": "code",
   "execution_count": 83,
   "metadata": {},
   "outputs": [
    {
     "data": {
      "text/html": [
       "<div>\n",
       "<style scoped>\n",
       "    .dataframe tbody tr th:only-of-type {\n",
       "        vertical-align: middle;\n",
       "    }\n",
       "\n",
       "    .dataframe tbody tr th {\n",
       "        vertical-align: top;\n",
       "    }\n",
       "\n",
       "    .dataframe thead th {\n",
       "        text-align: right;\n",
       "    }\n",
       "</style>\n",
       "<table border=\"1\" class=\"dataframe\">\n",
       "  <thead>\n",
       "    <tr style=\"text-align: right;\">\n",
       "      <th>lifetime</th>\n",
       "      <th>0</th>\n",
       "      <th>1</th>\n",
       "      <th>2</th>\n",
       "      <th>3</th>\n",
       "      <th>4</th>\n",
       "      <th>5</th>\n",
       "    </tr>\n",
       "    <tr>\n",
       "      <th>first_month</th>\n",
       "      <th></th>\n",
       "      <th></th>\n",
       "      <th></th>\n",
       "      <th></th>\n",
       "      <th></th>\n",
       "      <th></th>\n",
       "    </tr>\n",
       "  </thead>\n",
       "  <tbody>\n",
       "    <tr>\n",
       "      <th>2020-01-01</th>\n",
       "      <td>68.32</td>\n",
       "      <td>70.00</td>\n",
       "      <td>74.91</td>\n",
       "      <td>77.28</td>\n",
       "      <td>79.14</td>\n",
       "      <td>80.26</td>\n",
       "    </tr>\n",
       "    <tr>\n",
       "      <th>2020-02-01</th>\n",
       "      <td>12.08</td>\n",
       "      <td>13.70</td>\n",
       "      <td>14.06</td>\n",
       "      <td>14.64</td>\n",
       "      <td>15.34</td>\n",
       "      <td>15.35</td>\n",
       "    </tr>\n",
       "    <tr>\n",
       "      <th>2020-03-01</th>\n",
       "      <td>1.03</td>\n",
       "      <td>1.14</td>\n",
       "      <td>1.20</td>\n",
       "      <td>1.25</td>\n",
       "      <td>1.25</td>\n",
       "      <td>NaN</td>\n",
       "    </tr>\n",
       "    <tr>\n",
       "      <th>2020-04-01</th>\n",
       "      <td>0.15</td>\n",
       "      <td>0.18</td>\n",
       "      <td>0.19</td>\n",
       "      <td>0.19</td>\n",
       "      <td>NaN</td>\n",
       "      <td>NaN</td>\n",
       "    </tr>\n",
       "    <tr>\n",
       "      <th>2020-05-01</th>\n",
       "      <td>0.18</td>\n",
       "      <td>0.23</td>\n",
       "      <td>0.23</td>\n",
       "      <td>NaN</td>\n",
       "      <td>NaN</td>\n",
       "      <td>NaN</td>\n",
       "    </tr>\n",
       "    <tr>\n",
       "      <th>2020-06-01</th>\n",
       "      <td>0.45</td>\n",
       "      <td>0.46</td>\n",
       "      <td>NaN</td>\n",
       "      <td>NaN</td>\n",
       "      <td>NaN</td>\n",
       "      <td>NaN</td>\n",
       "    </tr>\n",
       "    <tr>\n",
       "      <th>2020-07-01</th>\n",
       "      <td>0.14</td>\n",
       "      <td>NaN</td>\n",
       "      <td>NaN</td>\n",
       "      <td>NaN</td>\n",
       "      <td>NaN</td>\n",
       "      <td>NaN</td>\n",
       "    </tr>\n",
       "  </tbody>\n",
       "</table>\n",
       "</div>"
      ],
      "text/plain": [
       "lifetime         0      1      2      3      4      5\n",
       "first_month                                          \n",
       "2020-01-01   68.32  70.00  74.91  77.28  79.14  80.26\n",
       "2020-02-01   12.08  13.70  14.06  14.64  15.34  15.35\n",
       "2020-03-01    1.03   1.14   1.20   1.25   1.25    NaN\n",
       "2020-04-01    0.15   0.18   0.19   0.19    NaN    NaN\n",
       "2020-05-01    0.18   0.23   0.23    NaN    NaN    NaN\n",
       "2020-06-01    0.45   0.46    NaN    NaN    NaN    NaN\n",
       "2020-07-01    0.14    NaN    NaN    NaN    NaN    NaN"
      ]
     },
     "execution_count": 83,
     "metadata": {},
     "output_type": "execute_result"
    }
   ],
   "source": [
    "arpu_pivot_sum = arpu_pivot.cumsum(axis=1)\n",
    "arpu_pivot_sum"
   ]
  },
  {
   "cell_type": "code",
   "execution_count": 84,
   "metadata": {},
   "outputs": [
    {
     "data": {
      "text/html": [
       "<div>\n",
       "<style scoped>\n",
       "    .dataframe tbody tr th:only-of-type {\n",
       "        vertical-align: middle;\n",
       "    }\n",
       "\n",
       "    .dataframe tbody tr th {\n",
       "        vertical-align: top;\n",
       "    }\n",
       "\n",
       "    .dataframe thead th {\n",
       "        text-align: right;\n",
       "    }\n",
       "</style>\n",
       "<table border=\"1\" class=\"dataframe\">\n",
       "  <thead>\n",
       "    <tr style=\"text-align: right;\">\n",
       "      <th></th>\n",
       "      <th>first_month</th>\n",
       "      <th>lifetime</th>\n",
       "      <th>reporting_revenue</th>\n",
       "      <th>cohort_users</th>\n",
       "    </tr>\n",
       "  </thead>\n",
       "  <tbody>\n",
       "    <tr>\n",
       "      <th>0</th>\n",
       "      <td>2020-01-01</td>\n",
       "      <td>0</td>\n",
       "      <td>22477.865528</td>\n",
       "      <td>329</td>\n",
       "    </tr>\n",
       "    <tr>\n",
       "      <th>1</th>\n",
       "      <td>2020-01-01</td>\n",
       "      <td>1</td>\n",
       "      <td>23032.230271</td>\n",
       "      <td>329</td>\n",
       "    </tr>\n",
       "    <tr>\n",
       "      <th>2</th>\n",
       "      <td>2020-01-01</td>\n",
       "      <td>2</td>\n",
       "      <td>24648.714666</td>\n",
       "      <td>329</td>\n",
       "    </tr>\n",
       "    <tr>\n",
       "      <th>3</th>\n",
       "      <td>2020-01-01</td>\n",
       "      <td>3</td>\n",
       "      <td>25429.518421</td>\n",
       "      <td>329</td>\n",
       "    </tr>\n",
       "    <tr>\n",
       "      <th>4</th>\n",
       "      <td>2020-01-01</td>\n",
       "      <td>4</td>\n",
       "      <td>26042.670379</td>\n",
       "      <td>329</td>\n",
       "    </tr>\n",
       "  </tbody>\n",
       "</table>\n",
       "</div>"
      ],
      "text/plain": [
       "  first_month  lifetime  reporting_revenue  cohort_users\n",
       "0  2020-01-01         0       22477.865528           329\n",
       "1  2020-01-01         1       23032.230271           329\n",
       "2  2020-01-01         2       24648.714666           329\n",
       "3  2020-01-01         3       25429.518421           329\n",
       "4  2020-01-01         4       26042.670379           329"
      ]
     },
     "execution_count": 84,
     "metadata": {},
     "output_type": "execute_result"
    }
   ],
   "source": [
    "cumulative_revenue = (df.groupby(['first_month','lifetime']).agg({'reporting_revenue' : 'sum'}) \\\n",
    "                      .groupby(level=0).cumsum().reset_index().merge(cohort_users,on='first_month'))\n",
    "cumulative_revenue.head()"
   ]
  },
  {
   "cell_type": "code",
   "execution_count": 85,
   "metadata": {},
   "outputs": [],
   "source": [
    "cumulative_revenue['cumulative_arpu'] = cumulative_revenue.reporting_revenue / cumulative_revenue.cohort_users"
   ]
  },
  {
   "cell_type": "code",
   "execution_count": 86,
   "metadata": {},
   "outputs": [
    {
     "name": "stderr",
     "output_type": "stream",
     "text": [
      "c:\\users\\user\\appdata\\local\\programs\\python\\python39\\lib\\site-packages\\seaborn\\_decorators.py:36: FutureWarning: Pass the following variables as keyword args: x, y. From version 0.12, the only valid positional argument will be `data`, and passing other arguments without an explicit keyword will result in an error or misinterpretation.\n",
      "  warnings.warn(\n"
     ]
    },
    {
     "data": {
      "image/png": "[encoded data removed]",
      "text/plain": [
       "<Figure size 936x720 with 1 Axes>"
      ]
     },
     "metadata": {},
     "output_type": "display_data"
    }
   ],
   "source": [
    "fig, ax = plt.subplots()\n",
    "fig.set_figheight(10) \n",
    "fig.set_figwidth(13)\n",
    "ax = sns.lineplot(cumulative_revenue['lifetime'], cumulative_revenue['cumulative_arpu'], hue = cumulative_revenue['first_month'])\n",
    "ax.grid(True)\n",
    "plt.show()"
   ]
  },
  {
   "cell_type": "markdown",
   "metadata": {},
   "source": [
    "в целом, на второй месяц графики выходят на стабильный уровень"
   ]
  },
  {
   "cell_type": "markdown",
   "metadata": {},
   "source": [
    "Посмотрим на кол-во пользователей по когортам и их соотношение с теми юзерами, которые совершают покупки"
   ]
  },
  {
   "cell_type": "code",
   "execution_count": 87,
   "metadata": {},
   "outputs": [],
   "source": [
    "paying_users = df.groupby(['first_month', 'user_id'])['reporting_revenue'].sum().reset_index()\n",
    "paying_users = paying_users[paying_users.reporting_revenue != 0]"
   ]
  },
  {
   "cell_type": "code",
   "execution_count": 88,
   "metadata": {},
   "outputs": [
    {
     "name": "stdout",
     "output_type": "stream",
     "text": [
      "все сходится\n"
     ]
    }
   ],
   "source": [
    "revenue_check(paying_users, df)"
   ]
  },
  {
   "cell_type": "code",
   "execution_count": 89,
   "metadata": {},
   "outputs": [
    {
     "data": {
      "text/html": [
       "<div>\n",
       "<style scoped>\n",
       "    .dataframe tbody tr th:only-of-type {\n",
       "        vertical-align: middle;\n",
       "    }\n",
       "\n",
       "    .dataframe tbody tr th {\n",
       "        vertical-align: top;\n",
       "    }\n",
       "\n",
       "    .dataframe thead th {\n",
       "        text-align: right;\n",
       "    }\n",
       "</style>\n",
       "<table border=\"1\" class=\"dataframe\">\n",
       "  <thead>\n",
       "    <tr style=\"text-align: right;\">\n",
       "      <th></th>\n",
       "      <th>first_month</th>\n",
       "      <th>cohort_users</th>\n",
       "      <th>paying_users</th>\n",
       "      <th>reporting_revenue</th>\n",
       "    </tr>\n",
       "  </thead>\n",
       "  <tbody>\n",
       "    <tr>\n",
       "      <th>0</th>\n",
       "      <td>2020-01-01</td>\n",
       "      <td>329</td>\n",
       "      <td>329</td>\n",
       "      <td>26411.38</td>\n",
       "    </tr>\n",
       "    <tr>\n",
       "      <th>1</th>\n",
       "      <td>2020-02-01</td>\n",
       "      <td>5232</td>\n",
       "      <td>5232</td>\n",
       "      <td>80256.82</td>\n",
       "    </tr>\n",
       "    <tr>\n",
       "      <th>2</th>\n",
       "      <td>2020-03-01</td>\n",
       "      <td>77526</td>\n",
       "      <td>6948</td>\n",
       "      <td>96046.39</td>\n",
       "    </tr>\n",
       "    <tr>\n",
       "      <th>3</th>\n",
       "      <td>2020-04-01</td>\n",
       "      <td>542851</td>\n",
       "      <td>6019</td>\n",
       "      <td>102018.78</td>\n",
       "    </tr>\n",
       "    <tr>\n",
       "      <th>4</th>\n",
       "      <td>2020-05-01</td>\n",
       "      <td>485144</td>\n",
       "      <td>6015</td>\n",
       "      <td>109847.30</td>\n",
       "    </tr>\n",
       "    <tr>\n",
       "      <th>5</th>\n",
       "      <td>2020-06-01</td>\n",
       "      <td>330513</td>\n",
       "      <td>6358</td>\n",
       "      <td>150616.84</td>\n",
       "    </tr>\n",
       "    <tr>\n",
       "      <th>6</th>\n",
       "      <td>2020-07-01</td>\n",
       "      <td>12738</td>\n",
       "      <td>102</td>\n",
       "      <td>1730.27</td>\n",
       "    </tr>\n",
       "  </tbody>\n",
       "</table>\n",
       "</div>"
      ],
      "text/plain": [
       "  first_month  cohort_users  paying_users  reporting_revenue\n",
       "0  2020-01-01           329           329           26411.38\n",
       "1  2020-02-01          5232          5232           80256.82\n",
       "2  2020-03-01         77526          6948           96046.39\n",
       "3  2020-04-01        542851          6019          102018.78\n",
       "4  2020-05-01        485144          6015          109847.30\n",
       "5  2020-06-01        330513          6358          150616.84\n",
       "6  2020-07-01         12738           102            1730.27"
      ]
     },
     "execution_count": 89,
     "metadata": {},
     "output_type": "execute_result"
    }
   ],
   "source": [
    "cohort_users = (cohort_users.merge \n",
    "                (paying_users.groupby('first_month')['user_id'].count()  \n",
    "                 .rename('paying_users').reset_index(), on = 'first_month')\n",
    "                .merge(cohorts.groupby('first_month')['reporting_revenue'].sum().reset_index(), on = 'first_month'))\n",
    "cohort_users"
   ]
  },
  {
   "cell_type": "markdown",
   "metadata": {},
   "source": [
    "Видно, что кол-во пользователей существенно возростало и достигло пика в апреле, а далее опять пошло на убыль"
   ]
  },
  {
   "cell_type": "code",
   "execution_count": 91,
   "metadata": {},
   "outputs": [
    {
     "data": {
      "text/plain": [
       "0"
      ]
     },
     "execution_count": 91,
     "metadata": {},
     "output_type": "execute_result"
    }
   ],
   "source": [
    "#проверяем, сходится ли кол-во \n",
    "df[df.reporting_revenue != 0]['user_id'].nunique() - cohort_users.paying_users.sum()"
   ]
  },
  {
   "cell_type": "code",
   "execution_count": 92,
   "metadata": {},
   "outputs": [],
   "source": [
    "cohort_users['paying_pct'] = cohort_users.paying_users / cohort_users.cohort_users"
   ]
  },
  {
   "cell_type": "code",
   "execution_count": 93,
   "metadata": {},
   "outputs": [
    {
     "data": {
      "text/html": [
       "<div>\n",
       "<style scoped>\n",
       "    .dataframe tbody tr th:only-of-type {\n",
       "        vertical-align: middle;\n",
       "    }\n",
       "\n",
       "    .dataframe tbody tr th {\n",
       "        vertical-align: top;\n",
       "    }\n",
       "\n",
       "    .dataframe thead th {\n",
       "        text-align: right;\n",
       "    }\n",
       "</style>\n",
       "<table border=\"1\" class=\"dataframe\">\n",
       "  <thead>\n",
       "    <tr style=\"text-align: right;\">\n",
       "      <th></th>\n",
       "      <th>first_month</th>\n",
       "      <th>cohort_users</th>\n",
       "      <th>paying_users</th>\n",
       "      <th>reporting_revenue</th>\n",
       "      <th>paying_pct</th>\n",
       "      <th>arppu</th>\n",
       "    </tr>\n",
       "  </thead>\n",
       "  <tbody>\n",
       "    <tr>\n",
       "      <th>0</th>\n",
       "      <td>2020-01-01</td>\n",
       "      <td>329</td>\n",
       "      <td>329</td>\n",
       "      <td>26411.38</td>\n",
       "      <td>1.000000</td>\n",
       "      <td>80.277751</td>\n",
       "    </tr>\n",
       "    <tr>\n",
       "      <th>1</th>\n",
       "      <td>2020-02-01</td>\n",
       "      <td>5232</td>\n",
       "      <td>5232</td>\n",
       "      <td>80256.82</td>\n",
       "      <td>1.000000</td>\n",
       "      <td>15.339606</td>\n",
       "    </tr>\n",
       "    <tr>\n",
       "      <th>2</th>\n",
       "      <td>2020-03-01</td>\n",
       "      <td>77526</td>\n",
       "      <td>6948</td>\n",
       "      <td>96046.39</td>\n",
       "      <td>0.089622</td>\n",
       "      <td>13.823602</td>\n",
       "    </tr>\n",
       "    <tr>\n",
       "      <th>3</th>\n",
       "      <td>2020-04-01</td>\n",
       "      <td>542851</td>\n",
       "      <td>6019</td>\n",
       "      <td>102018.78</td>\n",
       "      <td>0.011088</td>\n",
       "      <td>16.949457</td>\n",
       "    </tr>\n",
       "    <tr>\n",
       "      <th>4</th>\n",
       "      <td>2020-05-01</td>\n",
       "      <td>485144</td>\n",
       "      <td>6015</td>\n",
       "      <td>109847.30</td>\n",
       "      <td>0.012398</td>\n",
       "      <td>18.262228</td>\n",
       "    </tr>\n",
       "    <tr>\n",
       "      <th>5</th>\n",
       "      <td>2020-06-01</td>\n",
       "      <td>330513</td>\n",
       "      <td>6358</td>\n",
       "      <td>150616.84</td>\n",
       "      <td>0.019237</td>\n",
       "      <td>23.689343</td>\n",
       "    </tr>\n",
       "    <tr>\n",
       "      <th>6</th>\n",
       "      <td>2020-07-01</td>\n",
       "      <td>12738</td>\n",
       "      <td>102</td>\n",
       "      <td>1730.27</td>\n",
       "      <td>0.008008</td>\n",
       "      <td>16.963431</td>\n",
       "    </tr>\n",
       "  </tbody>\n",
       "</table>\n",
       "</div>"
      ],
      "text/plain": [
       "  first_month  cohort_users  paying_users  reporting_revenue  paying_pct  \\\n",
       "0  2020-01-01           329           329           26411.38    1.000000   \n",
       "1  2020-02-01          5232          5232           80256.82    1.000000   \n",
       "2  2020-03-01         77526          6948           96046.39    0.089622   \n",
       "3  2020-04-01        542851          6019          102018.78    0.011088   \n",
       "4  2020-05-01        485144          6015          109847.30    0.012398   \n",
       "5  2020-06-01        330513          6358          150616.84    0.019237   \n",
       "6  2020-07-01         12738           102            1730.27    0.008008   \n",
       "\n",
       "       arppu  \n",
       "0  80.277751  \n",
       "1  15.339606  \n",
       "2  13.823602  \n",
       "3  16.949457  \n",
       "4  18.262228  \n",
       "5  23.689343  \n",
       "6  16.963431  "
      ]
     },
     "execution_count": 93,
     "metadata": {},
     "output_type": "execute_result"
    }
   ],
   "source": [
    "cohort_users['arppu'] = cohort_users.reporting_revenue / cohort_users.paying_users\n",
    "cohort_users"
   ]
  },
  {
   "cell_type": "code",
   "execution_count": 94,
   "metadata": {},
   "outputs": [
    {
     "data": {
      "image/png": "[encoded data removed]",
      "text/plain": [
       "<Figure size 720x432 with 1 Axes>"
      ]
     },
     "metadata": {},
     "output_type": "display_data"
    }
   ],
   "source": [
    "sns.set_style(\"whitegrid\")\n",
    "bar,ax = plt.subplots(figsize=(10,6))\n",
    "ax = sns.barplot(x = cohort_users.first_month.astype('str'), y = cohort_users.paying_pct, data=cohort_users, ci=None, palette=\"muted\",orient='v' )\n",
    "ax.set_title(\"Соотношение платящих юзеров ко всем юзерам\", fontsize=15)\n",
    "ax.set_xlabel (\"Когорта\", fontsize=15)\n",
    "ax.set_ylabel (\"%\", fontsize=15)\n",
    "plt.show()\n"
   ]
  },
  {
   "cell_type": "markdown",
   "metadata": {},
   "source": [
    "При этом, первые две когорты стабильно совершали покупки, а в следующих когортах кол-во платящих пользователей оставалось +- на уровне февральской когорты (в районе 6 тысяч) при многократном увеличении общего кол-ва пользователей. "
   ]
  },
  {
   "cell_type": "code",
   "execution_count": 95,
   "metadata": {},
   "outputs": [
    {
     "data": {
      "image/png": "[encoded data removed]",
      "text/plain": [
       "<Figure size 648x432 with 1 Axes>"
      ]
     },
     "metadata": {},
     "output_type": "display_data"
    }
   ],
   "source": [
    "fig, ax = plt.subplots()\n",
    "fig.set_figheight(6) \n",
    "fig.set_figwidth(9) \n",
    "ax.plot(cohort_users.first_month, cohort_users.arppu)\n",
    "ax.set_xlabel('когорта', fontsize = 15, color = 'black')\n",
    "ax.set_ylabel('д.е.', fontsize = 15, color = 'black')\n",
    "plt.xticks(rotation=90)\n",
    "ax.grid(True)\n",
    "ax.set_title('ARPPU по когортам')\n",
    "plt.show()"
   ]
  },
  {
   "cell_type": "markdown",
   "metadata": {},
   "source": [
    "## По неделям <a name='неделя'></a>"
   ]
  },
  {
   "cell_type": "code",
   "execution_count": 96,
   "metadata": {},
   "outputs": [],
   "source": [
    "first_week = df.groupby(['user_id'])['created_week'].min()"
   ]
  },
  {
   "cell_type": "code",
   "execution_count": 97,
   "metadata": {},
   "outputs": [
    {
     "data": {
      "text/plain": [
       "user_id\n",
       "00000d13-a60b-d8a5-372c-6ac3338d9532   2020-04-30\n",
       "000021ca-20bf-8f73-7298-88d4091c0b43   2020-04-02\n",
       "00003734-81ef-7a1d-e4c9-f984bf2bc8bc   2020-04-30\n",
       "00004cea-3621-30ef-db24-1e52d001449b   2020-04-02\n",
       "00005b7d-52a7-2280-be8e-a932155dd075   2020-06-18\n",
       "Name: created_week, dtype: datetime64[ns]"
      ]
     },
     "execution_count": 97,
     "metadata": {},
     "output_type": "execute_result"
    }
   ],
   "source": [
    "first_week.head()"
   ]
  },
  {
   "cell_type": "code",
   "execution_count": 98,
   "metadata": {},
   "outputs": [],
   "source": [
    "first_week.name = 'first_week'"
   ]
  },
  {
   "cell_type": "code",
   "execution_count": 99,
   "metadata": {},
   "outputs": [],
   "source": [
    "df = df.join(first_week,on='user_id') "
   ]
  },
  {
   "cell_type": "code",
   "execution_count": 100,
   "metadata": {},
   "outputs": [],
   "source": [
    "df['lifetime_week'] = (df['created_week'] - df['first_week']) / np.timedelta64(1,'W')"
   ]
  },
  {
   "cell_type": "code",
   "execution_count": 101,
   "metadata": {},
   "outputs": [],
   "source": [
    "df['lifetime_week'] = df['lifetime_week'].apply(np.round).astype('int64')"
   ]
  },
  {
   "cell_type": "code",
   "execution_count": 102,
   "metadata": {},
   "outputs": [
    {
     "data": {
      "text/html": [
       "<div>\n",
       "<style scoped>\n",
       "    .dataframe tbody tr th:only-of-type {\n",
       "        vertical-align: middle;\n",
       "    }\n",
       "\n",
       "    .dataframe tbody tr th {\n",
       "        vertical-align: top;\n",
       "    }\n",
       "\n",
       "    .dataframe thead th {\n",
       "        text-align: right;\n",
       "    }\n",
       "</style>\n",
       "<table border=\"1\" class=\"dataframe\">\n",
       "  <thead>\n",
       "    <tr style=\"text-align: right;\">\n",
       "      <th></th>\n",
       "      <th>user_id</th>\n",
       "      <th>installed_at</th>\n",
       "      <th>created_at</th>\n",
       "      <th>activity_kind</th>\n",
       "      <th>reporting_revenue</th>\n",
       "      <th>created_month</th>\n",
       "      <th>created_week</th>\n",
       "      <th>created_day</th>\n",
       "      <th>first_month</th>\n",
       "      <th>lifetime</th>\n",
       "      <th>first_week</th>\n",
       "      <th>lifetime_week</th>\n",
       "    </tr>\n",
       "  </thead>\n",
       "  <tbody>\n",
       "    <tr>\n",
       "      <th>0</th>\n",
       "      <td>dfd3e960-ee31-8b26-90c1-621247d8302c</td>\n",
       "      <td>2020-04-13 12:45:42</td>\n",
       "      <td>2020-06-21 18:25:39</td>\n",
       "      <td>session</td>\n",
       "      <td>0.0</td>\n",
       "      <td>2020-06-01</td>\n",
       "      <td>2020-06-18</td>\n",
       "      <td>2020-06-21</td>\n",
       "      <td>2020-04-01</td>\n",
       "      <td>2</td>\n",
       "      <td>2020-04-09</td>\n",
       "      <td>10</td>\n",
       "    </tr>\n",
       "    <tr>\n",
       "      <th>1</th>\n",
       "      <td>dfd3e960-ee31-8b26-90c1-621247d8302c</td>\n",
       "      <td>2020-04-13 12:45:42</td>\n",
       "      <td>2020-06-21 20:57:19</td>\n",
       "      <td>session</td>\n",
       "      <td>0.0</td>\n",
       "      <td>2020-06-01</td>\n",
       "      <td>2020-06-18</td>\n",
       "      <td>2020-06-21</td>\n",
       "      <td>2020-04-01</td>\n",
       "      <td>2</td>\n",
       "      <td>2020-04-09</td>\n",
       "      <td>10</td>\n",
       "    </tr>\n",
       "    <tr>\n",
       "      <th>2</th>\n",
       "      <td>dfd3e960-ee31-8b26-90c1-621247d8302c</td>\n",
       "      <td>2020-04-13 12:45:42</td>\n",
       "      <td>2020-06-22 13:18:58</td>\n",
       "      <td>session</td>\n",
       "      <td>0.0</td>\n",
       "      <td>2020-06-01</td>\n",
       "      <td>2020-06-18</td>\n",
       "      <td>2020-06-22</td>\n",
       "      <td>2020-04-01</td>\n",
       "      <td>2</td>\n",
       "      <td>2020-04-09</td>\n",
       "      <td>10</td>\n",
       "    </tr>\n",
       "    <tr>\n",
       "      <th>3</th>\n",
       "      <td>dfd3e960-ee31-8b26-90c1-621247d8302c</td>\n",
       "      <td>2020-04-13 12:45:42</td>\n",
       "      <td>2020-06-22 22:05:52</td>\n",
       "      <td>session</td>\n",
       "      <td>0.0</td>\n",
       "      <td>2020-06-01</td>\n",
       "      <td>2020-06-18</td>\n",
       "      <td>2020-06-22</td>\n",
       "      <td>2020-04-01</td>\n",
       "      <td>2</td>\n",
       "      <td>2020-04-09</td>\n",
       "      <td>10</td>\n",
       "    </tr>\n",
       "    <tr>\n",
       "      <th>4</th>\n",
       "      <td>dfd3e960-ee31-8b26-90c1-621247d8302c</td>\n",
       "      <td>2020-04-13 12:45:42</td>\n",
       "      <td>2020-06-23 07:41:50</td>\n",
       "      <td>session</td>\n",
       "      <td>0.0</td>\n",
       "      <td>2020-06-01</td>\n",
       "      <td>2020-06-18</td>\n",
       "      <td>2020-06-23</td>\n",
       "      <td>2020-04-01</td>\n",
       "      <td>2</td>\n",
       "      <td>2020-04-09</td>\n",
       "      <td>10</td>\n",
       "    </tr>\n",
       "  </tbody>\n",
       "</table>\n",
       "</div>"
      ],
      "text/plain": [
       "                                user_id        installed_at  \\\n",
       "0  dfd3e960-ee31-8b26-90c1-621247d8302c 2020-04-13 12:45:42   \n",
       "1  dfd3e960-ee31-8b26-90c1-621247d8302c 2020-04-13 12:45:42   \n",
       "2  dfd3e960-ee31-8b26-90c1-621247d8302c 2020-04-13 12:45:42   \n",
       "3  dfd3e960-ee31-8b26-90c1-621247d8302c 2020-04-13 12:45:42   \n",
       "4  dfd3e960-ee31-8b26-90c1-621247d8302c 2020-04-13 12:45:42   \n",
       "\n",
       "           created_at activity_kind  reporting_revenue created_month  \\\n",
       "0 2020-06-21 18:25:39       session                0.0    2020-06-01   \n",
       "1 2020-06-21 20:57:19       session                0.0    2020-06-01   \n",
       "2 2020-06-22 13:18:58       session                0.0    2020-06-01   \n",
       "3 2020-06-22 22:05:52       session                0.0    2020-06-01   \n",
       "4 2020-06-23 07:41:50       session                0.0    2020-06-01   \n",
       "\n",
       "  created_week created_day first_month  lifetime first_week  lifetime_week  \n",
       "0   2020-06-18  2020-06-21  2020-04-01         2 2020-04-09             10  \n",
       "1   2020-06-18  2020-06-21  2020-04-01         2 2020-04-09             10  \n",
       "2   2020-06-18  2020-06-22  2020-04-01         2 2020-04-09             10  \n",
       "3   2020-06-18  2020-06-22  2020-04-01         2 2020-04-09             10  \n",
       "4   2020-06-18  2020-06-23  2020-04-01         2 2020-04-09             10  "
      ]
     },
     "execution_count": 102,
     "metadata": {},
     "output_type": "execute_result"
    }
   ],
   "source": [
    "df.head()"
   ]
  },
  {
   "cell_type": "markdown",
   "metadata": {},
   "source": [
    "Теперь сгруппируем когорты по неделям и посчитаем, сколько было уникальных пользователей и прибыли на каждый последующий месяц "
   ]
  },
  {
   "cell_type": "code",
   "execution_count": 103,
   "metadata": {},
   "outputs": [],
   "source": [
    "cohorts_week = df.groupby(['first_week','lifetime_week']).agg({'user_id':'nunique', 'reporting_revenue' : 'sum'}).reset_index() "
   ]
  },
  {
   "cell_type": "code",
   "execution_count": 104,
   "metadata": {},
   "outputs": [
    {
     "name": "stdout",
     "output_type": "stream",
     "text": [
      "<class 'pandas.core.frame.DataFrame'>\n",
      "RangeIndex: 286 entries, 0 to 285\n",
      "Data columns (total 4 columns):\n",
      " #   Column             Non-Null Count  Dtype         \n",
      "---  ------             --------------  -----         \n",
      " 0   first_week         286 non-null    datetime64[ns]\n",
      " 1   lifetime_week      286 non-null    int64         \n",
      " 2   user_id            286 non-null    int64         \n",
      " 3   reporting_revenue  286 non-null    float64       \n",
      "dtypes: datetime64[ns](1), float64(1), int64(2)\n",
      "memory usage: 9.1 KB\n"
     ]
    }
   ],
   "source": [
    "cohorts_week.info()"
   ]
  },
  {
   "cell_type": "code",
   "execution_count": 105,
   "metadata": {},
   "outputs": [
    {
     "data": {
      "text/html": [
       "<div>\n",
       "<style scoped>\n",
       "    .dataframe tbody tr th:only-of-type {\n",
       "        vertical-align: middle;\n",
       "    }\n",
       "\n",
       "    .dataframe tbody tr th {\n",
       "        vertical-align: top;\n",
       "    }\n",
       "\n",
       "    .dataframe thead th {\n",
       "        text-align: right;\n",
       "    }\n",
       "</style>\n",
       "<table border=\"1\" class=\"dataframe\">\n",
       "  <thead>\n",
       "    <tr style=\"text-align: right;\">\n",
       "      <th></th>\n",
       "      <th>first_week</th>\n",
       "      <th>lifetime_week</th>\n",
       "      <th>user_id</th>\n",
       "      <th>reporting_revenue</th>\n",
       "    </tr>\n",
       "  </thead>\n",
       "  <tbody>\n",
       "    <tr>\n",
       "      <th>0</th>\n",
       "      <td>2020-01-16</td>\n",
       "      <td>0</td>\n",
       "      <td>5</td>\n",
       "      <td>167.920134</td>\n",
       "    </tr>\n",
       "    <tr>\n",
       "      <th>1</th>\n",
       "      <td>2020-01-16</td>\n",
       "      <td>1</td>\n",
       "      <td>2</td>\n",
       "      <td>886.739600</td>\n",
       "    </tr>\n",
       "    <tr>\n",
       "      <th>2</th>\n",
       "      <td>2020-01-16</td>\n",
       "      <td>2</td>\n",
       "      <td>1</td>\n",
       "      <td>7.040320</td>\n",
       "    </tr>\n",
       "    <tr>\n",
       "      <th>3</th>\n",
       "      <td>2020-01-16</td>\n",
       "      <td>3</td>\n",
       "      <td>2</td>\n",
       "      <td>9.035225</td>\n",
       "    </tr>\n",
       "    <tr>\n",
       "      <th>4</th>\n",
       "      <td>2020-01-16</td>\n",
       "      <td>4</td>\n",
       "      <td>2</td>\n",
       "      <td>25.575353</td>\n",
       "    </tr>\n",
       "  </tbody>\n",
       "</table>\n",
       "</div>"
      ],
      "text/plain": [
       "  first_week  lifetime_week  user_id  reporting_revenue\n",
       "0 2020-01-16              0        5         167.920134\n",
       "1 2020-01-16              1        2         886.739600\n",
       "2 2020-01-16              2        1           7.040320\n",
       "3 2020-01-16              3        2           9.035225\n",
       "4 2020-01-16              4        2          25.575353"
      ]
     },
     "execution_count": 105,
     "metadata": {},
     "output_type": "execute_result"
    }
   ],
   "source": [
    "cohorts_week.head()"
   ]
  },
  {
   "cell_type": "markdown",
   "metadata": {},
   "source": [
    "Проверяем, сходятся ли данные по прибыли после произведенных операций"
   ]
  },
  {
   "cell_type": "code",
   "execution_count": 106,
   "metadata": {},
   "outputs": [
    {
     "name": "stdout",
     "output_type": "stream",
     "text": [
      "все сходится\n"
     ]
    }
   ],
   "source": [
    "revenue_check(df, cohorts_week)"
   ]
  },
  {
   "cell_type": "code",
   "execution_count": 107,
   "metadata": {},
   "outputs": [],
   "source": [
    "cohorts_week['reporting_revenue'] = cohorts_week['reporting_revenue'].apply(lambda x:round(x,2))"
   ]
  },
  {
   "cell_type": "code",
   "execution_count": 108,
   "metadata": {},
   "outputs": [
    {
     "data": {
      "text/html": [
       "<div>\n",
       "<style scoped>\n",
       "    .dataframe tbody tr th:only-of-type {\n",
       "        vertical-align: middle;\n",
       "    }\n",
       "\n",
       "    .dataframe tbody tr th {\n",
       "        vertical-align: top;\n",
       "    }\n",
       "\n",
       "    .dataframe thead th {\n",
       "        text-align: right;\n",
       "    }\n",
       "</style>\n",
       "<table border=\"1\" class=\"dataframe\">\n",
       "  <thead>\n",
       "    <tr style=\"text-align: right;\">\n",
       "      <th></th>\n",
       "      <th>first_week</th>\n",
       "      <th>lifetime_week</th>\n",
       "      <th>user_id</th>\n",
       "      <th>reporting_revenue</th>\n",
       "    </tr>\n",
       "  </thead>\n",
       "  <tbody>\n",
       "    <tr>\n",
       "      <th>0</th>\n",
       "      <td>2020-01-16</td>\n",
       "      <td>0</td>\n",
       "      <td>5</td>\n",
       "      <td>167.92</td>\n",
       "    </tr>\n",
       "    <tr>\n",
       "      <th>1</th>\n",
       "      <td>2020-01-16</td>\n",
       "      <td>1</td>\n",
       "      <td>2</td>\n",
       "      <td>886.74</td>\n",
       "    </tr>\n",
       "    <tr>\n",
       "      <th>2</th>\n",
       "      <td>2020-01-16</td>\n",
       "      <td>2</td>\n",
       "      <td>1</td>\n",
       "      <td>7.04</td>\n",
       "    </tr>\n",
       "    <tr>\n",
       "      <th>3</th>\n",
       "      <td>2020-01-16</td>\n",
       "      <td>3</td>\n",
       "      <td>2</td>\n",
       "      <td>9.04</td>\n",
       "    </tr>\n",
       "    <tr>\n",
       "      <th>4</th>\n",
       "      <td>2020-01-16</td>\n",
       "      <td>4</td>\n",
       "      <td>2</td>\n",
       "      <td>25.58</td>\n",
       "    </tr>\n",
       "  </tbody>\n",
       "</table>\n",
       "</div>"
      ],
      "text/plain": [
       "  first_week  lifetime_week  user_id  reporting_revenue\n",
       "0 2020-01-16              0        5             167.92\n",
       "1 2020-01-16              1        2             886.74\n",
       "2 2020-01-16              2        1               7.04\n",
       "3 2020-01-16              3        2               9.04\n",
       "4 2020-01-16              4        2              25.58"
      ]
     },
     "execution_count": 108,
     "metadata": {},
     "output_type": "execute_result"
    }
   ],
   "source": [
    "cohorts_week.head()"
   ]
  },
  {
   "cell_type": "code",
   "execution_count": 109,
   "metadata": {},
   "outputs": [
    {
     "name": "stdout",
     "output_type": "stream",
     "text": [
      "<class 'pandas.core.frame.DataFrame'>\n",
      "RangeIndex: 286 entries, 0 to 285\n",
      "Data columns (total 4 columns):\n",
      " #   Column             Non-Null Count  Dtype         \n",
      "---  ------             --------------  -----         \n",
      " 0   first_week         286 non-null    datetime64[ns]\n",
      " 1   lifetime_week      286 non-null    int64         \n",
      " 2   user_id            286 non-null    int64         \n",
      " 3   reporting_revenue  286 non-null    float64       \n",
      "dtypes: datetime64[ns](1), float64(1), int64(2)\n",
      "memory usage: 9.1 KB\n"
     ]
    }
   ],
   "source": [
    "cohorts_week.info()"
   ]
  },
  {
   "cell_type": "code",
   "execution_count": 110,
   "metadata": {},
   "outputs": [],
   "source": [
    "cohort_week_users = df.groupby(['first_week']).agg({'user_id':'nunique'}).reset_index()"
   ]
  },
  {
   "cell_type": "code",
   "execution_count": 111,
   "metadata": {},
   "outputs": [
    {
     "data": {
      "text/html": [
       "<div>\n",
       "<style scoped>\n",
       "    .dataframe tbody tr th:only-of-type {\n",
       "        vertical-align: middle;\n",
       "    }\n",
       "\n",
       "    .dataframe tbody tr th {\n",
       "        vertical-align: top;\n",
       "    }\n",
       "\n",
       "    .dataframe thead th {\n",
       "        text-align: right;\n",
       "    }\n",
       "</style>\n",
       "<table border=\"1\" class=\"dataframe\">\n",
       "  <thead>\n",
       "    <tr style=\"text-align: right;\">\n",
       "      <th></th>\n",
       "      <th>first_week</th>\n",
       "      <th>user_id</th>\n",
       "    </tr>\n",
       "  </thead>\n",
       "  <tbody>\n",
       "    <tr>\n",
       "      <th>0</th>\n",
       "      <td>2020-01-16</td>\n",
       "      <td>5</td>\n",
       "    </tr>\n",
       "    <tr>\n",
       "      <th>1</th>\n",
       "      <td>2020-01-23</td>\n",
       "      <td>247</td>\n",
       "    </tr>\n",
       "    <tr>\n",
       "      <th>2</th>\n",
       "      <td>2020-01-30</td>\n",
       "      <td>568</td>\n",
       "    </tr>\n",
       "    <tr>\n",
       "      <th>3</th>\n",
       "      <td>2020-02-06</td>\n",
       "      <td>849</td>\n",
       "    </tr>\n",
       "    <tr>\n",
       "      <th>4</th>\n",
       "      <td>2020-02-13</td>\n",
       "      <td>1285</td>\n",
       "    </tr>\n",
       "  </tbody>\n",
       "</table>\n",
       "</div>"
      ],
      "text/plain": [
       "  first_week  user_id\n",
       "0 2020-01-16        5\n",
       "1 2020-01-23      247\n",
       "2 2020-01-30      568\n",
       "3 2020-02-06      849\n",
       "4 2020-02-13     1285"
      ]
     },
     "execution_count": 111,
     "metadata": {},
     "output_type": "execute_result"
    }
   ],
   "source": [
    "cohort_week_users.head()"
   ]
  },
  {
   "cell_type": "code",
   "execution_count": 112,
   "metadata": {},
   "outputs": [],
   "source": [
    "cohort_week_users = cohort_week_users.rename(columns={'user_id':'cohort_week_users'}) "
   ]
  },
  {
   "cell_type": "code",
   "execution_count": 113,
   "metadata": {},
   "outputs": [],
   "source": [
    "cohorts_week = cohorts_week.merge(cohort_week_users,on='first_week')"
   ]
  },
  {
   "cell_type": "code",
   "execution_count": 114,
   "metadata": {},
   "outputs": [],
   "source": [
    "cohorts_week['retention'] = cohorts_week['user_id']/cohorts_week['cohort_week_users'] "
   ]
  },
  {
   "cell_type": "code",
   "execution_count": 115,
   "metadata": {},
   "outputs": [],
   "source": [
    "cohorts_week['arpu'] = cohorts_week.reporting_revenue / cohorts_week.cohort_week_users"
   ]
  },
  {
   "cell_type": "code",
   "execution_count": 116,
   "metadata": {},
   "outputs": [
    {
     "data": {
      "text/html": [
       "<div>\n",
       "<style scoped>\n",
       "    .dataframe tbody tr th:only-of-type {\n",
       "        vertical-align: middle;\n",
       "    }\n",
       "\n",
       "    .dataframe tbody tr th {\n",
       "        vertical-align: top;\n",
       "    }\n",
       "\n",
       "    .dataframe thead th {\n",
       "        text-align: right;\n",
       "    }\n",
       "</style>\n",
       "<table border=\"1\" class=\"dataframe\">\n",
       "  <thead>\n",
       "    <tr style=\"text-align: right;\">\n",
       "      <th></th>\n",
       "      <th>first_week</th>\n",
       "      <th>lifetime_week</th>\n",
       "      <th>user_id</th>\n",
       "      <th>reporting_revenue</th>\n",
       "      <th>cohort_week_users</th>\n",
       "      <th>retention</th>\n",
       "      <th>arpu</th>\n",
       "    </tr>\n",
       "  </thead>\n",
       "  <tbody>\n",
       "    <tr>\n",
       "      <th>0</th>\n",
       "      <td>2020-01-16</td>\n",
       "      <td>0</td>\n",
       "      <td>5</td>\n",
       "      <td>167.92</td>\n",
       "      <td>5</td>\n",
       "      <td>1.0</td>\n",
       "      <td>33.584</td>\n",
       "    </tr>\n",
       "    <tr>\n",
       "      <th>1</th>\n",
       "      <td>2020-01-16</td>\n",
       "      <td>1</td>\n",
       "      <td>2</td>\n",
       "      <td>886.74</td>\n",
       "      <td>5</td>\n",
       "      <td>0.4</td>\n",
       "      <td>177.348</td>\n",
       "    </tr>\n",
       "    <tr>\n",
       "      <th>2</th>\n",
       "      <td>2020-01-16</td>\n",
       "      <td>2</td>\n",
       "      <td>1</td>\n",
       "      <td>7.04</td>\n",
       "      <td>5</td>\n",
       "      <td>0.2</td>\n",
       "      <td>1.408</td>\n",
       "    </tr>\n",
       "    <tr>\n",
       "      <th>3</th>\n",
       "      <td>2020-01-16</td>\n",
       "      <td>3</td>\n",
       "      <td>2</td>\n",
       "      <td>9.04</td>\n",
       "      <td>5</td>\n",
       "      <td>0.4</td>\n",
       "      <td>1.808</td>\n",
       "    </tr>\n",
       "    <tr>\n",
       "      <th>4</th>\n",
       "      <td>2020-01-16</td>\n",
       "      <td>4</td>\n",
       "      <td>2</td>\n",
       "      <td>25.58</td>\n",
       "      <td>5</td>\n",
       "      <td>0.4</td>\n",
       "      <td>5.116</td>\n",
       "    </tr>\n",
       "  </tbody>\n",
       "</table>\n",
       "</div>"
      ],
      "text/plain": [
       "  first_week  lifetime_week  user_id  reporting_revenue  cohort_week_users  \\\n",
       "0 2020-01-16              0        5             167.92                  5   \n",
       "1 2020-01-16              1        2             886.74                  5   \n",
       "2 2020-01-16              2        1               7.04                  5   \n",
       "3 2020-01-16              3        2               9.04                  5   \n",
       "4 2020-01-16              4        2              25.58                  5   \n",
       "\n",
       "   retention     arpu  \n",
       "0        1.0   33.584  \n",
       "1        0.4  177.348  \n",
       "2        0.2    1.408  \n",
       "3        0.4    1.808  \n",
       "4        0.4    5.116  "
      ]
     },
     "execution_count": 116,
     "metadata": {},
     "output_type": "execute_result"
    }
   ],
   "source": [
    "cohorts_week.head()"
   ]
  },
  {
   "cell_type": "code",
   "execution_count": 117,
   "metadata": {},
   "outputs": [],
   "source": [
    "cohorts_week['retention'] = cohorts_week['retention'].apply(lambda x:round(x,2))"
   ]
  },
  {
   "cell_type": "code",
   "execution_count": 118,
   "metadata": {},
   "outputs": [],
   "source": [
    "cohorts_week['arpu'] = cohorts_week['arpu'].apply(lambda x:round(x,2))"
   ]
  },
  {
   "cell_type": "code",
   "execution_count": 119,
   "metadata": {},
   "outputs": [],
   "source": [
    "retention_week_pivot = cohorts_week.pivot_table(index='first_week',columns='lifetime_week',values='retention',aggfunc='sum')"
   ]
  },
  {
   "cell_type": "code",
   "execution_count": 120,
   "metadata": {},
   "outputs": [],
   "source": [
    "rtv = retention_week_pivot.set_index(cohorts_week.first_week.unique())\n",
    "rtv.index = rtv.index.astype('str')"
   ]
  },
  {
   "cell_type": "code",
   "execution_count": 121,
   "metadata": {
    "scrolled": true
   },
   "outputs": [
    {
     "data": {
      "text/plain": [
       "<AxesSubplot:title={'center':'Weekly Retention Rate'}, xlabel='lifetime_week'>"
      ]
     },
     "execution_count": 121,
     "metadata": {},
     "output_type": "execute_result"
    },
    {
     "data": {
      "image/png": "[encoded data removed]",
      "text/plain": [
       "<Figure size 1800x1440 with 2 Axes>"
      ]
     },
     "metadata": {},
     "output_type": "display_data"
    }
   ],
   "source": [
    "sns.set(style='white')\n",
    "plt.figure(figsize=(25, 20))\n",
    "plt.title('Weekly Cohorts Retention Rate')\n",
    "sns.heatmap(rtv, annot=True, fmt='.1%', linewidths=1, linecolor='gray', vmin = 0.0, vmax = 1, square=True)\n"
   ]
  },
  {
   "cell_type": "markdown",
   "metadata": {},
   "source": [
    "В разбивке по неделям так же видим, что пользователи лишь из первой когорты дольше проявляли интерес и возвращались, затем относительное затишье, лишь 10% юзеров возвращались в течение второй недели. А с конца марта во вторую неделю стали возвращаться уже 30-40%. 15-20% удавалось удержать и в течение третьей недели. Примечательно, что всплеск совпадает с введением карантина. Возможно, это как-то повлияло на интерес к игре. "
   ]
  },
  {
   "cell_type": "code",
   "execution_count": 122,
   "metadata": {},
   "outputs": [],
   "source": [
    "arpu_week_pivot = cohorts_week.pivot_table(index='first_week',columns='lifetime_week',values='arpu',aggfunc='sum')"
   ]
  },
  {
   "cell_type": "code",
   "execution_count": 123,
   "metadata": {},
   "outputs": [],
   "source": [
    "arpu_week_pivot.index = arpu_week_pivot.index.astype('str')"
   ]
  },
  {
   "cell_type": "code",
   "execution_count": 124,
   "metadata": {},
   "outputs": [
    {
     "data": {
      "text/html": [
       "<div>\n",
       "<style scoped>\n",
       "    .dataframe tbody tr th:only-of-type {\n",
       "        vertical-align: middle;\n",
       "    }\n",
       "\n",
       "    .dataframe tbody tr th {\n",
       "        vertical-align: top;\n",
       "    }\n",
       "\n",
       "    .dataframe thead th {\n",
       "        text-align: right;\n",
       "    }\n",
       "</style>\n",
       "<table border=\"1\" class=\"dataframe\">\n",
       "  <thead>\n",
       "    <tr style=\"text-align: right;\">\n",
       "      <th></th>\n",
       "      <th>first_week</th>\n",
       "      <th>lifetime_week</th>\n",
       "      <th>user_id</th>\n",
       "      <th>reporting_revenue</th>\n",
       "      <th>cohort_week_users</th>\n",
       "      <th>retention</th>\n",
       "      <th>arpu</th>\n",
       "    </tr>\n",
       "  </thead>\n",
       "  <tbody>\n",
       "    <tr>\n",
       "      <th>0</th>\n",
       "      <td>2020-01-16</td>\n",
       "      <td>0</td>\n",
       "      <td>5</td>\n",
       "      <td>167.92</td>\n",
       "      <td>5</td>\n",
       "      <td>1.00</td>\n",
       "      <td>33.58</td>\n",
       "    </tr>\n",
       "    <tr>\n",
       "      <th>1</th>\n",
       "      <td>2020-01-16</td>\n",
       "      <td>1</td>\n",
       "      <td>2</td>\n",
       "      <td>886.74</td>\n",
       "      <td>5</td>\n",
       "      <td>0.40</td>\n",
       "      <td>177.35</td>\n",
       "    </tr>\n",
       "    <tr>\n",
       "      <th>2</th>\n",
       "      <td>2020-01-16</td>\n",
       "      <td>2</td>\n",
       "      <td>1</td>\n",
       "      <td>7.04</td>\n",
       "      <td>5</td>\n",
       "      <td>0.20</td>\n",
       "      <td>1.41</td>\n",
       "    </tr>\n",
       "    <tr>\n",
       "      <th>3</th>\n",
       "      <td>2020-01-16</td>\n",
       "      <td>3</td>\n",
       "      <td>2</td>\n",
       "      <td>9.04</td>\n",
       "      <td>5</td>\n",
       "      <td>0.40</td>\n",
       "      <td>1.81</td>\n",
       "    </tr>\n",
       "    <tr>\n",
       "      <th>4</th>\n",
       "      <td>2020-01-16</td>\n",
       "      <td>4</td>\n",
       "      <td>2</td>\n",
       "      <td>25.58</td>\n",
       "      <td>5</td>\n",
       "      <td>0.40</td>\n",
       "      <td>5.12</td>\n",
       "    </tr>\n",
       "    <tr>\n",
       "      <th>...</th>\n",
       "      <td>...</td>\n",
       "      <td>...</td>\n",
       "      <td>...</td>\n",
       "      <td>...</td>\n",
       "      <td>...</td>\n",
       "      <td>...</td>\n",
       "      <td>...</td>\n",
       "    </tr>\n",
       "    <tr>\n",
       "      <th>281</th>\n",
       "      <td>2020-06-11</td>\n",
       "      <td>1</td>\n",
       "      <td>32745</td>\n",
       "      <td>9192.85</td>\n",
       "      <td>84106</td>\n",
       "      <td>0.39</td>\n",
       "      <td>0.11</td>\n",
       "    </tr>\n",
       "    <tr>\n",
       "      <th>282</th>\n",
       "      <td>2020-06-11</td>\n",
       "      <td>2</td>\n",
       "      <td>14515</td>\n",
       "      <td>2425.63</td>\n",
       "      <td>84106</td>\n",
       "      <td>0.17</td>\n",
       "      <td>0.03</td>\n",
       "    </tr>\n",
       "    <tr>\n",
       "      <th>283</th>\n",
       "      <td>2020-06-18</td>\n",
       "      <td>0</td>\n",
       "      <td>73202</td>\n",
       "      <td>26219.33</td>\n",
       "      <td>73202</td>\n",
       "      <td>1.00</td>\n",
       "      <td>0.36</td>\n",
       "    </tr>\n",
       "    <tr>\n",
       "      <th>284</th>\n",
       "      <td>2020-06-18</td>\n",
       "      <td>1</td>\n",
       "      <td>27743</td>\n",
       "      <td>5864.79</td>\n",
       "      <td>73202</td>\n",
       "      <td>0.38</td>\n",
       "      <td>0.08</td>\n",
       "    </tr>\n",
       "    <tr>\n",
       "      <th>285</th>\n",
       "      <td>2020-06-25</td>\n",
       "      <td>0</td>\n",
       "      <td>74833</td>\n",
       "      <td>14130.98</td>\n",
       "      <td>74833</td>\n",
       "      <td>1.00</td>\n",
       "      <td>0.19</td>\n",
       "    </tr>\n",
       "  </tbody>\n",
       "</table>\n",
       "<p>286 rows × 7 columns</p>\n",
       "</div>"
      ],
      "text/plain": [
       "    first_week  lifetime_week  user_id  reporting_revenue  cohort_week_users  \\\n",
       "0   2020-01-16              0        5             167.92                  5   \n",
       "1   2020-01-16              1        2             886.74                  5   \n",
       "2   2020-01-16              2        1               7.04                  5   \n",
       "3   2020-01-16              3        2               9.04                  5   \n",
       "4   2020-01-16              4        2              25.58                  5   \n",
       "..         ...            ...      ...                ...                ...   \n",
       "281 2020-06-11              1    32745            9192.85              84106   \n",
       "282 2020-06-11              2    14515            2425.63              84106   \n",
       "283 2020-06-18              0    73202           26219.33              73202   \n",
       "284 2020-06-18              1    27743            5864.79              73202   \n",
       "285 2020-06-25              0    74833           14130.98              74833   \n",
       "\n",
       "     retention    arpu  \n",
       "0         1.00   33.58  \n",
       "1         0.40  177.35  \n",
       "2         0.20    1.41  \n",
       "3         0.40    1.81  \n",
       "4         0.40    5.12  \n",
       "..         ...     ...  \n",
       "281       0.39    0.11  \n",
       "282       0.17    0.03  \n",
       "283       1.00    0.36  \n",
       "284       0.38    0.08  \n",
       "285       1.00    0.19  \n",
       "\n",
       "[286 rows x 7 columns]"
      ]
     },
     "execution_count": 124,
     "metadata": {},
     "output_type": "execute_result"
    }
   ],
   "source": [
    "cohorts_week"
   ]
  },
  {
   "cell_type": "code",
   "execution_count": 125,
   "metadata": {},
   "outputs": [
    {
     "data": {
      "text/plain": [
       "<AxesSubplot:title={'center':'Weekly ARPU'}, xlabel='lifetime_week', ylabel='first_week'>"
      ]
     },
     "execution_count": 125,
     "metadata": {},
     "output_type": "execute_result"
    },
    {
     "data": {
      "image/png": "[encoded data removed]",
      "text/plain": [
       "<Figure size 1800x1440 with 2 Axes>"
      ]
     },
     "metadata": {},
     "output_type": "display_data"
    }
   ],
   "source": [
    "sns.set(style='white')\n",
    "plt.figure(figsize=(25, 20))\n",
    "plt.title('Weekly ARPU')\n",
    "sns.heatmap(arpu_week_pivot, annot=True, fmt='.2f', linewidths=1, linecolor='gray', vmin = 0.0, vmax = 35, square = True)"
   ]
  },
  {
   "cell_type": "markdown",
   "metadata": {},
   "source": [
    "В разбивке по неделям так же видно, что ARPU очень низкий, пользователи не охотно совершают покупки."
   ]
  },
  {
   "cell_type": "markdown",
   "metadata": {},
   "source": [
    "## По дням <a name='день'></a>"
   ]
  },
  {
   "cell_type": "markdown",
   "metadata": {},
   "source": [
    "Так как в разбивке по дням хитмэпы будут выглядеть неинформативно для восприятия, просто посчитаем суммарный ARPU для каждой дневной когорты"
   ]
  },
  {
   "cell_type": "code",
   "execution_count": 129,
   "metadata": {},
   "outputs": [],
   "source": [
    "first_day = df.groupby(['user_id'])['created_day'].min()"
   ]
  },
  {
   "cell_type": "code",
   "execution_count": 130,
   "metadata": {},
   "outputs": [
    {
     "data": {
      "text/plain": [
       "user_id\n",
       "00000d13-a60b-d8a5-372c-6ac3338d9532   2020-05-02\n",
       "000021ca-20bf-8f73-7298-88d4091c0b43   2020-04-06\n",
       "00003734-81ef-7a1d-e4c9-f984bf2bc8bc   2020-05-02\n",
       "00004cea-3621-30ef-db24-1e52d001449b   2020-04-03\n",
       "00005b7d-52a7-2280-be8e-a932155dd075   2020-06-22\n",
       "Name: created_day, dtype: datetime64[ns]"
      ]
     },
     "execution_count": 130,
     "metadata": {},
     "output_type": "execute_result"
    }
   ],
   "source": [
    "first_day.head()"
   ]
  },
  {
   "cell_type": "code",
   "execution_count": 131,
   "metadata": {},
   "outputs": [],
   "source": [
    "first_day.name = 'first_day'"
   ]
  },
  {
   "cell_type": "code",
   "execution_count": 132,
   "metadata": {},
   "outputs": [],
   "source": [
    "df = df.join(first_day,on='user_id') "
   ]
  },
  {
   "cell_type": "code",
   "execution_count": 133,
   "metadata": {},
   "outputs": [],
   "source": [
    "cohorts_daily = df.groupby(['first_day']).agg({'user_id':'nunique', 'reporting_revenue' : 'sum'}).reset_index() "
   ]
  },
  {
   "cell_type": "code",
   "execution_count": 134,
   "metadata": {},
   "outputs": [
    {
     "data": {
      "text/html": [
       "<div>\n",
       "<style scoped>\n",
       "    .dataframe tbody tr th:only-of-type {\n",
       "        vertical-align: middle;\n",
       "    }\n",
       "\n",
       "    .dataframe tbody tr th {\n",
       "        vertical-align: top;\n",
       "    }\n",
       "\n",
       "    .dataframe thead th {\n",
       "        text-align: right;\n",
       "    }\n",
       "</style>\n",
       "<table border=\"1\" class=\"dataframe\">\n",
       "  <thead>\n",
       "    <tr style=\"text-align: right;\">\n",
       "      <th></th>\n",
       "      <th>first_day</th>\n",
       "      <th>user_id</th>\n",
       "      <th>reporting_revenue</th>\n",
       "    </tr>\n",
       "  </thead>\n",
       "  <tbody>\n",
       "    <tr>\n",
       "      <th>0</th>\n",
       "      <td>2020-01-17</td>\n",
       "      <td>1</td>\n",
       "      <td>244.939858</td>\n",
       "    </tr>\n",
       "    <tr>\n",
       "      <th>1</th>\n",
       "      <td>2020-01-20</td>\n",
       "      <td>2</td>\n",
       "      <td>1958.639163</td>\n",
       "    </tr>\n",
       "    <tr>\n",
       "      <th>2</th>\n",
       "      <td>2020-01-21</td>\n",
       "      <td>1</td>\n",
       "      <td>19.545125</td>\n",
       "    </tr>\n",
       "    <tr>\n",
       "      <th>3</th>\n",
       "      <td>2020-01-22</td>\n",
       "      <td>1</td>\n",
       "      <td>6.675666</td>\n",
       "    </tr>\n",
       "    <tr>\n",
       "      <th>4</th>\n",
       "      <td>2020-01-23</td>\n",
       "      <td>12</td>\n",
       "      <td>256.861398</td>\n",
       "    </tr>\n",
       "  </tbody>\n",
       "</table>\n",
       "</div>"
      ],
      "text/plain": [
       "   first_day  user_id  reporting_revenue\n",
       "0 2020-01-17        1         244.939858\n",
       "1 2020-01-20        2        1958.639163\n",
       "2 2020-01-21        1          19.545125\n",
       "3 2020-01-22        1           6.675666\n",
       "4 2020-01-23       12         256.861398"
      ]
     },
     "execution_count": 134,
     "metadata": {},
     "output_type": "execute_result"
    }
   ],
   "source": [
    "cohorts_daily.head()"
   ]
  },
  {
   "cell_type": "code",
   "execution_count": 135,
   "metadata": {},
   "outputs": [],
   "source": [
    "cohorts_daily['arpu'] = cohorts_daily['reporting_revenue'] / cohorts_daily['user_id']"
   ]
  },
  {
   "cell_type": "code",
   "execution_count": 136,
   "metadata": {},
   "outputs": [
    {
     "data": {
      "text/html": [
       "<div>\n",
       "<style scoped>\n",
       "    .dataframe tbody tr th:only-of-type {\n",
       "        vertical-align: middle;\n",
       "    }\n",
       "\n",
       "    .dataframe tbody tr th {\n",
       "        vertical-align: top;\n",
       "    }\n",
       "\n",
       "    .dataframe thead th {\n",
       "        text-align: right;\n",
       "    }\n",
       "</style>\n",
       "<table border=\"1\" class=\"dataframe\">\n",
       "  <thead>\n",
       "    <tr style=\"text-align: right;\">\n",
       "      <th></th>\n",
       "      <th>first_day</th>\n",
       "      <th>user_id</th>\n",
       "      <th>reporting_revenue</th>\n",
       "      <th>arpu</th>\n",
       "    </tr>\n",
       "  </thead>\n",
       "  <tbody>\n",
       "    <tr>\n",
       "      <th>0</th>\n",
       "      <td>2020-01-17</td>\n",
       "      <td>1</td>\n",
       "      <td>244.939858</td>\n",
       "      <td>244.939858</td>\n",
       "    </tr>\n",
       "    <tr>\n",
       "      <th>1</th>\n",
       "      <td>2020-01-20</td>\n",
       "      <td>2</td>\n",
       "      <td>1958.639163</td>\n",
       "      <td>979.319582</td>\n",
       "    </tr>\n",
       "    <tr>\n",
       "      <th>2</th>\n",
       "      <td>2020-01-21</td>\n",
       "      <td>1</td>\n",
       "      <td>19.545125</td>\n",
       "      <td>19.545125</td>\n",
       "    </tr>\n",
       "    <tr>\n",
       "      <th>3</th>\n",
       "      <td>2020-01-22</td>\n",
       "      <td>1</td>\n",
       "      <td>6.675666</td>\n",
       "      <td>6.675666</td>\n",
       "    </tr>\n",
       "    <tr>\n",
       "      <th>4</th>\n",
       "      <td>2020-01-23</td>\n",
       "      <td>12</td>\n",
       "      <td>256.861398</td>\n",
       "      <td>21.405117</td>\n",
       "    </tr>\n",
       "  </tbody>\n",
       "</table>\n",
       "</div>"
      ],
      "text/plain": [
       "   first_day  user_id  reporting_revenue        arpu\n",
       "0 2020-01-17        1         244.939858  244.939858\n",
       "1 2020-01-20        2        1958.639163  979.319582\n",
       "2 2020-01-21        1          19.545125   19.545125\n",
       "3 2020-01-22        1           6.675666    6.675666\n",
       "4 2020-01-23       12         256.861398   21.405117"
      ]
     },
     "execution_count": 136,
     "metadata": {},
     "output_type": "execute_result"
    }
   ],
   "source": [
    "cohorts_daily.head()"
   ]
  },
  {
   "cell_type": "code",
   "execution_count": 137,
   "metadata": {},
   "outputs": [
    {
     "data": {
      "image/png": "[encoded data removed]",
      "text/plain": [
       "<Figure size 648x432 with 1 Axes>"
      ]
     },
     "metadata": {},
     "output_type": "display_data"
    }
   ],
   "source": [
    "fig, ax = plt.subplots()\n",
    "fig.set_figheight(6) \n",
    "fig.set_figwidth(9) \n",
    "ax.plot(cohorts_daily.first_day, cohorts_daily.arpu)\n",
    "ax.set_xlabel('когорта', fontsize = 15, color = 'black')\n",
    "ax.set_ylabel('д.е.', fontsize = 15, color = 'black')\n",
    "plt.xticks(rotation=90)\n",
    "ax.grid(True)\n",
    "ax.set_title('ARPU по дневным когортам')\n",
    "plt.show()"
   ]
  },
  {
   "cell_type": "code",
   "execution_count": 138,
   "metadata": {},
   "outputs": [
    {
     "data": {
      "text/html": [
       "<div>\n",
       "<style scoped>\n",
       "    .dataframe tbody tr th:only-of-type {\n",
       "        vertical-align: middle;\n",
       "    }\n",
       "\n",
       "    .dataframe tbody tr th {\n",
       "        vertical-align: top;\n",
       "    }\n",
       "\n",
       "    .dataframe thead th {\n",
       "        text-align: right;\n",
       "    }\n",
       "</style>\n",
       "<table border=\"1\" class=\"dataframe\">\n",
       "  <thead>\n",
       "    <tr style=\"text-align: right;\">\n",
       "      <th></th>\n",
       "      <th>first_day</th>\n",
       "      <th>user_id</th>\n",
       "      <th>reporting_revenue</th>\n",
       "      <th>arpu</th>\n",
       "    </tr>\n",
       "  </thead>\n",
       "  <tbody>\n",
       "    <tr>\n",
       "      <th>1</th>\n",
       "      <td>2020-01-20</td>\n",
       "      <td>2</td>\n",
       "      <td>1958.639163</td>\n",
       "      <td>979.319582</td>\n",
       "    </tr>\n",
       "    <tr>\n",
       "      <th>0</th>\n",
       "      <td>2020-01-17</td>\n",
       "      <td>1</td>\n",
       "      <td>244.939858</td>\n",
       "      <td>244.939858</td>\n",
       "    </tr>\n",
       "    <tr>\n",
       "      <th>8</th>\n",
       "      <td>2020-01-27</td>\n",
       "      <td>48</td>\n",
       "      <td>9071.324651</td>\n",
       "      <td>188.985930</td>\n",
       "    </tr>\n",
       "    <tr>\n",
       "      <th>9</th>\n",
       "      <td>2020-01-28</td>\n",
       "      <td>50</td>\n",
       "      <td>7291.671437</td>\n",
       "      <td>145.833429</td>\n",
       "    </tr>\n",
       "    <tr>\n",
       "      <th>10</th>\n",
       "      <td>2020-01-29</td>\n",
       "      <td>57</td>\n",
       "      <td>3945.314458</td>\n",
       "      <td>69.216043</td>\n",
       "    </tr>\n",
       "    <tr>\n",
       "      <th>7</th>\n",
       "      <td>2020-01-26</td>\n",
       "      <td>28</td>\n",
       "      <td>1406.851050</td>\n",
       "      <td>50.244680</td>\n",
       "    </tr>\n",
       "    <tr>\n",
       "      <th>5</th>\n",
       "      <td>2020-01-24</td>\n",
       "      <td>31</td>\n",
       "      <td>983.009514</td>\n",
       "      <td>31.709984</td>\n",
       "    </tr>\n",
       "    <tr>\n",
       "      <th>16</th>\n",
       "      <td>2020-02-04</td>\n",
       "      <td>85</td>\n",
       "      <td>2656.038079</td>\n",
       "      <td>31.247507</td>\n",
       "    </tr>\n",
       "    <tr>\n",
       "      <th>4</th>\n",
       "      <td>2020-01-23</td>\n",
       "      <td>12</td>\n",
       "      <td>256.861398</td>\n",
       "      <td>21.405117</td>\n",
       "    </tr>\n",
       "    <tr>\n",
       "      <th>19</th>\n",
       "      <td>2020-02-07</td>\n",
       "      <td>131</td>\n",
       "      <td>2714.627469</td>\n",
       "      <td>20.722347</td>\n",
       "    </tr>\n",
       "    <tr>\n",
       "      <th>31</th>\n",
       "      <td>2020-02-19</td>\n",
       "      <td>237</td>\n",
       "      <td>4746.091642</td>\n",
       "      <td>20.025703</td>\n",
       "    </tr>\n",
       "    <tr>\n",
       "      <th>54</th>\n",
       "      <td>2020-03-13</td>\n",
       "      <td>199</td>\n",
       "      <td>3928.124939</td>\n",
       "      <td>19.739321</td>\n",
       "    </tr>\n",
       "    <tr>\n",
       "      <th>2</th>\n",
       "      <td>2020-01-21</td>\n",
       "      <td>1</td>\n",
       "      <td>19.545125</td>\n",
       "      <td>19.545125</td>\n",
       "    </tr>\n",
       "    <tr>\n",
       "      <th>53</th>\n",
       "      <td>2020-03-12</td>\n",
       "      <td>206</td>\n",
       "      <td>3880.885306</td>\n",
       "      <td>18.839249</td>\n",
       "    </tr>\n",
       "    <tr>\n",
       "      <th>29</th>\n",
       "      <td>2020-02-17</td>\n",
       "      <td>181</td>\n",
       "      <td>3359.072305</td>\n",
       "      <td>18.558411</td>\n",
       "    </tr>\n",
       "  </tbody>\n",
       "</table>\n",
       "</div>"
      ],
      "text/plain": [
       "    first_day  user_id  reporting_revenue        arpu\n",
       "1  2020-01-20        2        1958.639163  979.319582\n",
       "0  2020-01-17        1         244.939858  244.939858\n",
       "8  2020-01-27       48        9071.324651  188.985930\n",
       "9  2020-01-28       50        7291.671437  145.833429\n",
       "10 2020-01-29       57        3945.314458   69.216043\n",
       "7  2020-01-26       28        1406.851050   50.244680\n",
       "5  2020-01-24       31         983.009514   31.709984\n",
       "16 2020-02-04       85        2656.038079   31.247507\n",
       "4  2020-01-23       12         256.861398   21.405117\n",
       "19 2020-02-07      131        2714.627469   20.722347\n",
       "31 2020-02-19      237        4746.091642   20.025703\n",
       "54 2020-03-13      199        3928.124939   19.739321\n",
       "2  2020-01-21        1          19.545125   19.545125\n",
       "53 2020-03-12      206        3880.885306   18.839249\n",
       "29 2020-02-17      181        3359.072305   18.558411"
      ]
     },
     "execution_count": 138,
     "metadata": {},
     "output_type": "execute_result"
    }
   ],
   "source": [
    "cohorts_daily.sort_values('arpu', ascending = False).head(15)"
   ]
  },
  {
   "cell_type": "markdown",
   "metadata": {},
   "source": [
    "График отражает картину, которую мы наблюдали ранее - до февраля, а особенно в первый месяц наблюдений, люди часто совершали покупки, а затем прибыль на пользователя совсем опустилась почти к нулевой отметке.  "
   ]
  },
  {
   "cell_type": "markdown",
   "metadata": {},
   "source": [
    "# Выводы: <a name='вывод'></a>"
   ]
  },
  {
   "cell_type": "markdown",
   "metadata": {},
   "source": [
    "В имеющихся данных за 16.12.19-01.07.2020 были удалены дублирующиеся строки, анализ проводился на 11 196 028 записях. В первый месяц наблюдения кол-во игроков было небольшим, но все юзеры совершали покупки. Февральская когорта тоже совершала покупки в свой первый месяц, но ARPU упал засчет того, что кол-во пользователей увеличилось. В последующие недели и месяцы аудитория росла, но юзеры очень редко совершали покупки, уровень прибыли оставался примерно на одном уровне в пределах 100-110 тысяч, кол-во покупателей в пределах 6 тысяч. При этом в период с марта по апрель аудитория достигла своего пика, увеличившись многоратно до 542 тысяч человек. После чего интерес к игре снова начал убывать. При этом странно, что на спаде интереса в июне был полуторный рост выручки (150 000). \n",
    "В целом игроки не задерживаются дольше 1 недели, и , возможно, отчасти от этого так мало покупок - юзеры просто не вовлечены в процесс. Стоит работать и над удержанием, и над внутриигровой монетизацией. "
   ]
  }
 ],
 "metadata": {
  "kernelspec": {
   "display_name": "Python 3 (ipykernel)",
   "language": "python",
   "name": "python3"
  },
  "language_info": {
   "codemirror_mode": {
    "name": "ipython",
    "version": 3
   },
   "file_extension": ".py",
   "mimetype": "text/x-python",
   "name": "python",
   "nbconvert_exporter": "python",
   "pygments_lexer": "ipython3",
   "version": "3.9.6"
  }
 },
 "nbformat": 4,
 "nbformat_minor": 4
}
