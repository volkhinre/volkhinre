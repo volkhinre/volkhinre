{
 "cells": [
  {
   "cell_type": "markdown",
   "metadata": {},
   "source": [
    "# Анализ влияния источника перехода в игру на поведение пользователя в мобильной игре"
   ]
  },
  {
   "cell_type": "markdown",
   "metadata": {},
   "source": [
    "**Задачи**:\n",
    "- *предобработка данных*\n",
    "- *исследовательский анализ*:\n",
    "- посчитать, какой % пользователей завершил 1 уровень (в разбивке на источники)\n",
    "- посмотреть, какая часть пользователей завершает уровень, выполнив 1-е условие, а какая - выполнив 2-е условие (в целом и в разбивке на источники)\n",
    "- в зависимости от выполненного условия изучить, какие действия совершают игроки (сколько зданий строят, какие здания строят)\n",
    "- сколько времени уходит на завершение уровня (в зависимости от условия и в разбивке на источники)\n",
    "- *статистический анализ, проверка гипотез*\n"
   ]
  },
  {
   "cell_type": "markdown",
   "metadata": {},
   "source": [
    "# Оглавление\n",
    "1. [Предобработка данных](#предобработка)  \n",
    "2. [Исследовательский анализ](#анализ)  \n",
    "3. [Проверка гипотез](#гипотезы)  \n",
    "4. [Общий вывод](#вывод)  \n"
   ]
  },
  {
   "cell_type": "code",
   "execution_count": 1,
   "metadata": {},
   "outputs": [],
   "source": [
    "import pandas as pd\n",
    "import plotly.express as px\n",
    "import numpy as np\n",
    "import seaborn as sns\n",
    "import matplotlib.pyplot as plt\n",
    "from scipy import stats as st\n",
    "import math as mth"
   ]
  },
  {
   "cell_type": "markdown",
   "metadata": {},
   "source": [
    "# 1. Предобработка данных <a name=\"предобработка\"></a>"
   ]
  },
  {
   "cell_type": "code",
   "execution_count": 2,
   "metadata": {},
   "outputs": [],
   "source": [
    "# считываем имеющиеся датафреймы\n",
    "game_actions = pd.read_csv('/datasets/game_actions.csv')\n",
    "ad_costs = pd.read_csv('/datasets/ad_costs.csv')\n",
    "user_source = pd.read_csv('/datasets/user_source.csv')"
   ]
  },
  {
   "cell_type": "code",
   "execution_count": 3,
   "metadata": {},
   "outputs": [
    {
     "data": {
      "text/html": [
       "<div>\n",
       "<style scoped>\n",
       "    .dataframe tbody tr th:only-of-type {\n",
       "        vertical-align: middle;\n",
       "    }\n",
       "\n",
       "    .dataframe tbody tr th {\n",
       "        vertical-align: top;\n",
       "    }\n",
       "\n",
       "    .dataframe thead th {\n",
       "        text-align: right;\n",
       "    }\n",
       "</style>\n",
       "<table border=\"1\" class=\"dataframe\">\n",
       "  <thead>\n",
       "    <tr style=\"text-align: right;\">\n",
       "      <th></th>\n",
       "      <th>event_datetime</th>\n",
       "      <th>event</th>\n",
       "      <th>building_type</th>\n",
       "      <th>user_id</th>\n",
       "      <th>project_type</th>\n",
       "    </tr>\n",
       "  </thead>\n",
       "  <tbody>\n",
       "    <tr>\n",
       "      <td>0</td>\n",
       "      <td>2020-05-04 00:00:01</td>\n",
       "      <td>building</td>\n",
       "      <td>assembly_shop</td>\n",
       "      <td>55e92310-cb8e-4754-b622-597e124b03de</td>\n",
       "      <td>NaN</td>\n",
       "    </tr>\n",
       "    <tr>\n",
       "      <td>1</td>\n",
       "      <td>2020-05-04 00:00:03</td>\n",
       "      <td>building</td>\n",
       "      <td>assembly_shop</td>\n",
       "      <td>c07b1c10-f477-44dc-81dc-ec82254b1347</td>\n",
       "      <td>NaN</td>\n",
       "    </tr>\n",
       "    <tr>\n",
       "      <td>2</td>\n",
       "      <td>2020-05-04 00:00:16</td>\n",
       "      <td>building</td>\n",
       "      <td>assembly_shop</td>\n",
       "      <td>6edd42cc-e753-4ff6-a947-2107cd560710</td>\n",
       "      <td>NaN</td>\n",
       "    </tr>\n",
       "    <tr>\n",
       "      <td>3</td>\n",
       "      <td>2020-05-04 00:00:16</td>\n",
       "      <td>building</td>\n",
       "      <td>assembly_shop</td>\n",
       "      <td>92c69003-d60a-444a-827f-8cc51bf6bf4c</td>\n",
       "      <td>NaN</td>\n",
       "    </tr>\n",
       "    <tr>\n",
       "      <td>4</td>\n",
       "      <td>2020-05-04 00:00:35</td>\n",
       "      <td>building</td>\n",
       "      <td>assembly_shop</td>\n",
       "      <td>cdc6bb92-0ccb-4490-9866-ef142f09139d</td>\n",
       "      <td>NaN</td>\n",
       "    </tr>\n",
       "  </tbody>\n",
       "</table>\n",
       "</div>"
      ],
      "text/plain": [
       "        event_datetime     event  building_type  \\\n",
       "0  2020-05-04 00:00:01  building  assembly_shop   \n",
       "1  2020-05-04 00:00:03  building  assembly_shop   \n",
       "2  2020-05-04 00:00:16  building  assembly_shop   \n",
       "3  2020-05-04 00:00:16  building  assembly_shop   \n",
       "4  2020-05-04 00:00:35  building  assembly_shop   \n",
       "\n",
       "                                user_id project_type  \n",
       "0  55e92310-cb8e-4754-b622-597e124b03de          NaN  \n",
       "1  c07b1c10-f477-44dc-81dc-ec82254b1347          NaN  \n",
       "2  6edd42cc-e753-4ff6-a947-2107cd560710          NaN  \n",
       "3  92c69003-d60a-444a-827f-8cc51bf6bf4c          NaN  \n",
       "4  cdc6bb92-0ccb-4490-9866-ef142f09139d          NaN  "
      ]
     },
     "execution_count": 3,
     "metadata": {},
     "output_type": "execute_result"
    }
   ],
   "source": [
    "game_actions.head()"
   ]
  },
  {
   "cell_type": "markdown",
   "metadata": {},
   "source": [
    "В таблице ***game_actions*** имеются столбцы:\n",
    "- event_datetime (дата совершения события)\n",
    "- event (название события)\n",
    "- building_type (тип постройки)\n",
    "- user_id (id пользователя)\n",
    "- project_type (тип проекта)"
   ]
  },
  {
   "cell_type": "code",
   "execution_count": 4,
   "metadata": {},
   "outputs": [
    {
     "name": "stdout",
     "output_type": "stream",
     "text": [
      "<class 'pandas.core.frame.DataFrame'>\n",
      "RangeIndex: 135640 entries, 0 to 135639\n",
      "Data columns (total 5 columns):\n",
      "event_datetime    135640 non-null object\n",
      "event             135640 non-null object\n",
      "building_type     127957 non-null object\n",
      "user_id           135640 non-null object\n",
      "project_type      1866 non-null object\n",
      "dtypes: object(5)\n",
      "memory usage: 5.2+ MB\n"
     ]
    }
   ],
   "source": [
    "game_actions.info()"
   ]
  },
  {
   "cell_type": "markdown",
   "metadata": {},
   "source": [
    "Есть пропуски в столбцах ***\"тип постройки*** и ***\"тип проекта\"***. Скорее всего, в типе постройки пропущены значения в событиях, не относящихся к строительству. \n",
    "Столбец с датой нужно привести к формату *datetime*"
   ]
  },
  {
   "cell_type": "code",
   "execution_count": 5,
   "metadata": {},
   "outputs": [
    {
     "data": {
      "text/plain": [
       "building            127957\n",
       "finished_stage_1      5817\n",
       "project               1866\n",
       "Name: event, dtype: int64"
      ]
     },
     "execution_count": 5,
     "metadata": {},
     "output_type": "execute_result"
    }
   ],
   "source": [
    "game_actions.event.value_counts()"
   ]
  },
  {
   "cell_type": "markdown",
   "metadata": {},
   "source": [
    "Проект завершили ***1866*** игороков, а первый уровень - ***5817***"
   ]
  },
  {
   "cell_type": "markdown",
   "metadata": {},
   "source": [
    "Для завершения первого уровня неоходимо либо выполнить проект по постройке, либо одержать победу над другим игроком. "
   ]
  },
  {
   "cell_type": "code",
   "execution_count": 6,
   "metadata": {},
   "outputs": [
    {
     "name": "stdout",
     "output_type": "stream",
     "text": [
      "<class 'pandas.core.frame.DataFrame'>\n",
      "Int64Index: 127957 entries, 0 to 135637\n",
      "Data columns (total 2 columns):\n",
      "event            127957 non-null object\n",
      "building_type    127957 non-null object\n",
      "dtypes: object(2)\n",
      "memory usage: 2.9+ MB\n"
     ]
    }
   ],
   "source": [
    "game_actions[game_actions.event == 'building'][['event', 'building_type']].info()"
   ]
  },
  {
   "cell_type": "markdown",
   "metadata": {},
   "source": [
    "Все верно, тип здания указан только в ячейках событий \"строительство\""
   ]
  },
  {
   "cell_type": "code",
   "execution_count": 7,
   "metadata": {},
   "outputs": [
    {
     "data": {
      "text/plain": [
       "satellite_orbital_assembly    1866\n",
       "Name: project_type, dtype: int64"
      ]
     },
     "execution_count": 7,
     "metadata": {},
     "output_type": "execute_result"
    }
   ],
   "source": [
    "game_actions.project_type.value_counts()"
   ]
  },
  {
   "cell_type": "code",
   "execution_count": 8,
   "metadata": {},
   "outputs": [],
   "source": [
    "# преобразовываем формат даты\n",
    "game_actions['date'] = pd.to_datetime(game_actions.event_datetime)"
   ]
  },
  {
   "cell_type": "code",
   "execution_count": 9,
   "metadata": {},
   "outputs": [],
   "source": [
    "#выделяем дату без времени\n",
    "game_actions['day'] = game_actions.event_datetime.astype('datetime64[D]')"
   ]
  },
  {
   "cell_type": "markdown",
   "metadata": {},
   "source": [
    "В таблице должны быть данные по когорте с 4 по 10 мая, нужно проверить, так ли это"
   ]
  },
  {
   "cell_type": "code",
   "execution_count": 10,
   "metadata": {},
   "outputs": [
    {
     "data": {
      "text/plain": [
       "min   2020-05-04 00:00:01\n",
       "max   2020-06-05 12:32:49\n",
       "Name: date, dtype: datetime64[ns]"
      ]
     },
     "execution_count": 10,
     "metadata": {},
     "output_type": "execute_result"
    }
   ],
   "source": [
    "game_actions.date.agg(['min', 'max'])"
   ]
  },
  {
   "cell_type": "markdown",
   "metadata": {},
   "source": [
    "Сами события длятся с 4 мая по 5 июня"
   ]
  },
  {
   "cell_type": "code",
   "execution_count": 11,
   "metadata": {},
   "outputs": [
    {
     "data": {
      "text/plain": [
       "13576"
      ]
     },
     "execution_count": 11,
     "metadata": {},
     "output_type": "execute_result"
    }
   ],
   "source": [
    "game_actions.user_id.nunique()"
   ]
  },
  {
   "cell_type": "code",
   "execution_count": 12,
   "metadata": {},
   "outputs": [
    {
     "data": {
      "text/plain": [
       "13576"
      ]
     },
     "execution_count": 12,
     "metadata": {},
     "output_type": "execute_result"
    }
   ],
   "source": [
    "len(game_actions.groupby('user_id')['date'].min() <= '2020-05-10') "
   ]
  },
  {
   "cell_type": "markdown",
   "metadata": {},
   "source": [
    "У нас всего 13576 пользователей, все принадлежат когорте с 4 по 10 мая"
   ]
  },
  {
   "cell_type": "code",
   "execution_count": 13,
   "metadata": {},
   "outputs": [
    {
     "data": {
      "text/html": [
       "<div>\n",
       "<style scoped>\n",
       "    .dataframe tbody tr th:only-of-type {\n",
       "        vertical-align: middle;\n",
       "    }\n",
       "\n",
       "    .dataframe tbody tr th {\n",
       "        vertical-align: top;\n",
       "    }\n",
       "\n",
       "    .dataframe thead th {\n",
       "        text-align: right;\n",
       "    }\n",
       "</style>\n",
       "<table border=\"1\" class=\"dataframe\">\n",
       "  <thead>\n",
       "    <tr style=\"text-align: right;\">\n",
       "      <th></th>\n",
       "      <th>event_datetime</th>\n",
       "      <th>event</th>\n",
       "      <th>building_type</th>\n",
       "      <th>user_id</th>\n",
       "      <th>project_type</th>\n",
       "      <th>date</th>\n",
       "      <th>day</th>\n",
       "    </tr>\n",
       "  </thead>\n",
       "  <tbody>\n",
       "    <tr>\n",
       "      <td>74890</td>\n",
       "      <td>2020-05-10 18:41:56</td>\n",
       "      <td>building</td>\n",
       "      <td>research_center</td>\n",
       "      <td>c9af55d2-b0ae-4bb4-b3d5-f32aa9ac03af</td>\n",
       "      <td>NaN</td>\n",
       "      <td>2020-05-10 18:41:56</td>\n",
       "      <td>2020-05-10</td>\n",
       "    </tr>\n",
       "    <tr>\n",
       "      <td>74891</td>\n",
       "      <td>2020-05-10 18:41:56</td>\n",
       "      <td>building</td>\n",
       "      <td>research_center</td>\n",
       "      <td>c9af55d2-b0ae-4bb4-b3d5-f32aa9ac03af</td>\n",
       "      <td>NaN</td>\n",
       "      <td>2020-05-10 18:41:56</td>\n",
       "      <td>2020-05-10</td>\n",
       "    </tr>\n",
       "  </tbody>\n",
       "</table>\n",
       "</div>"
      ],
      "text/plain": [
       "            event_datetime     event    building_type  \\\n",
       "74890  2020-05-10 18:41:56  building  research_center   \n",
       "74891  2020-05-10 18:41:56  building  research_center   \n",
       "\n",
       "                                    user_id project_type                date  \\\n",
       "74890  c9af55d2-b0ae-4bb4-b3d5-f32aa9ac03af          NaN 2020-05-10 18:41:56   \n",
       "74891  c9af55d2-b0ae-4bb4-b3d5-f32aa9ac03af          NaN 2020-05-10 18:41:56   \n",
       "\n",
       "             day  \n",
       "74890 2020-05-10  \n",
       "74891 2020-05-10  "
      ]
     },
     "execution_count": 13,
     "metadata": {},
     "output_type": "execute_result"
    }
   ],
   "source": [
    "#проверяем дубликаты\n",
    "game_actions[game_actions.duplicated(keep = False)]"
   ]
  },
  {
   "cell_type": "code",
   "execution_count": 14,
   "metadata": {},
   "outputs": [],
   "source": [
    "# удаляем найденный дубликат \n",
    "game_actions.drop_duplicates(keep='first', inplace = True)\n",
    "game_actions.reset_index(inplace = True)"
   ]
  },
  {
   "cell_type": "code",
   "execution_count": 15,
   "metadata": {},
   "outputs": [
    {
     "data": {
      "text/plain": [
       "building            127956\n",
       "finished_stage_1      5817\n",
       "project               1866\n",
       "Name: event, dtype: int64"
      ]
     },
     "execution_count": 15,
     "metadata": {},
     "output_type": "execute_result"
    }
   ],
   "source": [
    "game_actions.event.value_counts()"
   ]
  },
  {
   "cell_type": "code",
   "execution_count": 16,
   "metadata": {},
   "outputs": [
    {
     "data": {
      "text/plain": [
       "3951"
      ]
     },
     "execution_count": 16,
     "metadata": {},
     "output_type": "execute_result"
    }
   ],
   "source": [
    "game_actions.event.value_counts()['finished_stage_1'] - game_actions.event.value_counts()['project']"
   ]
  },
  {
   "cell_type": "code",
   "execution_count": 17,
   "metadata": {},
   "outputs": [
    {
     "data": {
      "text/plain": [
       "NaN                           133773\n",
       "satellite_orbital_assembly      1866\n",
       "Name: project_type, dtype: int64"
      ]
     },
     "execution_count": 17,
     "metadata": {},
     "output_type": "execute_result"
    }
   ],
   "source": [
    "game_actions.project_type.value_counts(dropna = False)"
   ]
  },
  {
   "cell_type": "markdown",
   "metadata": {},
   "source": [
    "В столбце событий содержится 3 типа ивентов: \n",
    "- постройка\n",
    "- завершение 1 уровня\n",
    "- выполнение проекта  \n",
    "Чтобы завершить 1 уровень нужно либо выполнить проект, либо победить другого игрока. Факт победы над игроком у нас отсутствует. Было принято решение, что пользователи, у которых есть запись о завершении уровня, но нет записи о выполненном проекте, прошли 1 уровень путем выполнения альтернативного условия. Таких пользователей **3951**"
   ]
  },
  {
   "cell_type": "code",
   "execution_count": 18,
   "metadata": {},
   "outputs": [],
   "source": [
    "#список пользователей, выполнивших проект по постройке орбитальной станции\n",
    "builders = game_actions.loc[(game_actions.project_type == 'satellite_orbital_assembly')]['user_id']"
   ]
  },
  {
   "cell_type": "code",
   "execution_count": 19,
   "metadata": {},
   "outputs": [],
   "source": [
    "#заменяем пропуски в project_type для остальных пользователей, завершивших 1 уровень, на 'battle'\n",
    "game_actions.loc[(game_actions.event == 'finished_stage_1') & (~game_actions.user_id.isin(builders)), 'project_type'] = 'battle'"
   ]
  },
  {
   "cell_type": "code",
   "execution_count": 20,
   "metadata": {},
   "outputs": [
    {
     "data": {
      "text/plain": [
       "NaN                           129822\n",
       "battle                          3951\n",
       "satellite_orbital_assembly      1866\n",
       "Name: project_type, dtype: int64"
      ]
     },
     "execution_count": 20,
     "metadata": {},
     "output_type": "execute_result"
    }
   ],
   "source": [
    "game_actions.project_type.value_counts(dropna = False)"
   ]
  },
  {
   "cell_type": "code",
   "execution_count": 21,
   "metadata": {},
   "outputs": [],
   "source": [
    "# также отдельно выделим id тех, кто закончил уровень боем\n",
    "warriors = game_actions.loc[(game_actions.project_type == 'battle')]['user_id']"
   ]
  },
  {
   "cell_type": "markdown",
   "metadata": {},
   "source": [
    "Каждому юзеру присвоим тип в зависимости от способа завершения уровня"
   ]
  },
  {
   "cell_type": "code",
   "execution_count": 22,
   "metadata": {},
   "outputs": [],
   "source": [
    "conditions = [(game_actions.user_id.isin(builders)), (game_actions.user_id.isin(warriors)), (~game_actions.user_id.isin(builders)) & (~game_actions.user_id.isin(warriors))]"
   ]
  },
  {
   "cell_type": "code",
   "execution_count": 23,
   "metadata": {},
   "outputs": [],
   "source": [
    "values = ['builder', 'warrior', 'not_finished']"
   ]
  },
  {
   "cell_type": "code",
   "execution_count": 24,
   "metadata": {},
   "outputs": [],
   "source": [
    "game_actions['user_type'] = np.select(conditions, values)"
   ]
  },
  {
   "cell_type": "code",
   "execution_count": 25,
   "metadata": {},
   "outputs": [
    {
     "data": {
      "text/plain": [
       "user_type\n",
       "builder         1866\n",
       "not_finished    7759\n",
       "warrior         3951\n",
       "Name: user_id, dtype: int64"
      ]
     },
     "execution_count": 25,
     "metadata": {},
     "output_type": "execute_result"
    }
   ],
   "source": [
    "game_actions.groupby('user_type')['user_id'].nunique()"
   ]
  },
  {
   "cell_type": "markdown",
   "metadata": {},
   "source": [
    "пропишем условие, при котором можно считать, что игрок завершил первый уровень"
   ]
  },
  {
   "cell_type": "code",
   "execution_count": 26,
   "metadata": {},
   "outputs": [],
   "source": [
    "finish_conds = (game_actions.user_type == 'builder') | (game_actions.user_type == 'warrior')"
   ]
  },
  {
   "cell_type": "markdown",
   "metadata": {},
   "source": [
    "Посмотрим на датафрейм ***ad_costs***"
   ]
  },
  {
   "cell_type": "code",
   "execution_count": 27,
   "metadata": {},
   "outputs": [
    {
     "data": {
      "text/html": [
       "<div>\n",
       "<style scoped>\n",
       "    .dataframe tbody tr th:only-of-type {\n",
       "        vertical-align: middle;\n",
       "    }\n",
       "\n",
       "    .dataframe tbody tr th {\n",
       "        vertical-align: top;\n",
       "    }\n",
       "\n",
       "    .dataframe thead th {\n",
       "        text-align: right;\n",
       "    }\n",
       "</style>\n",
       "<table border=\"1\" class=\"dataframe\">\n",
       "  <thead>\n",
       "    <tr style=\"text-align: right;\">\n",
       "      <th></th>\n",
       "      <th>source</th>\n",
       "      <th>day</th>\n",
       "      <th>cost</th>\n",
       "    </tr>\n",
       "  </thead>\n",
       "  <tbody>\n",
       "    <tr>\n",
       "      <td>0</td>\n",
       "      <td>facebook_ads</td>\n",
       "      <td>2020-05-03</td>\n",
       "      <td>935.882786</td>\n",
       "    </tr>\n",
       "    <tr>\n",
       "      <td>1</td>\n",
       "      <td>facebook_ads</td>\n",
       "      <td>2020-05-04</td>\n",
       "      <td>548.354480</td>\n",
       "    </tr>\n",
       "    <tr>\n",
       "      <td>2</td>\n",
       "      <td>facebook_ads</td>\n",
       "      <td>2020-05-05</td>\n",
       "      <td>260.185754</td>\n",
       "    </tr>\n",
       "    <tr>\n",
       "      <td>3</td>\n",
       "      <td>facebook_ads</td>\n",
       "      <td>2020-05-06</td>\n",
       "      <td>177.982200</td>\n",
       "    </tr>\n",
       "    <tr>\n",
       "      <td>4</td>\n",
       "      <td>facebook_ads</td>\n",
       "      <td>2020-05-07</td>\n",
       "      <td>111.766796</td>\n",
       "    </tr>\n",
       "  </tbody>\n",
       "</table>\n",
       "</div>"
      ],
      "text/plain": [
       "         source         day        cost\n",
       "0  facebook_ads  2020-05-03  935.882786\n",
       "1  facebook_ads  2020-05-04  548.354480\n",
       "2  facebook_ads  2020-05-05  260.185754\n",
       "3  facebook_ads  2020-05-06  177.982200\n",
       "4  facebook_ads  2020-05-07  111.766796"
      ]
     },
     "execution_count": 27,
     "metadata": {},
     "output_type": "execute_result"
    }
   ],
   "source": [
    "ad_costs.head()\n"
   ]
  },
  {
   "cell_type": "markdown",
   "metadata": {},
   "source": [
    "Здесь содержится информация о затратах на различные источники рекламы:\n",
    "- source (название источника)\n",
    "- day (день)\n",
    "- cost (затраты)"
   ]
  },
  {
   "cell_type": "code",
   "execution_count": 28,
   "metadata": {},
   "outputs": [
    {
     "name": "stdout",
     "output_type": "stream",
     "text": [
      "<class 'pandas.core.frame.DataFrame'>\n",
      "RangeIndex: 28 entries, 0 to 27\n",
      "Data columns (total 3 columns):\n",
      "source    28 non-null object\n",
      "day       28 non-null object\n",
      "cost      28 non-null float64\n",
      "dtypes: float64(1), object(2)\n",
      "memory usage: 800.0+ bytes\n"
     ]
    }
   ],
   "source": [
    "ad_costs.info()"
   ]
  },
  {
   "cell_type": "code",
   "execution_count": 29,
   "metadata": {},
   "outputs": [
    {
     "data": {
      "text/plain": [
       "facebook_ads               7\n",
       "youtube_channel_reklama    7\n",
       "instagram_new_adverts      7\n",
       "yandex_direct              7\n",
       "Name: source, dtype: int64"
      ]
     },
     "execution_count": 29,
     "metadata": {},
     "output_type": "execute_result"
    }
   ],
   "source": [
    "ad_costs.source.value_counts()"
   ]
  },
  {
   "cell_type": "markdown",
   "metadata": {},
   "source": [
    "Всего 4 типа источника"
   ]
  },
  {
   "cell_type": "code",
   "execution_count": 30,
   "metadata": {},
   "outputs": [
    {
     "data": {
      "text/plain": [
       "min    2020-05-03\n",
       "max    2020-05-09\n",
       "Name: day, dtype: object"
      ]
     },
     "execution_count": 30,
     "metadata": {},
     "output_type": "execute_result"
    }
   ],
   "source": [
    "ad_costs.day.agg(['min', 'max'])"
   ]
  },
  {
   "cell_type": "markdown",
   "metadata": {},
   "source": [
    "Данные с 3 по 9 мая. Когорта игроков у нас с 4 по 10 мая, значит факт привлечения идет следующим днем. "
   ]
  },
  {
   "cell_type": "code",
   "execution_count": 31,
   "metadata": {},
   "outputs": [],
   "source": [
    "# преобразовываем формат даты\n",
    "ad_costs['date'] = pd.to_datetime(ad_costs.day)"
   ]
  },
  {
   "cell_type": "markdown",
   "metadata": {},
   "source": [
    "Для дальнейшего удобства синхронизируем дату затрат на источники и когорту пользователей"
   ]
  },
  {
   "cell_type": "code",
   "execution_count": 32,
   "metadata": {},
   "outputs": [],
   "source": [
    "ad_costs['shifted_date'] = ad_costs.date + pd.Timedelta(days=1)"
   ]
  },
  {
   "cell_type": "code",
   "execution_count": 33,
   "metadata": {},
   "outputs": [
    {
     "data": {
      "text/plain": [
       "min   2020-05-04\n",
       "max   2020-05-10\n",
       "Name: shifted_date, dtype: datetime64[ns]"
      ]
     },
     "execution_count": 33,
     "metadata": {},
     "output_type": "execute_result"
    }
   ],
   "source": [
    "ad_costs.shifted_date.agg(['min', 'max'])"
   ]
  },
  {
   "cell_type": "markdown",
   "metadata": {},
   "source": [
    "Изучим датафрейм ***user_source***"
   ]
  },
  {
   "cell_type": "code",
   "execution_count": 34,
   "metadata": {},
   "outputs": [
    {
     "data": {
      "text/html": [
       "<div>\n",
       "<style scoped>\n",
       "    .dataframe tbody tr th:only-of-type {\n",
       "        vertical-align: middle;\n",
       "    }\n",
       "\n",
       "    .dataframe tbody tr th {\n",
       "        vertical-align: top;\n",
       "    }\n",
       "\n",
       "    .dataframe thead th {\n",
       "        text-align: right;\n",
       "    }\n",
       "</style>\n",
       "<table border=\"1\" class=\"dataframe\">\n",
       "  <thead>\n",
       "    <tr style=\"text-align: right;\">\n",
       "      <th></th>\n",
       "      <th>user_id</th>\n",
       "      <th>source</th>\n",
       "    </tr>\n",
       "  </thead>\n",
       "  <tbody>\n",
       "    <tr>\n",
       "      <td>0</td>\n",
       "      <td>0001f83c-c6ac-4621-b7f0-8a28b283ac30</td>\n",
       "      <td>facebook_ads</td>\n",
       "    </tr>\n",
       "    <tr>\n",
       "      <td>1</td>\n",
       "      <td>00151b4f-ba38-44a8-a650-d7cf130a0105</td>\n",
       "      <td>yandex_direct</td>\n",
       "    </tr>\n",
       "    <tr>\n",
       "      <td>2</td>\n",
       "      <td>001aaea6-3d14-43f1-8ca8-7f48820f17aa</td>\n",
       "      <td>youtube_channel_reklama</td>\n",
       "    </tr>\n",
       "    <tr>\n",
       "      <td>3</td>\n",
       "      <td>001d39dc-366c-4021-9604-6a3b9ff01e25</td>\n",
       "      <td>instagram_new_adverts</td>\n",
       "    </tr>\n",
       "    <tr>\n",
       "      <td>4</td>\n",
       "      <td>002f508f-67b6-479f-814b-b05f00d4e995</td>\n",
       "      <td>facebook_ads</td>\n",
       "    </tr>\n",
       "  </tbody>\n",
       "</table>\n",
       "</div>"
      ],
      "text/plain": [
       "                                user_id                   source\n",
       "0  0001f83c-c6ac-4621-b7f0-8a28b283ac30             facebook_ads\n",
       "1  00151b4f-ba38-44a8-a650-d7cf130a0105            yandex_direct\n",
       "2  001aaea6-3d14-43f1-8ca8-7f48820f17aa  youtube_channel_reklama\n",
       "3  001d39dc-366c-4021-9604-6a3b9ff01e25    instagram_new_adverts\n",
       "4  002f508f-67b6-479f-814b-b05f00d4e995             facebook_ads"
      ]
     },
     "execution_count": 34,
     "metadata": {},
     "output_type": "execute_result"
    }
   ],
   "source": [
    "user_source.head()"
   ]
  },
  {
   "cell_type": "markdown",
   "metadata": {},
   "source": [
    "Здесь содержится информация о том, какой пользователь из какого источника был привлечен"
   ]
  },
  {
   "cell_type": "code",
   "execution_count": 35,
   "metadata": {},
   "outputs": [
    {
     "data": {
      "text/plain": [
       "13576"
      ]
     },
     "execution_count": 35,
     "metadata": {},
     "output_type": "execute_result"
    }
   ],
   "source": [
    "game_actions.user_id.nunique()"
   ]
  },
  {
   "cell_type": "code",
   "execution_count": 36,
   "metadata": {},
   "outputs": [
    {
     "name": "stdout",
     "output_type": "stream",
     "text": [
      "<class 'pandas.core.frame.DataFrame'>\n",
      "RangeIndex: 13576 entries, 0 to 13575\n",
      "Data columns (total 2 columns):\n",
      "user_id    13576 non-null object\n",
      "source     13576 non-null object\n",
      "dtypes: object(2)\n",
      "memory usage: 212.2+ KB\n"
     ]
    }
   ],
   "source": [
    "user_source.info()"
   ]
  },
  {
   "cell_type": "code",
   "execution_count": 37,
   "metadata": {},
   "outputs": [
    {
     "data": {
      "text/plain": [
       "yandex_direct              4817\n",
       "instagram_new_adverts      3347\n",
       "facebook_ads               2726\n",
       "youtube_channel_reklama    2686\n",
       "Name: source, dtype: int64"
      ]
     },
     "execution_count": 37,
     "metadata": {},
     "output_type": "execute_result"
    }
   ],
   "source": [
    "user_source.source.value_counts()"
   ]
  },
  {
   "cell_type": "markdown",
   "metadata": {},
   "source": [
    "Пропусков нет, формат данных корректный"
   ]
  },
  {
   "cell_type": "code",
   "execution_count": 38,
   "metadata": {},
   "outputs": [],
   "source": [
    "#соединим данные из таблиц \"game_actions\" и \"user_source\"\n",
    "game_actions = game_actions.merge(user_source, how = 'left', on = 'user_id')"
   ]
  },
  {
   "cell_type": "code",
   "execution_count": 39,
   "metadata": {},
   "outputs": [
    {
     "data": {
      "text/html": [
       "<div>\n",
       "<style scoped>\n",
       "    .dataframe tbody tr th:only-of-type {\n",
       "        vertical-align: middle;\n",
       "    }\n",
       "\n",
       "    .dataframe tbody tr th {\n",
       "        vertical-align: top;\n",
       "    }\n",
       "\n",
       "    .dataframe thead th {\n",
       "        text-align: right;\n",
       "    }\n",
       "</style>\n",
       "<table border=\"1\" class=\"dataframe\">\n",
       "  <thead>\n",
       "    <tr style=\"text-align: right;\">\n",
       "      <th></th>\n",
       "      <th>index</th>\n",
       "      <th>event_datetime</th>\n",
       "      <th>event</th>\n",
       "      <th>building_type</th>\n",
       "      <th>user_id</th>\n",
       "      <th>project_type</th>\n",
       "      <th>date</th>\n",
       "      <th>day</th>\n",
       "      <th>user_type</th>\n",
       "      <th>source</th>\n",
       "    </tr>\n",
       "  </thead>\n",
       "  <tbody>\n",
       "    <tr>\n",
       "      <td>0</td>\n",
       "      <td>0</td>\n",
       "      <td>2020-05-04 00:00:01</td>\n",
       "      <td>building</td>\n",
       "      <td>assembly_shop</td>\n",
       "      <td>55e92310-cb8e-4754-b622-597e124b03de</td>\n",
       "      <td>NaN</td>\n",
       "      <td>2020-05-04 00:00:01</td>\n",
       "      <td>2020-05-04</td>\n",
       "      <td>not_finished</td>\n",
       "      <td>youtube_channel_reklama</td>\n",
       "    </tr>\n",
       "    <tr>\n",
       "      <td>10101</td>\n",
       "      <td>10101</td>\n",
       "      <td>2020-05-05 05:20:15</td>\n",
       "      <td>building</td>\n",
       "      <td>assembly_shop</td>\n",
       "      <td>55e92310-cb8e-4754-b622-597e124b03de</td>\n",
       "      <td>NaN</td>\n",
       "      <td>2020-05-05 05:20:15</td>\n",
       "      <td>2020-05-05</td>\n",
       "      <td>not_finished</td>\n",
       "      <td>youtube_channel_reklama</td>\n",
       "    </tr>\n",
       "    <tr>\n",
       "      <td>15489</td>\n",
       "      <td>15489</td>\n",
       "      <td>2020-05-05 19:24:02</td>\n",
       "      <td>building</td>\n",
       "      <td>assembly_shop</td>\n",
       "      <td>55e92310-cb8e-4754-b622-597e124b03de</td>\n",
       "      <td>NaN</td>\n",
       "      <td>2020-05-05 19:24:02</td>\n",
       "      <td>2020-05-05</td>\n",
       "      <td>not_finished</td>\n",
       "      <td>youtube_channel_reklama</td>\n",
       "    </tr>\n",
       "    <tr>\n",
       "      <td>16114</td>\n",
       "      <td>16114</td>\n",
       "      <td>2020-05-05 20:59:19</td>\n",
       "      <td>building</td>\n",
       "      <td>assembly_shop</td>\n",
       "      <td>55e92310-cb8e-4754-b622-597e124b03de</td>\n",
       "      <td>NaN</td>\n",
       "      <td>2020-05-05 20:59:19</td>\n",
       "      <td>2020-05-05</td>\n",
       "      <td>not_finished</td>\n",
       "      <td>youtube_channel_reklama</td>\n",
       "    </tr>\n",
       "    <tr>\n",
       "      <td>17607</td>\n",
       "      <td>17607</td>\n",
       "      <td>2020-05-06 00:52:56</td>\n",
       "      <td>building</td>\n",
       "      <td>assembly_shop</td>\n",
       "      <td>55e92310-cb8e-4754-b622-597e124b03de</td>\n",
       "      <td>NaN</td>\n",
       "      <td>2020-05-06 00:52:56</td>\n",
       "      <td>2020-05-06</td>\n",
       "      <td>not_finished</td>\n",
       "      <td>youtube_channel_reklama</td>\n",
       "    </tr>\n",
       "    <tr>\n",
       "      <td>42109</td>\n",
       "      <td>42109</td>\n",
       "      <td>2020-05-08 08:16:51</td>\n",
       "      <td>building</td>\n",
       "      <td>assembly_shop</td>\n",
       "      <td>55e92310-cb8e-4754-b622-597e124b03de</td>\n",
       "      <td>NaN</td>\n",
       "      <td>2020-05-08 08:16:51</td>\n",
       "      <td>2020-05-08</td>\n",
       "      <td>not_finished</td>\n",
       "      <td>youtube_channel_reklama</td>\n",
       "    </tr>\n",
       "    <tr>\n",
       "      <td>76039</td>\n",
       "      <td>76040</td>\n",
       "      <td>2020-05-10 20:27:01</td>\n",
       "      <td>building</td>\n",
       "      <td>assembly_shop</td>\n",
       "      <td>55e92310-cb8e-4754-b622-597e124b03de</td>\n",
       "      <td>NaN</td>\n",
       "      <td>2020-05-10 20:27:01</td>\n",
       "      <td>2020-05-10</td>\n",
       "      <td>not_finished</td>\n",
       "      <td>youtube_channel_reklama</td>\n",
       "    </tr>\n",
       "  </tbody>\n",
       "</table>\n",
       "</div>"
      ],
      "text/plain": [
       "       index       event_datetime     event  building_type  \\\n",
       "0          0  2020-05-04 00:00:01  building  assembly_shop   \n",
       "10101  10101  2020-05-05 05:20:15  building  assembly_shop   \n",
       "15489  15489  2020-05-05 19:24:02  building  assembly_shop   \n",
       "16114  16114  2020-05-05 20:59:19  building  assembly_shop   \n",
       "17607  17607  2020-05-06 00:52:56  building  assembly_shop   \n",
       "42109  42109  2020-05-08 08:16:51  building  assembly_shop   \n",
       "76039  76040  2020-05-10 20:27:01  building  assembly_shop   \n",
       "\n",
       "                                    user_id project_type                date  \\\n",
       "0      55e92310-cb8e-4754-b622-597e124b03de          NaN 2020-05-04 00:00:01   \n",
       "10101  55e92310-cb8e-4754-b622-597e124b03de          NaN 2020-05-05 05:20:15   \n",
       "15489  55e92310-cb8e-4754-b622-597e124b03de          NaN 2020-05-05 19:24:02   \n",
       "16114  55e92310-cb8e-4754-b622-597e124b03de          NaN 2020-05-05 20:59:19   \n",
       "17607  55e92310-cb8e-4754-b622-597e124b03de          NaN 2020-05-06 00:52:56   \n",
       "42109  55e92310-cb8e-4754-b622-597e124b03de          NaN 2020-05-08 08:16:51   \n",
       "76039  55e92310-cb8e-4754-b622-597e124b03de          NaN 2020-05-10 20:27:01   \n",
       "\n",
       "             day     user_type                   source  \n",
       "0     2020-05-04  not_finished  youtube_channel_reklama  \n",
       "10101 2020-05-05  not_finished  youtube_channel_reklama  \n",
       "15489 2020-05-05  not_finished  youtube_channel_reklama  \n",
       "16114 2020-05-05  not_finished  youtube_channel_reklama  \n",
       "17607 2020-05-06  not_finished  youtube_channel_reklama  \n",
       "42109 2020-05-08  not_finished  youtube_channel_reklama  \n",
       "76039 2020-05-10  not_finished  youtube_channel_reklama  "
      ]
     },
     "execution_count": 39,
     "metadata": {},
     "output_type": "execute_result"
    }
   ],
   "source": [
    "game_actions[game_actions.user_id == '55e92310-cb8e-4754-b622-597e124b03de']"
   ]
  },
  {
   "cell_type": "markdown",
   "metadata": {},
   "source": [
    "Также добавим столбцы с датой первого события и последнего события для каждого юзера. И посчитаем, сколько времени прошло между этими событиями"
   ]
  },
  {
   "cell_type": "code",
   "execution_count": 40,
   "metadata": {},
   "outputs": [],
   "source": [
    "first_date = game_actions.groupby(['user_id'])['date'].min()\n",
    "last_date = game_actions.groupby(['user_id'])['date'].max()\n",
    "first_date.name = 'first_event_date'\n",
    "last_date.name = 'last_event_date'\n",
    "game_actions = game_actions.join(first_date,on='user_id').join(last_date,on='user_id')"
   ]
  },
  {
   "cell_type": "markdown",
   "metadata": {},
   "source": [
    "Заодно проверим, можно ли считать, что для тех, кто завершил 1 уровень, факт завершения уровня является последним событием"
   ]
  },
  {
   "cell_type": "code",
   "execution_count": 41,
   "metadata": {},
   "outputs": [
    {
     "data": {
      "text/plain": [
       "0"
      ]
     },
     "execution_count": 41,
     "metadata": {},
     "output_type": "execute_result"
    }
   ],
   "source": [
    "(game_actions[game_actions.event == 'finished_stage_1'].groupby('user_id')['date'].max() != game_actions[game_actions.event == 'finished_stage_1'].groupby('user_id')['last_event_date'].max()).sum()"
   ]
  },
  {
   "cell_type": "code",
   "execution_count": 42,
   "metadata": {},
   "outputs": [],
   "source": [
    "#добавляем столбец с временем, затраченным на игру\n",
    "game_actions['time_spent'] = ((game_actions['last_event_date'] - game_actions['first_event_date']) / np.timedelta64(1, 'h')).astype('float64').round(2)"
   ]
  },
  {
   "cell_type": "markdown",
   "metadata": {},
   "source": [
    "# 2. Исследовательский анализ <a name=\"анализ\"></a>"
   ]
  },
  {
   "cell_type": "markdown",
   "metadata": {},
   "source": [
    "##### Проверим, сколько игроков было привлечено из имеющихся источников"
   ]
  },
  {
   "cell_type": "code",
   "execution_count": 43,
   "metadata": {},
   "outputs": [
    {
     "data": {
      "text/html": [
       "<div>\n",
       "<style scoped>\n",
       "    .dataframe tbody tr th:only-of-type {\n",
       "        vertical-align: middle;\n",
       "    }\n",
       "\n",
       "    .dataframe tbody tr th {\n",
       "        vertical-align: top;\n",
       "    }\n",
       "\n",
       "    .dataframe thead th {\n",
       "        text-align: right;\n",
       "    }\n",
       "</style>\n",
       "<table border=\"1\" class=\"dataframe\">\n",
       "  <thead>\n",
       "    <tr style=\"text-align: right;\">\n",
       "      <th></th>\n",
       "      <th>source</th>\n",
       "      <th>% привлеченных игроков</th>\n",
       "    </tr>\n",
       "  </thead>\n",
       "  <tbody>\n",
       "    <tr>\n",
       "      <td>0</td>\n",
       "      <td>yandex_direct</td>\n",
       "      <td>35.48</td>\n",
       "    </tr>\n",
       "    <tr>\n",
       "      <td>1</td>\n",
       "      <td>instagram_new_adverts</td>\n",
       "      <td>24.65</td>\n",
       "    </tr>\n",
       "    <tr>\n",
       "      <td>2</td>\n",
       "      <td>facebook_ads</td>\n",
       "      <td>20.08</td>\n",
       "    </tr>\n",
       "    <tr>\n",
       "      <td>3</td>\n",
       "      <td>youtube_channel_reklama</td>\n",
       "      <td>19.78</td>\n",
       "    </tr>\n",
       "  </tbody>\n",
       "</table>\n",
       "</div>"
      ],
      "text/plain": [
       "                    source  % привлеченных игроков\n",
       "0            yandex_direct                   35.48\n",
       "1    instagram_new_adverts                   24.65\n",
       "2             facebook_ads                   20.08\n",
       "3  youtube_channel_reklama                   19.78"
      ]
     },
     "execution_count": 43,
     "metadata": {},
     "output_type": "execute_result"
    }
   ],
   "source": [
    "(game_actions.groupby('source')['user_id'].nunique().sort_values(ascending = False) / game_actions['user_id'].nunique() * 100).round(2).reset_index(name = '% привлеченных игроков')"
   ]
  },
  {
   "cell_type": "markdown",
   "metadata": {},
   "source": [
    "Больше всего пользователей этой когорты пришло из Яндекс Директа, меньше всего - из Ютьюба"
   ]
  },
  {
   "cell_type": "markdown",
   "metadata": {},
   "source": [
    "##### Посчитаем, сколько пользователей завершили 1 уровень в разбивке на источники"
   ]
  },
  {
   "cell_type": "code",
   "execution_count": 44,
   "metadata": {},
   "outputs": [
    {
     "data": {
      "text/html": [
       "<div>\n",
       "<style scoped>\n",
       "    .dataframe tbody tr th:only-of-type {\n",
       "        vertical-align: middle;\n",
       "    }\n",
       "\n",
       "    .dataframe tbody tr th {\n",
       "        vertical-align: top;\n",
       "    }\n",
       "\n",
       "    .dataframe thead th {\n",
       "        text-align: right;\n",
       "    }\n",
       "</style>\n",
       "<table border=\"1\" class=\"dataframe\">\n",
       "  <thead>\n",
       "    <tr style=\"text-align: right;\">\n",
       "      <th></th>\n",
       "      <th>source</th>\n",
       "      <th>event</th>\n",
       "      <th>user_id_x</th>\n",
       "      <th>user_id_y</th>\n",
       "      <th>rate %</th>\n",
       "    </tr>\n",
       "  </thead>\n",
       "  <tbody>\n",
       "    <tr>\n",
       "      <td>0</td>\n",
       "      <td>facebook_ads</td>\n",
       "      <td>building</td>\n",
       "      <td>2726</td>\n",
       "      <td>2726</td>\n",
       "      <td>100.00</td>\n",
       "    </tr>\n",
       "    <tr>\n",
       "      <td>1</td>\n",
       "      <td>facebook_ads</td>\n",
       "      <td>finished_stage_1</td>\n",
       "      <td>1150</td>\n",
       "      <td>2726</td>\n",
       "      <td>42.19</td>\n",
       "    </tr>\n",
       "    <tr>\n",
       "      <td>2</td>\n",
       "      <td>facebook_ads</td>\n",
       "      <td>project</td>\n",
       "      <td>391</td>\n",
       "      <td>2726</td>\n",
       "      <td>14.34</td>\n",
       "    </tr>\n",
       "    <tr>\n",
       "      <td>3</td>\n",
       "      <td>instagram_new_adverts</td>\n",
       "      <td>building</td>\n",
       "      <td>3347</td>\n",
       "      <td>3347</td>\n",
       "      <td>100.00</td>\n",
       "    </tr>\n",
       "    <tr>\n",
       "      <td>4</td>\n",
       "      <td>instagram_new_adverts</td>\n",
       "      <td>finished_stage_1</td>\n",
       "      <td>1466</td>\n",
       "      <td>3347</td>\n",
       "      <td>43.80</td>\n",
       "    </tr>\n",
       "    <tr>\n",
       "      <td>5</td>\n",
       "      <td>instagram_new_adverts</td>\n",
       "      <td>project</td>\n",
       "      <td>476</td>\n",
       "      <td>3347</td>\n",
       "      <td>14.22</td>\n",
       "    </tr>\n",
       "    <tr>\n",
       "      <td>6</td>\n",
       "      <td>yandex_direct</td>\n",
       "      <td>building</td>\n",
       "      <td>4817</td>\n",
       "      <td>4817</td>\n",
       "      <td>100.00</td>\n",
       "    </tr>\n",
       "    <tr>\n",
       "      <td>7</td>\n",
       "      <td>yandex_direct</td>\n",
       "      <td>finished_stage_1</td>\n",
       "      <td>2042</td>\n",
       "      <td>4817</td>\n",
       "      <td>42.39</td>\n",
       "    </tr>\n",
       "    <tr>\n",
       "      <td>8</td>\n",
       "      <td>yandex_direct</td>\n",
       "      <td>project</td>\n",
       "      <td>620</td>\n",
       "      <td>4817</td>\n",
       "      <td>12.87</td>\n",
       "    </tr>\n",
       "    <tr>\n",
       "      <td>9</td>\n",
       "      <td>youtube_channel_reklama</td>\n",
       "      <td>building</td>\n",
       "      <td>2686</td>\n",
       "      <td>2686</td>\n",
       "      <td>100.00</td>\n",
       "    </tr>\n",
       "    <tr>\n",
       "      <td>10</td>\n",
       "      <td>youtube_channel_reklama</td>\n",
       "      <td>finished_stage_1</td>\n",
       "      <td>1159</td>\n",
       "      <td>2686</td>\n",
       "      <td>43.15</td>\n",
       "    </tr>\n",
       "    <tr>\n",
       "      <td>11</td>\n",
       "      <td>youtube_channel_reklama</td>\n",
       "      <td>project</td>\n",
       "      <td>379</td>\n",
       "      <td>2686</td>\n",
       "      <td>14.11</td>\n",
       "    </tr>\n",
       "  </tbody>\n",
       "</table>\n",
       "</div>"
      ],
      "text/plain": [
       "                     source             event  user_id_x  user_id_y  rate %\n",
       "0              facebook_ads          building       2726       2726  100.00\n",
       "1              facebook_ads  finished_stage_1       1150       2726   42.19\n",
       "2              facebook_ads           project        391       2726   14.34\n",
       "3     instagram_new_adverts          building       3347       3347  100.00\n",
       "4     instagram_new_adverts  finished_stage_1       1466       3347   43.80\n",
       "5     instagram_new_adverts           project        476       3347   14.22\n",
       "6             yandex_direct          building       4817       4817  100.00\n",
       "7             yandex_direct  finished_stage_1       2042       4817   42.39\n",
       "8             yandex_direct           project        620       4817   12.87\n",
       "9   youtube_channel_reklama          building       2686       2686  100.00\n",
       "10  youtube_channel_reklama  finished_stage_1       1159       2686   43.15\n",
       "11  youtube_channel_reklama           project        379       2686   14.11"
      ]
     },
     "execution_count": 44,
     "metadata": {},
     "output_type": "execute_result"
    }
   ],
   "source": [
    "rates = game_actions.groupby(['source', 'event'])['user_id'].nunique().reset_index().merge(game_actions.groupby('source')['user_id'].nunique().reset_index(), how = 'left', on = ['source'])\n",
    "rates['rate %'] = (rates.user_id_x / rates.user_id_y * 100).round(2)\n",
    "rates"
   ]
  },
  {
   "cell_type": "code",
   "execution_count": 45,
   "metadata": {},
   "outputs": [],
   "source": [
    "#функция для постройки барплотов\n",
    "def barplt(X, Y, DATA, HUE, TITLE, XLABEL, YLABEL, TXTFRMT):\n",
    "    # X, Y - данные по осям\n",
    "    # DATA - датафрейм для графика\n",
    "    # HUE - параметр для разбиения, если не требуется, то = None\n",
    "    # TITLE, XLABEL, YLABEL - подписи (название графика, оси х, оси у)\n",
    "    # TXTFRMT - формат для вывода значения баров\n",
    "    \n",
    "    sns.set_style(\"whitegrid\")\n",
    "    bar,ax = plt.subplots(figsize=(10,6))\n",
    "    ax = sns.barplot(x = X, y = Y, hue = HUE, data=DATA, ci=None, palette=\"muted\",orient='v')\n",
    "    ax.set_title(TITLE, fontsize=15)\n",
    "    ax.set_xlabel (XLABEL, fontsize=15)\n",
    "    ax.set_ylabel (YLABEL, fontsize=15)\n",
    "    if TXTFRMT == '%':\n",
    "        for rect in ax.patches:\n",
    "            ax.text (rect.get_x() + rect.get_width() / 2,rect.get_height(), \"%.0f%%\"% rect.get_height(), weight='bold' )\n",
    "    if TXTFRMT == 'f':\n",
    "        for rect in ax.patches:\n",
    "            ax.text (rect.get_x() + rect.get_width() / 2,rect.get_height(), \"%.0f\"% rect.get_height(), weight='bold' )"
   ]
  },
  {
   "cell_type": "code",
   "execution_count": 46,
   "metadata": {},
   "outputs": [
    {
     "data": {
      "image/png": "[encoded data removed]",
      "text/plain": [
       "<Figure size 720x432 with 1 Axes>"
      ]
     },
     "metadata": {},
     "output_type": "display_data"
    }
   ],
   "source": [
    "barplt('source', 'rate %',rates[rates.event == 'finished_stage_1'], None, \"Процент пользователей, завершивших 1 уровень\", \"Источник привлечения\",\"% пользователей\", '%' )"
   ]
  },
  {
   "cell_type": "markdown",
   "metadata": {},
   "source": [
    "В целом, % пользователей, завершивших уровень приблизительно одинаков для всех источников - ***42-44%***"
   ]
  },
  {
   "cell_type": "markdown",
   "metadata": {},
   "source": [
    "##### Посмотрим, какой тип пользователей преобладает (воины или строители)"
   ]
  },
  {
   "cell_type": "code",
   "execution_count": 47,
   "metadata": {},
   "outputs": [
    {
     "data": {
      "text/html": [
       "<div>\n",
       "<style scoped>\n",
       "    .dataframe tbody tr th:only-of-type {\n",
       "        vertical-align: middle;\n",
       "    }\n",
       "\n",
       "    .dataframe tbody tr th {\n",
       "        vertical-align: top;\n",
       "    }\n",
       "\n",
       "    .dataframe thead th {\n",
       "        text-align: right;\n",
       "    }\n",
       "</style>\n",
       "<table border=\"1\" class=\"dataframe\">\n",
       "  <thead>\n",
       "    <tr style=\"text-align: right;\">\n",
       "      <th></th>\n",
       "      <th>source</th>\n",
       "      <th>user_type</th>\n",
       "      <th>rate %</th>\n",
       "    </tr>\n",
       "  </thead>\n",
       "  <tbody>\n",
       "    <tr>\n",
       "      <td>0</td>\n",
       "      <td>facebook_ads</td>\n",
       "      <td>builder</td>\n",
       "      <td>34.00</td>\n",
       "    </tr>\n",
       "    <tr>\n",
       "      <td>1</td>\n",
       "      <td>facebook_ads</td>\n",
       "      <td>warrior</td>\n",
       "      <td>66.00</td>\n",
       "    </tr>\n",
       "    <tr>\n",
       "      <td>2</td>\n",
       "      <td>instagram_new_adverts</td>\n",
       "      <td>builder</td>\n",
       "      <td>32.47</td>\n",
       "    </tr>\n",
       "    <tr>\n",
       "      <td>3</td>\n",
       "      <td>instagram_new_adverts</td>\n",
       "      <td>warrior</td>\n",
       "      <td>67.53</td>\n",
       "    </tr>\n",
       "    <tr>\n",
       "      <td>4</td>\n",
       "      <td>yandex_direct</td>\n",
       "      <td>builder</td>\n",
       "      <td>30.36</td>\n",
       "    </tr>\n",
       "    <tr>\n",
       "      <td>5</td>\n",
       "      <td>yandex_direct</td>\n",
       "      <td>warrior</td>\n",
       "      <td>69.64</td>\n",
       "    </tr>\n",
       "    <tr>\n",
       "      <td>6</td>\n",
       "      <td>youtube_channel_reklama</td>\n",
       "      <td>builder</td>\n",
       "      <td>32.70</td>\n",
       "    </tr>\n",
       "    <tr>\n",
       "      <td>7</td>\n",
       "      <td>youtube_channel_reklama</td>\n",
       "      <td>warrior</td>\n",
       "      <td>67.30</td>\n",
       "    </tr>\n",
       "  </tbody>\n",
       "</table>\n",
       "</div>"
      ],
      "text/plain": [
       "                    source user_type  rate %\n",
       "0             facebook_ads   builder   34.00\n",
       "1             facebook_ads   warrior   66.00\n",
       "2    instagram_new_adverts   builder   32.47\n",
       "3    instagram_new_adverts   warrior   67.53\n",
       "4            yandex_direct   builder   30.36\n",
       "5            yandex_direct   warrior   69.64\n",
       "6  youtube_channel_reklama   builder   32.70\n",
       "7  youtube_channel_reklama   warrior   67.30"
      ]
     },
     "execution_count": 47,
     "metadata": {},
     "output_type": "execute_result"
    }
   ],
   "source": [
    "(game_actions[finish_conds].groupby(['source', 'user_type'])['user_id'].nunique() / game_actions[finish_conds].groupby('source')['user_id'].nunique() * 100).round(2).reset_index(name = 'rate %')"
   ]
  },
  {
   "cell_type": "code",
   "execution_count": 48,
   "metadata": {},
   "outputs": [
    {
     "data": {
      "image/png": "[encoded data removed]",
      "text/plain": [
       "<Figure size 720x432 with 1 Axes>"
      ]
     },
     "metadata": {},
     "output_type": "display_data"
    }
   ],
   "source": [
    "barplt('source', 'rate %', \n",
    "       (game_actions[finish_conds].groupby(['source', 'user_type'])['user_id'].nunique() / game_actions[finish_conds].groupby('source')['user_id'].nunique() * 100).round(2).reset_index(name = 'rate %'), \n",
    "       'user_type', \n",
    "       \"Способ завершения уровня в зависимости от источника\", \n",
    "       \"Источник привлечения\", \n",
    "       \"% пользователей\", \n",
    "       '%')"
   ]
  },
  {
   "cell_type": "markdown",
   "metadata": {},
   "source": [
    "Типы пользователей тоже не сильно отличаются в зависимости от источника. С каждого источника приходит 30-34% строителей и 66-70% воинов. То есть, привлеченная аудитория на разных платформах примерно одинаковая"
   ]
  },
  {
   "cell_type": "markdown",
   "metadata": {},
   "source": [
    "##### Посмотрим, какие здания строят игроки"
   ]
  },
  {
   "cell_type": "code",
   "execution_count": 49,
   "metadata": {},
   "outputs": [
    {
     "data": {
      "text/html": [
       "<div>\n",
       "<style scoped>\n",
       "    .dataframe tbody tr th:only-of-type {\n",
       "        vertical-align: middle;\n",
       "    }\n",
       "\n",
       "    .dataframe tbody tr th {\n",
       "        vertical-align: top;\n",
       "    }\n",
       "\n",
       "    .dataframe thead th {\n",
       "        text-align: right;\n",
       "    }\n",
       "</style>\n",
       "<table border=\"1\" class=\"dataframe\">\n",
       "  <thead>\n",
       "    <tr style=\"text-align: right;\">\n",
       "      <th></th>\n",
       "      <th>index</th>\n",
       "      <th>building_type</th>\n",
       "    </tr>\n",
       "  </thead>\n",
       "  <tbody>\n",
       "    <tr>\n",
       "      <td>0</td>\n",
       "      <td>spaceport</td>\n",
       "      <td>59325</td>\n",
       "    </tr>\n",
       "    <tr>\n",
       "      <td>1</td>\n",
       "      <td>assembly_shop</td>\n",
       "      <td>54494</td>\n",
       "    </tr>\n",
       "    <tr>\n",
       "      <td>2</td>\n",
       "      <td>research_center</td>\n",
       "      <td>14137</td>\n",
       "    </tr>\n",
       "  </tbody>\n",
       "</table>\n",
       "</div>"
      ],
      "text/plain": [
       "             index  building_type\n",
       "0        spaceport          59325\n",
       "1    assembly_shop          54494\n",
       "2  research_center          14137"
      ]
     },
     "execution_count": 49,
     "metadata": {},
     "output_type": "execute_result"
    }
   ],
   "source": [
    "game_actions.building_type.value_counts().reset_index()"
   ]
  },
  {
   "cell_type": "code",
   "execution_count": 50,
   "metadata": {},
   "outputs": [
    {
     "data": {
      "image/png": "[encoded data removed]",
      "text/plain": [
       "<Figure size 720x432 with 1 Axes>"
      ]
     },
     "metadata": {},
     "output_type": "display_data"
    }
   ],
   "source": [
    "barplt('index', 'building_type', \n",
    "       game_actions.building_type.value_counts().reset_index(),\n",
    "       None,\n",
    "       'кол-во построенных зданий',\n",
    "       'тип здания',\n",
    "       'кол-во',\n",
    "       'f')"
   ]
  },
  {
   "cell_type": "markdown",
   "metadata": {},
   "source": [
    "Больше всего строят космические порты и магазины, меньше всего - исследовательские центры. Скорее всего это связанно с игровым процессом и внутриигровыми заданиями"
   ]
  },
  {
   "cell_type": "code",
   "execution_count": 51,
   "metadata": {},
   "outputs": [
    {
     "data": {
      "text/plain": [
       "min    3\n",
       "max    3\n",
       "Name: building_type, dtype: int64"
      ]
     },
     "execution_count": 51,
     "metadata": {},
     "output_type": "execute_result"
    }
   ],
   "source": [
    "game_actions[game_actions.user_id.isin(builders) & (game_actions.event == 'building')].groupby('user_id')['building_type'].nunique().agg(['min', 'max'])"
   ]
  },
  {
   "cell_type": "markdown",
   "metadata": {},
   "source": [
    "Все те, кто завершил первый уровень путем выполнения проекта, построили каждое из зданий"
   ]
  },
  {
   "cell_type": "code",
   "execution_count": 52,
   "metadata": {},
   "outputs": [
    {
     "data": {
      "text/plain": [
       "spaceport          10788\n",
       "assembly_shop       9116\n",
       "research_center     3697\n",
       "Name: building_type, dtype: int64"
      ]
     },
     "execution_count": 52,
     "metadata": {},
     "output_type": "execute_result"
    }
   ],
   "source": [
    "game_actions[game_actions.user_id.isin(builders)].building_type.value_counts()"
   ]
  },
  {
   "cell_type": "code",
   "execution_count": 53,
   "metadata": {},
   "outputs": [
    {
     "data": {
      "text/plain": [
       "spaceport          17132\n",
       "assembly_shop      16298\n",
       "research_center     3755\n",
       "Name: building_type, dtype: int64"
      ]
     },
     "execution_count": 53,
     "metadata": {},
     "output_type": "execute_result"
    }
   ],
   "source": [
    "game_actions[game_actions.user_id.isin(warriors)].building_type.value_counts()"
   ]
  },
  {
   "cell_type": "markdown",
   "metadata": {},
   "source": [
    "###### Проверим, влияет ли как-то выбранный игровой путь на постройку зданий"
   ]
  },
  {
   "cell_type": "code",
   "execution_count": 54,
   "metadata": {},
   "outputs": [
    {
     "data": {
      "text/html": [
       "<div>\n",
       "<style scoped>\n",
       "    .dataframe tbody tr th:only-of-type {\n",
       "        vertical-align: middle;\n",
       "    }\n",
       "\n",
       "    .dataframe tbody tr th {\n",
       "        vertical-align: top;\n",
       "    }\n",
       "\n",
       "    .dataframe thead th {\n",
       "        text-align: right;\n",
       "    }\n",
       "</style>\n",
       "<table border=\"1\" class=\"dataframe\">\n",
       "  <thead>\n",
       "    <tr style=\"text-align: right;\">\n",
       "      <th></th>\n",
       "      <th>building_type</th>\n",
       "      <th>user_type</th>\n",
       "      <th>всего</th>\n",
       "      <th>uid</th>\n",
       "      <th>в среднем</th>\n",
       "    </tr>\n",
       "  </thead>\n",
       "  <tbody>\n",
       "    <tr>\n",
       "      <td>0</td>\n",
       "      <td>assembly_shop</td>\n",
       "      <td>builder</td>\n",
       "      <td>9116</td>\n",
       "      <td>1866</td>\n",
       "      <td>4.885316</td>\n",
       "    </tr>\n",
       "    <tr>\n",
       "      <td>1</td>\n",
       "      <td>assembly_shop</td>\n",
       "      <td>not_finished</td>\n",
       "      <td>29080</td>\n",
       "      <td>7759</td>\n",
       "      <td>3.747906</td>\n",
       "    </tr>\n",
       "    <tr>\n",
       "      <td>2</td>\n",
       "      <td>assembly_shop</td>\n",
       "      <td>warrior</td>\n",
       "      <td>16298</td>\n",
       "      <td>3951</td>\n",
       "      <td>4.125032</td>\n",
       "    </tr>\n",
       "    <tr>\n",
       "      <td>3</td>\n",
       "      <td>research_center</td>\n",
       "      <td>builder</td>\n",
       "      <td>3697</td>\n",
       "      <td>1866</td>\n",
       "      <td>1.981243</td>\n",
       "    </tr>\n",
       "    <tr>\n",
       "      <td>4</td>\n",
       "      <td>research_center</td>\n",
       "      <td>not_finished</td>\n",
       "      <td>6685</td>\n",
       "      <td>3463</td>\n",
       "      <td>1.930407</td>\n",
       "    </tr>\n",
       "  </tbody>\n",
       "</table>\n",
       "</div>"
      ],
      "text/plain": [
       "     building_type     user_type  всего   uid  в среднем\n",
       "0    assembly_shop       builder   9116  1866   4.885316\n",
       "1    assembly_shop  not_finished  29080  7759   3.747906\n",
       "2    assembly_shop       warrior  16298  3951   4.125032\n",
       "3  research_center       builder   3697  1866   1.981243\n",
       "4  research_center  not_finished   6685  3463   1.930407"
      ]
     },
     "execution_count": 54,
     "metadata": {},
     "output_type": "execute_result"
    }
   ],
   "source": [
    "df = game_actions.pivot_table(index = ['building_type', 'user_type'], \n",
    "                              values = 'user_id', \n",
    "                              aggfunc = {'user_id' : ['count', 'nunique']}).rename(columns={'count':'всего', 'nunique' : 'uid'}).reset_index()\n",
    "df['в среднем'] = df['всего'] / df.uid \n",
    "df.head()"
   ]
  },
  {
   "cell_type": "code",
   "execution_count": 55,
   "metadata": {},
   "outputs": [
    {
     "data": {
      "image/png": "[encoded data removed]",
      "text/plain": [
       "<Figure size 720x432 with 1 Axes>"
      ]
     },
     "metadata": {},
     "output_type": "display_data"
    },
    {
     "data": {
      "image/png": "[encoded data removed]",
      "text/plain": [
       "<Figure size 720x432 with 1 Axes>"
      ]
     },
     "metadata": {},
     "output_type": "display_data"
    }
   ],
   "source": [
    "for each in ['всего', 'в среднем']:\n",
    "    barplt('building_type', each, \n",
    "           df,\n",
    "           'user_type',\n",
    "           \"Количество построенных зданий {}\".format(each),\n",
    "           \"Тип зданий\",\n",
    "           \"Количество\",\n",
    "           'f')"
   ]
  },
  {
   "cell_type": "markdown",
   "metadata": {},
   "source": [
    "Очевидно, игроки, завершающие уровень выполнением проекта, строят больше зданий. Основной упор идет на космопорты и магазины"
   ]
  },
  {
   "cell_type": "code",
   "execution_count": 56,
   "metadata": {
    "scrolled": false
   },
   "outputs": [
    {
     "data": {
      "image/png": "[encoded data removed]",
      "text/plain": [
       "<Figure size 720x432 with 1 Axes>"
      ]
     },
     "metadata": {},
     "output_type": "display_data"
    }
   ],
   "source": [
    "barplt('source', 'всего', \n",
    "        game_actions.pivot_table(index = ['source', 'user_type'], \n",
    "            values = 'user_id', \n",
    "            aggfunc = {'user_id' : 'count'}).rename(columns={'user_id':'всего'}).reset_index(),\n",
    "        'user_type',\n",
    "        \"Количество построенных зданий по источникам привлечения\",\n",
    "        \"Тип зданий\",\n",
    "        \"Количество\",\n",
    "        'f')"
   ]
  },
  {
   "cell_type": "markdown",
   "metadata": {},
   "source": [
    "Для всех источников картина складывается одинаково"
   ]
  },
  {
   "cell_type": "markdown",
   "metadata": {},
   "source": [
    "Посмотрим на время, затраченное на игру"
   ]
  },
  {
   "cell_type": "code",
   "execution_count": 57,
   "metadata": {},
   "outputs": [
    {
     "data": {
      "text/plain": [
       "count    13576.000000\n",
       "mean       256.218771\n",
       "std        104.411245\n",
       "min          0.000000\n",
       "25%        184.560000\n",
       "50%        252.515000\n",
       "75%        319.485000\n",
       "max        741.980000\n",
       "Name: time_spent, dtype: float64"
      ]
     },
     "execution_count": 57,
     "metadata": {},
     "output_type": "execute_result"
    }
   ],
   "source": [
    "game_actions.groupby(['user_type', 'user_id'])['time_spent'].max().describe()"
   ]
  },
  {
   "cell_type": "code",
   "execution_count": 58,
   "metadata": {},
   "outputs": [
    {
     "name": "stdout",
     "output_type": "stream",
     "text": [
      "В среднем пользователи проводят в игре 256.22 часов\n"
     ]
    }
   ],
   "source": [
    "print('В среднем пользователи проводят в игре {:.2f} часов'.format(game_actions.groupby(['user_type', 'user_id'])['time_spent'].max().mean()))"
   ]
  },
  {
   "cell_type": "code",
   "execution_count": 59,
   "metadata": {},
   "outputs": [
    {
     "data": {
      "text/plain": [
       "count    7759.000000\n",
       "mean      234.916182\n",
       "std       104.267020\n",
       "min         0.000000\n",
       "25%       159.005000\n",
       "50%       230.580000\n",
       "75%       299.250000\n",
       "max       698.020000\n",
       "Name: time_spent, dtype: float64"
      ]
     },
     "execution_count": 59,
     "metadata": {},
     "output_type": "execute_result"
    }
   ],
   "source": [
    "game_actions[game_actions.user_type == 'not_finished'].groupby('user_id')['time_spent'].max().describe()"
   ]
  },
  {
   "cell_type": "code",
   "execution_count": 60,
   "metadata": {},
   "outputs": [
    {
     "data": {
      "text/plain": [
       "count    5817.000000\n",
       "mean      284.633208\n",
       "std        97.625838\n",
       "min         9.650000\n",
       "25%       221.220000\n",
       "50%       277.480000\n",
       "75%       341.250000\n",
       "max       741.980000\n",
       "Name: time_spent, dtype: float64"
      ]
     },
     "execution_count": 60,
     "metadata": {},
     "output_type": "execute_result"
    }
   ],
   "source": [
    "game_actions[finish_conds].groupby('user_id')['time_spent'].max().describe()"
   ]
  },
  {
   "cell_type": "markdown",
   "metadata": {},
   "source": [
    "При этом, среднее время, затраченное на игру у тех, кто так и не завершил уровень, не так уж и сильно отличается от завершивших. Нужно подробнее изучить, почему пользователи так и не закончили 1 уровень"
   ]
  },
  {
   "cell_type": "code",
   "execution_count": 61,
   "metadata": {},
   "outputs": [],
   "source": [
    "def histplt(data, Y, TITLE, XLABEL, YLABEL, ALPHA):\n",
    "    ax = data.plot(y = Y, kind = 'hist', bins = 20, figsize = (9, 9), title = TITLE, alpha = ALPHA)\n",
    "    ax.set_xlabel(XLABEL, fontsize = 15)\n",
    "    ax.set_ylabel(YLABEL, fontsize = 15)\n",
    "    plt.show()"
   ]
  },
  {
   "cell_type": "code",
   "execution_count": 62,
   "metadata": {},
   "outputs": [
    {
     "data": {
      "image/png": "[encoded data removed]",
      "text/plain": [
       "<Figure size 648x648 with 1 Axes>"
      ]
     },
     "metadata": {},
     "output_type": "display_data"
    }
   ],
   "source": [
    "histplt(game_actions.groupby('user_id')['time_spent'].max(), \n",
    "        'time_spent', \n",
    "        'Время, потраченное в игре (часы)', \n",
    "        'кол-во часов', \n",
    "        'пользователи',\n",
    "       1)"
   ]
  },
  {
   "cell_type": "markdown",
   "metadata": {},
   "source": [
    "Посмотрим, как выглядит это распределение для тех, кто завершил 1 уровень, а так же в разбивке на тип пользователя и источник привлечения"
   ]
  },
  {
   "cell_type": "code",
   "execution_count": 63,
   "metadata": {},
   "outputs": [
    {
     "data": {
      "image/png": "[encoded data removed]",
      "text/plain": [
       "<Figure size 648x648 with 1 Axes>"
      ]
     },
     "metadata": {},
     "output_type": "display_data"
    }
   ],
   "source": [
    "histplt(game_actions[finish_conds].groupby('user_id')['time_spent'].max(), \n",
    "        'time_spent', \n",
    "        'Кол-во потраченных часов на завершение 1 уровня', \n",
    "        'кол-во часов', \n",
    "        'пользователи',\n",
    "       1)"
   ]
  },
  {
   "cell_type": "code",
   "execution_count": 64,
   "metadata": {},
   "outputs": [
    {
     "data": {
      "image/png": "[encoded data removed]",
      "text/plain": [
       "<Figure size 648x648 with 1 Axes>"
      ]
     },
     "metadata": {},
     "output_type": "display_data"
    }
   ],
   "source": [
    "for each in ['builder', 'warrior']:\n",
    "    time_spent_hist = game_actions[game_actions.user_type == each].groupby('user_id')['time_spent'].max().plot(y = 'time_spent', kind = 'hist', bins = 20, alpha = 0.4, label = each, figsize = (9, 9), title = 'Кол-во потраченных на завершение 1 уровня')\n",
    "    time_spent_hist.set_xlabel('кол-во часов', fontsize = 15)\n",
    "    time_spent_hist.set_ylabel('частота', fontsize = 15)\n",
    "    plt.legend()"
   ]
  },
  {
   "cell_type": "markdown",
   "metadata": {},
   "source": [
    "В целом, распределения выглядят идентично, единственное отличие - у строителей минимальное время прохождения смещено относительно воинов. Это скорее всего связано с тем, что на постройку зданий требуется определенное кол-во времени"
   ]
  },
  {
   "cell_type": "code",
   "execution_count": 65,
   "metadata": {
    "scrolled": false
   },
   "outputs": [
    {
     "data": {
      "image/png": "[encoded data removed]",
      "text/plain": [
       "<Figure size 648x648 with 1 Axes>"
      ]
     },
     "metadata": {},
     "output_type": "display_data"
    }
   ],
   "source": [
    "for each in game_actions.source.unique():\n",
    "    time_spent_hist = game_actions[(finish_conds) & (game_actions.source == each)].groupby('user_id')['time_spent'].max().plot(y = 'time_spent', kind = 'hist', bins = 20, alpha = 0.2, label = each, figsize = (9, 9), title = 'Кол-во потраченных на завершение 1 уровня')\n",
    "    time_spent_hist.set_xlabel('кол-во часов', fontsize = 15)\n",
    "    time_spent_hist.set_ylabel('частота', fontsize = 15)\n",
    "    plt.legend()"
   ]
  },
  {
   "cell_type": "markdown",
   "metadata": {},
   "source": [
    "Вне зависимости от источника привелечения, пользователи проводят примерно одинковое кол-во времени в игре"
   ]
  },
  {
   "cell_type": "markdown",
   "metadata": {},
   "source": [
    "##### Посмотрим, сколько было затрачено на привлечение"
   ]
  },
  {
   "cell_type": "code",
   "execution_count": 66,
   "metadata": {},
   "outputs": [
    {
     "data": {
      "text/html": [
       "<div>\n",
       "<style scoped>\n",
       "    .dataframe tbody tr th:only-of-type {\n",
       "        vertical-align: middle;\n",
       "    }\n",
       "\n",
       "    .dataframe tbody tr th {\n",
       "        vertical-align: top;\n",
       "    }\n",
       "\n",
       "    .dataframe thead th {\n",
       "        text-align: right;\n",
       "    }\n",
       "</style>\n",
       "<table border=\"1\" class=\"dataframe\">\n",
       "  <thead>\n",
       "    <tr style=\"text-align: right;\">\n",
       "      <th></th>\n",
       "      <th>source</th>\n",
       "      <th>day</th>\n",
       "      <th>cost</th>\n",
       "      <th>date</th>\n",
       "      <th>shifted_date</th>\n",
       "    </tr>\n",
       "  </thead>\n",
       "  <tbody>\n",
       "    <tr>\n",
       "      <td>0</td>\n",
       "      <td>facebook_ads</td>\n",
       "      <td>2020-05-03</td>\n",
       "      <td>935.882786</td>\n",
       "      <td>2020-05-03</td>\n",
       "      <td>2020-05-04</td>\n",
       "    </tr>\n",
       "    <tr>\n",
       "      <td>1</td>\n",
       "      <td>facebook_ads</td>\n",
       "      <td>2020-05-04</td>\n",
       "      <td>548.354480</td>\n",
       "      <td>2020-05-04</td>\n",
       "      <td>2020-05-05</td>\n",
       "    </tr>\n",
       "    <tr>\n",
       "      <td>2</td>\n",
       "      <td>facebook_ads</td>\n",
       "      <td>2020-05-05</td>\n",
       "      <td>260.185754</td>\n",
       "      <td>2020-05-05</td>\n",
       "      <td>2020-05-06</td>\n",
       "    </tr>\n",
       "    <tr>\n",
       "      <td>3</td>\n",
       "      <td>facebook_ads</td>\n",
       "      <td>2020-05-06</td>\n",
       "      <td>177.982200</td>\n",
       "      <td>2020-05-06</td>\n",
       "      <td>2020-05-07</td>\n",
       "    </tr>\n",
       "    <tr>\n",
       "      <td>4</td>\n",
       "      <td>facebook_ads</td>\n",
       "      <td>2020-05-07</td>\n",
       "      <td>111.766796</td>\n",
       "      <td>2020-05-07</td>\n",
       "      <td>2020-05-08</td>\n",
       "    </tr>\n",
       "  </tbody>\n",
       "</table>\n",
       "</div>"
      ],
      "text/plain": [
       "         source         day        cost       date shifted_date\n",
       "0  facebook_ads  2020-05-03  935.882786 2020-05-03   2020-05-04\n",
       "1  facebook_ads  2020-05-04  548.354480 2020-05-04   2020-05-05\n",
       "2  facebook_ads  2020-05-05  260.185754 2020-05-05   2020-05-06\n",
       "3  facebook_ads  2020-05-06  177.982200 2020-05-06   2020-05-07\n",
       "4  facebook_ads  2020-05-07  111.766796 2020-05-07   2020-05-08"
      ]
     },
     "execution_count": 66,
     "metadata": {},
     "output_type": "execute_result"
    }
   ],
   "source": [
    "ad_costs.head()"
   ]
  },
  {
   "cell_type": "code",
   "execution_count": 67,
   "metadata": {
    "scrolled": false
   },
   "outputs": [
    {
     "data": {
      "image/png": "[encoded data removed]",
      "text/plain": [
       "<Figure size 720x432 with 1 Axes>"
      ]
     },
     "metadata": {},
     "output_type": "display_data"
    }
   ],
   "source": [
    "barplt('source', 'cost', \n",
    "        ad_costs.groupby('source')['cost'].sum().reset_index(), \n",
    "        None,\n",
    "        \"Затраты на каждый источник\",\n",
    "        \"Источник\",\n",
    "        \"Затраты (д.е.)\",\n",
    "        'f')"
   ]
  },
  {
   "cell_type": "markdown",
   "metadata": {},
   "source": [
    "Меньше всего было потрачено на Ютьюб. Причем значительно, в 2 раза меньше. Но и пользователей оттуда пришло меньше, чем из других источников. Посмотрим, сколько стоил один привлеченный игрок для каждой платформы"
   ]
  },
  {
   "cell_type": "code",
   "execution_count": 68,
   "metadata": {},
   "outputs": [
    {
     "data": {
      "text/html": [
       "<div>\n",
       "<style scoped>\n",
       "    .dataframe tbody tr th:only-of-type {\n",
       "        vertical-align: middle;\n",
       "    }\n",
       "\n",
       "    .dataframe tbody tr th {\n",
       "        vertical-align: top;\n",
       "    }\n",
       "\n",
       "    .dataframe thead th {\n",
       "        text-align: right;\n",
       "    }\n",
       "</style>\n",
       "<table border=\"1\" class=\"dataframe\">\n",
       "  <thead>\n",
       "    <tr style=\"text-align: right;\">\n",
       "      <th></th>\n",
       "      <th>source</th>\n",
       "      <th>cost</th>\n",
       "      <th>user_id</th>\n",
       "    </tr>\n",
       "  </thead>\n",
       "  <tbody>\n",
       "    <tr>\n",
       "      <td>0</td>\n",
       "      <td>facebook_ads</td>\n",
       "      <td>2140.904643</td>\n",
       "      <td>2726</td>\n",
       "    </tr>\n",
       "    <tr>\n",
       "      <td>1</td>\n",
       "      <td>instagram_new_adverts</td>\n",
       "      <td>2161.441691</td>\n",
       "      <td>3347</td>\n",
       "    </tr>\n",
       "    <tr>\n",
       "      <td>2</td>\n",
       "      <td>yandex_direct</td>\n",
       "      <td>2233.111449</td>\n",
       "      <td>4817</td>\n",
       "    </tr>\n",
       "    <tr>\n",
       "      <td>3</td>\n",
       "      <td>youtube_channel_reklama</td>\n",
       "      <td>1068.119204</td>\n",
       "      <td>2686</td>\n",
       "    </tr>\n",
       "  </tbody>\n",
       "</table>\n",
       "</div>"
      ],
      "text/plain": [
       "                    source         cost  user_id\n",
       "0             facebook_ads  2140.904643     2726\n",
       "1    instagram_new_adverts  2161.441691     3347\n",
       "2            yandex_direct  2233.111449     4817\n",
       "3  youtube_channel_reklama  1068.119204     2686"
      ]
     },
     "execution_count": 68,
     "metadata": {},
     "output_type": "execute_result"
    }
   ],
   "source": [
    "cac = ad_costs.groupby('source').agg({'cost': 'sum'}).reset_index().merge(game_actions.groupby('source')['user_id'].nunique().reset_index(), on = 'source')\n",
    "cac"
   ]
  },
  {
   "cell_type": "code",
   "execution_count": 69,
   "metadata": {},
   "outputs": [
    {
     "data": {
      "text/plain": [
       "13576"
      ]
     },
     "execution_count": 69,
     "metadata": {},
     "output_type": "execute_result"
    }
   ],
   "source": [
    "#проверяем, сходится ли общее кол-во пользователей\n",
    "cac.user_id.sum()"
   ]
  },
  {
   "cell_type": "code",
   "execution_count": 70,
   "metadata": {},
   "outputs": [
    {
     "data": {
      "text/html": [
       "<div>\n",
       "<style scoped>\n",
       "    .dataframe tbody tr th:only-of-type {\n",
       "        vertical-align: middle;\n",
       "    }\n",
       "\n",
       "    .dataframe tbody tr th {\n",
       "        vertical-align: top;\n",
       "    }\n",
       "\n",
       "    .dataframe thead th {\n",
       "        text-align: right;\n",
       "    }\n",
       "</style>\n",
       "<table border=\"1\" class=\"dataframe\">\n",
       "  <thead>\n",
       "    <tr style=\"text-align: right;\">\n",
       "      <th></th>\n",
       "      <th>source</th>\n",
       "      <th>cost</th>\n",
       "      <th>user_id</th>\n",
       "      <th>cac</th>\n",
       "    </tr>\n",
       "  </thead>\n",
       "  <tbody>\n",
       "    <tr>\n",
       "      <td>0</td>\n",
       "      <td>facebook_ads</td>\n",
       "      <td>2140.904643</td>\n",
       "      <td>2726</td>\n",
       "      <td>0.785365</td>\n",
       "    </tr>\n",
       "    <tr>\n",
       "      <td>1</td>\n",
       "      <td>instagram_new_adverts</td>\n",
       "      <td>2161.441691</td>\n",
       "      <td>3347</td>\n",
       "      <td>0.645785</td>\n",
       "    </tr>\n",
       "    <tr>\n",
       "      <td>2</td>\n",
       "      <td>yandex_direct</td>\n",
       "      <td>2233.111449</td>\n",
       "      <td>4817</td>\n",
       "      <td>0.463590</td>\n",
       "    </tr>\n",
       "    <tr>\n",
       "      <td>3</td>\n",
       "      <td>youtube_channel_reklama</td>\n",
       "      <td>1068.119204</td>\n",
       "      <td>2686</td>\n",
       "      <td>0.397662</td>\n",
       "    </tr>\n",
       "  </tbody>\n",
       "</table>\n",
       "</div>"
      ],
      "text/plain": [
       "                    source         cost  user_id       cac\n",
       "0             facebook_ads  2140.904643     2726  0.785365\n",
       "1    instagram_new_adverts  2161.441691     3347  0.645785\n",
       "2            yandex_direct  2233.111449     4817  0.463590\n",
       "3  youtube_channel_reklama  1068.119204     2686  0.397662"
      ]
     },
     "execution_count": 70,
     "metadata": {},
     "output_type": "execute_result"
    }
   ],
   "source": [
    "cac['cac'] = cac['cost'] / cac['user_id']\n",
    "cac"
   ]
  },
  {
   "cell_type": "code",
   "execution_count": 71,
   "metadata": {},
   "outputs": [
    {
     "data": {
      "text/plain": [
       "Text(0, 0.5, 'CAC')"
      ]
     },
     "execution_count": 71,
     "metadata": {},
     "output_type": "execute_result"
    },
    {
     "data": {
      "image/png": "[encoded data removed]",
      "text/plain": [
       "<Figure size 576x432 with 1 Axes>"
      ]
     },
     "metadata": {},
     "output_type": "display_data"
    }
   ],
   "source": [
    "bar,ax = plt.subplots(figsize=(8,6))\n",
    "ax = sns.barplot(x = 'source', y = 'cac', data=cac, ci=None, palette=\"muted\",orient='v')\n",
    "ax.set_title('CAC по каждому источнику', fontsize=15)\n",
    "ax.set_xlabel ('источник', fontsize=15)\n",
    "ax.set_ylabel ('CAC', fontsize=15)\n"
   ]
  },
  {
   "cell_type": "markdown",
   "metadata": {},
   "source": [
    "Для Ютьюба привлечение оказалось более дешевым в сравнении с другими источниками. Самый дорогой - Фейсбук, в 2 раза дороже Ютьюба"
   ]
  },
  {
   "cell_type": "markdown",
   "metadata": {},
   "source": [
    "Проведенный анализ показывает, что поведение пользователей не сильно отличается от источника, из которого они пришли в игру. Деление на воинов и строителей примерно одинаково, кол-во построенных зданий - тоже. Распределение времени, затраченного на игру тоже совпадает. Основное отличие - кол-во зданий, которое возводят в процессе игры пользователи, выбирающие стратегию строительство, больше, чем у \"воинов\". При этом затраты на привлечение сильно отличаются. Поэтому, выгоднее больше делать упор на тот источник, где привлечение 1 игрока дешевле, а это Ютуб"
   ]
  },
  {
   "cell_type": "markdown",
   "metadata": {},
   "source": [
    "# 3. Проверка гипотез <a name=\"гипотезы\"></a>"
   ]
  },
  {
   "cell_type": "markdown",
   "metadata": {},
   "source": [
    "### Проверим гипотезу о равенстве времени завершения уровня у строителей и воинов"
   ]
  },
  {
   "cell_type": "markdown",
   "metadata": {},
   "source": [
    "**Нулевая гипотеза**: время завершения уровня *не отличается* в зависимости от способа прохождения\n",
    "**Альтернативная гипотеза**: время завершения уровня *различается* в зависимости от способа прохождения "
   ]
  },
  {
   "cell_type": "code",
   "execution_count": 72,
   "metadata": {},
   "outputs": [
    {
     "name": "stdout",
     "output_type": "stream",
     "text": [
      "p-значение: 5.705226568775549e-107\n",
      "Отвергаем нулевую гипотезу\n"
     ]
    }
   ],
   "source": [
    "alpha = .05\n",
    "results = st.ttest_ind(\n",
    "    game_actions[game_actions.user_type == 'builder'].groupby('user_id')['time_spent'].max(), \n",
    "    game_actions[game_actions.user_type == 'warrior'].groupby('user_id')['time_spent'].max(), \n",
    "    equal_var = False)\n",
    "\n",
    "print('p-значение:', results.pvalue)\n",
    "\n",
    "if (results.pvalue < alpha):\n",
    "    print(\"Отвергаем нулевую гипотезу\")\n",
    "else:\n",
    "    print(\"Не получилось отвергнуть нулевую гипотезу\") "
   ]
  },
  {
   "cell_type": "markdown",
   "metadata": {},
   "source": [
    "Нулевую гипотезу отвергаем, поэтому есть основания полагать, что время завершения уровня все же отличается у строителей и воинов. На графике распределение было примерно одинаково, но с учетом того, что постройка требует времени, воины, бывает, успевают закончить быстрее. "
   ]
  },
  {
   "cell_type": "code",
   "execution_count": 73,
   "metadata": {},
   "outputs": [
    {
     "name": "stdout",
     "output_type": "stream",
     "text": [
      "среднее кол-во часов, потраченное \"строителями\" на завершение уровня составляет: 323.01\n",
      "среднее кол-во часов, потраченное \"воинами\" на завершение уровня составляет: 266.51\n",
      "разница составляет: 56.51 часов\n"
     ]
    }
   ],
   "source": [
    "print('среднее кол-во часов, потраченное \"строителями\" на завершение уровня составляет: {:.2f}'.format(game_actions[game_actions.user_type == 'builder'].groupby('user_id')['time_spent'].max().mean()))\n",
    "print('среднее кол-во часов, потраченное \"воинами\" на завершение уровня составляет: {:.2f}'.format(game_actions[game_actions.user_type == 'warrior'].groupby('user_id')['time_spent'].max().mean()))\n",
    "\n",
    "print('разница составляет: {:.2f} часов'.format(game_actions[game_actions.user_type == 'builder'].groupby('user_id')['time_spent'].max().mean() - game_actions[game_actions.user_type == 'warrior'].groupby('user_id')['time_spent'].max().mean()))"
   ]
  },
  {
   "cell_type": "markdown",
   "metadata": {},
   "source": [
    "Так как, судя по графикам, кол-во людей, прошедших 1 уровень, не сильно разнится в зависимости от рекламных источников, но затраты на рекламный источник Youtube существенно ниже, чем на Facebook, то стоит проверить статистическую значимость различий между этими двумя источниками."
   ]
  },
  {
   "cell_type": "markdown",
   "metadata": {},
   "source": [
    "**Нулевая гипотеза**: доля людей, завершивших первый уровень, не отличается среди тех, кто пришел из facebook и youtube  \n",
    "**Альтернативная гипотеза**: доля людей, завершивших первый уровень, различается среди тех, кто пришел из facebook и youtube"
   ]
  },
  {
   "cell_type": "code",
   "execution_count": 74,
   "metadata": {},
   "outputs": [
    {
     "data": {
      "text/plain": [
       "source\n",
       "facebook_ads               1150\n",
       "youtube_channel_reklama    1159\n",
       "Name: user_id, dtype: int64"
      ]
     },
     "execution_count": 74,
     "metadata": {},
     "output_type": "execute_result"
    }
   ],
   "source": [
    "game_actions[(finish_conds) & (game_actions.source.isin(['facebook_ads', 'youtube_channel_reklama']))].groupby('source')['user_id'].nunique()"
   ]
  },
  {
   "cell_type": "code",
   "execution_count": 75,
   "metadata": {},
   "outputs": [
    {
     "data": {
      "text/plain": [
       "array([1150, 1159])"
      ]
     },
     "execution_count": 75,
     "metadata": {},
     "output_type": "execute_result"
    }
   ],
   "source": [
    "np.array(game_actions[(finish_conds) & (game_actions.source.isin(['facebook_ads', 'youtube_channel_reklama']))].groupby('source')['user_id'].nunique())"
   ]
  },
  {
   "cell_type": "code",
   "execution_count": 76,
   "metadata": {},
   "outputs": [
    {
     "data": {
      "text/plain": [
       "array([2726, 2686])"
      ]
     },
     "execution_count": 76,
     "metadata": {},
     "output_type": "execute_result"
    }
   ],
   "source": [
    "np.array(game_actions[game_actions.source.isin(['facebook_ads', 'youtube_channel_reklama'])].groupby('source')['user_id'].nunique())"
   ]
  },
  {
   "cell_type": "code",
   "execution_count": 77,
   "metadata": {},
   "outputs": [
    {
     "name": "stdout",
     "output_type": "stream",
     "text": [
      "p-значение:  0.4737412931629539\n",
      "Не получилось отвергнуть нулевую гипотезу, нет оснований считать доли разными\n"
     ]
    }
   ],
   "source": [
    "alpha = .05 # критический уровень статистической значимости\n",
    "\n",
    "successes = np.array(game_actions[(finish_conds) & (game_actions.source.isin(['facebook_ads', 'youtube_channel_reklama']))].groupby('source')['user_id'].nunique())\n",
    "trials = np.array(game_actions[game_actions.source.isin(['facebook_ads', 'youtube_channel_reklama'])].groupby('source')['user_id'].nunique())\n",
    "\n",
    "# пропорция успехов в первой группе:\n",
    "p1 = successes[0]/trials[0]\n",
    "\n",
    "# пропорция успехов во второй группе:\n",
    "p2 = successes[1]/trials[1]\n",
    "\n",
    "# пропорция успехов в комбинированном датасете:\n",
    "p_combined = (successes[0] + successes[1]) / (trials[0] + trials[1])\n",
    "\n",
    "# разница пропорций в датасетах\n",
    "difference = p1 - p2 \n",
    "\n",
    "# считаем статистику в ст.отклонениях стандартного нормального распределения\n",
    "z_value = difference / mth.sqrt(p_combined * (1 - p_combined) * (1/trials[0] + 1/trials[1]))\n",
    "\n",
    "# задаем стандартное нормальное распределение (среднее 0, ст.отклонение 1)\n",
    "distr = st.norm(0, 1)  \n",
    "\n",
    "# считаем статистику в ст.отклонениях стандартного нормального распределения\n",
    "z_value = difference / mth.sqrt(\n",
    "    p_combined * (1 - p_combined) * (1 / trials[0] + 1 / trials[1])\n",
    ")\n",
    "\n",
    "# задаем стандартное нормальное распределение (среднее 0, ст.отклонение 1)\n",
    "distr = st.norm(0, 1)\n",
    "\n",
    "p_value = (1 - distr.cdf(abs(z_value))) * 2\n",
    "\n",
    "print('p-значение: ', p_value)\n",
    "\n",
    "if p_value < alpha:\n",
    "    print('Отвергаем нулевую гипотезу: между долями есть значимая разница')\n",
    "else:\n",
    "    print(\n",
    "        'Не получилось отвергнуть нулевую гипотезу, нет оснований считать доли разными'\n",
    "    ) "
   ]
  },
  {
   "cell_type": "markdown",
   "metadata": {},
   "source": [
    "На основании проведенного теста нет оснований полагать, что доля людей, завершивших первый уровень, отличается среди тех, кто пришел из facebook и youtube. То же самое было видно и по графикам."
   ]
  },
  {
   "cell_type": "markdown",
   "metadata": {},
   "source": [
    "# 4. Выводы <a name=\"вывод\"></a>"
   ]
  },
  {
   "cell_type": "markdown",
   "metadata": {},
   "source": [
    "Были проанализированны данные по поведению пользователей мобильной игры.\n",
    "- Игроки привлечены из **4** разных источников \n",
    "- когорта с **4 по 10 мая**. \n",
    "- Всего привлечено **13576** игроков: \n",
    "    - ***35,5%*** с *Яндекс.Директа*, \n",
    "    - ***24.6%*** с *Инстаграма*, \n",
    "    - ***20%*** с *Фейсбука* \n",
    "    - ***19.8%*** с *Ютьюба*.    \n",
    "\n",
    "В ходе исследования выяснилось:\n",
    "- игроки проводят в игре в среднем **256** часов, \n",
    "- кол-во затраченного времени *примерно одинаково по всем источникам* \n",
    "- строители и воины тратят разное время на прохождение уровня (***321*** и ***266*** часов)  \n",
    "\n",
    "В целом, игроки показывают *сравнительно похожую модель поведения, вне зависимости от платформы*, с которой они пришли: \n",
    "- **\"воинов\" в 2 раза больше**, чем \"строителей\",\n",
    "- *здания в среднем игроки строят одинаковое кол-во*\n",
    "- строители строят больше зданий \n",
    "- *% игроков, завершивших 1 уровень примерно одинаков* и составляет **42-44%**. \n",
    "\n",
    "При этом, затраты на источники очень разнятся:\n",
    "- *затраты на привлечение* из Фейсбука в *2 раза* дороже Ютьюба\n",
    "- нет оснований полагать, что доли игроков, пришедших с этих платформ и завершивших 1 уровень различаются. \n",
    "- Ютьюб самый дешевый источник \n",
    "\n",
    "***Рекомендации***:\n",
    "- делать упор на привлечение игроков с Ютьюба\n",
    "- характер рекламных кампаний можно направить в сторону более \"воинственных\" игроков\n",
    "- узнать, почему многие игроки, проведя более 200 часов в игре так и не завершают 1 уровень\n",
    "\n"
   ]
  },
  {
   "cell_type": "code",
   "execution_count": null,
   "metadata": {},
   "outputs": [],
   "source": []
  }
 ],
 "metadata": {
  "kernelspec": {
   "display_name": "Python 3",
   "language": "python",
   "name": "python3"
  },
  "language_info": {
   "codemirror_mode": {
    "name": "ipython",
    "version": 3
   },
   "file_extension": ".py",
   "mimetype": "text/x-python",
   "name": "python",
   "nbconvert_exporter": "python",
   "pygments_lexer": "ipython3",
   "version": "3.7.8"
  },
  "toc": {
   "base_numbering": 1,
   "nav_menu": {},
   "number_sections": false,
   "sideBar": true,
   "skip_h1_title": true,
   "title_cell": "Table of Contents",
   "title_sidebar": "Contents",
   "toc_cell": false,
   "toc_position": {},
   "toc_section_display": true,
   "toc_window_display": false
  }
 },
 "nbformat": 4,
 "nbformat_minor": 2
}
